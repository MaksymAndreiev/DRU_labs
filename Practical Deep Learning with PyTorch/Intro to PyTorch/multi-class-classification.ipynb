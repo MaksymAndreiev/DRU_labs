{
 "cells": [
  {
   "cell_type": "markdown",
   "metadata": {
    "id": "QAEMTesGDH5c"
   },
   "source": [
    "# Multiclass Classification Problem \n",
    "\n",
    "Hey! Welcome to your next lab. Here you will implement a neural network for a multiclass classification problem.\n",
    "\n",
    "**Requirements**\n",
    "- Although it's not mandatory, we highly recommend that you complete Binary Classification Lab before working on this one.\n",
    "\n",
    "**Instructions**\n",
    "- Write code in the space indicated with `### START CODE HERE ###`\n",
    "- Do not use loops (for/while) unless instructions explicitly tell you so. Parallelization in Deep Learning is key!\n",
    "- If you get stuck, ask for help in Slack or DM `@DRU Team`\n",
    "\n",
    "**You will learn**\n",
    "- How to implement a Neural Network for multiclass classification \n",
    "    - How to balance the loss for more optimal training\n",
    "    - How to evaluate the model with imbalanced classes\n",
    "    - How to train and test a multiclass classification Neural Network\n"
   ]
  },
  {
   "cell_type": "markdown",
   "metadata": {},
   "source": [
    "# 0 - Download data"
   ]
  },
  {
   "cell_type": "code",
   "execution_count": 1,
   "metadata": {
    "ExecuteTime": {
     "end_time": "2024-05-06T02:16:58.811590Z",
     "start_time": "2024-05-06T02:16:57.485297Z"
    }
   },
   "outputs": [
    {
     "name": "stdout",
     "output_type": "stream",
     "text": [
      "Requirement already satisfied: wget in c:\\users\\maxog\\pycharmprojects\\dru_labs\\.venv\\lib\\site-packages (3.2)\n"
     ]
    }
   ],
   "source": [
    "!pip install wget\n",
    "import wget \n",
    "wget.download('https://dru.fra1.digitaloceanspaces.com/DL_pytorch/static/2_pytorch/multi_class_classification/template.zip', 'template.zip')\n",
    "!unzip -q 'template.zip'"
   ]
  },
  {
   "cell_type": "markdown",
   "metadata": {
    "id": "73sXz1P8-wz9"
   },
   "source": [
    "# 1 - Import packages and set up the environment\n",
    "\n",
    "Here we will import a regular set of packages with a few additional ones.\n",
    "\n",
    "- [pandas](https://pandas.pydata.org/docs/index.html) is one of the most popular Python packages for tabular data\n",
    "- [seaborn](https://seaborn.pydata.org/) a package built on `matplotlib`, which provides some useful high-level functionality for graphing"
   ]
  },
  {
   "cell_type": "code",
   "execution_count": 2,
   "metadata": {
    "executionInfo": {
     "elapsed": 4949,
     "status": "ok",
     "timestamp": 1627470549596,
     "user": {
      "displayName": "Andrii Torchylo",
      "photoUrl": "https://lh3.googleusercontent.com/a-/AOh14GhSHrfnmdTTqVlYK2P7--1l4ZmX3cOVoOKBaF_X1350AUh2Hw-8iexkcrw8f0ZguHYPkxchVQLN4vvFJszxMYEoL3-yzEGhPohOED0sx5u7EKK9hJMhHM1JbbPjghCnglL0Zz_at07ZMcLoOO3ONUTdLXUSNXEL7lAbCxGUoZ1-yJacKjS7ciUGudy61oEhf-Gn3oe6uX114ytnI2drWjWFayaDYlELr0eZv5abp2N5dD_eGk1Zma2lw9SpXJvU-JSXtBDhuTPWnw1psc814VDr2LIA8Azo6GVmuZw6YwiaLeEXSe6FodCBvHnPEbjRW2udYaElua_VOlF3JC-OwnNwfPA3gkurKjo3UwM5lq2uCXfydPxBdCFV9SHqFA5b0cbb8botQg1gTZpFdKcbz3fvlT3xCwS-EVsZ7H-ilkJ99Aak2EekfG8AWQH6RXcaqmpByiC0SKnFZtaoj4KfBYW1-hv-VGj43OGPPTbwYY_Hdf-zWIYDwK2fpDO7-QRHuKpfVVs2kKVgpnMH9klcNQpHBRiD4nlvjOtQvcVdr-ks-SebzdTHtNkDNqH1fT6JHoStV6QuOQ35RhL54wgdcac32pPnM9ZiMLJ30OYjCJZT0k-ZdYICDM41dFY6pEL20fdcH1ZtsNd_ziV127kXncpeEeIuKNeo5FBdCxGLDBEXPeV43pGlCBIxQLD-Ld3d36ZP6S9Hq6WJOzAKMROS60zHEYcNogfleMoith6gqSrIaSSw39Kb32Q55BISBFn7-FIOdQ=s64",
      "userId": "18357331370165036741"
     },
     "user_tz": -180
    },
    "id": "N6Q_yNxq2E_F",
    "ExecuteTime": {
     "end_time": "2024-05-06T02:17:00.540954Z",
     "start_time": "2024-05-06T02:16:58.812689Z"
    }
   },
   "outputs": [],
   "source": [
    "import pandas as pd\n",
    "import numpy as np\n",
    "\n",
    "from sklearn.model_selection import train_test_split\n",
    "from sklearn.metrics import confusion_matrix\n",
    "\n",
    "import matplotlib.pyplot as plt\n",
    "import seaborn as sns\n",
    "\n",
    "import torch\n",
    "from torch import nn\n",
    "from torch import optim\n",
    "\n",
    "%matplotlib inline"
   ]
  },
  {
   "cell_type": "markdown",
   "metadata": {
    "id": "8_PGDegmjeJP"
   },
   "source": [
    "## Configs\n",
    "\n",
    "Here is our regular Config class. We define few constants like `num_classes` and `input_dim` to simplify building the network architecture.<br>\n",
    "**Please note** that `classes` is a `tuple`, not a `list`, because we are not going to modify this variable anywhere in our code."
   ]
  },
  {
   "cell_type": "code",
   "execution_count": 3,
   "metadata": {
    "executionInfo": {
     "elapsed": 247,
     "status": "ok",
     "timestamp": 1627470576711,
     "user": {
      "displayName": "Andrii Torchylo",
      "photoUrl": "https://lh3.googleusercontent.com/a-/AOh14GhSHrfnmdTTqVlYK2P7--1l4ZmX3cOVoOKBaF_X1350AUh2Hw-8iexkcrw8f0ZguHYPkxchVQLN4vvFJszxMYEoL3-yzEGhPohOED0sx5u7EKK9hJMhHM1JbbPjghCnglL0Zz_at07ZMcLoOO3ONUTdLXUSNXEL7lAbCxGUoZ1-yJacKjS7ciUGudy61oEhf-Gn3oe6uX114ytnI2drWjWFayaDYlELr0eZv5abp2N5dD_eGk1Zma2lw9SpXJvU-JSXtBDhuTPWnw1psc814VDr2LIA8Azo6GVmuZw6YwiaLeEXSe6FodCBvHnPEbjRW2udYaElua_VOlF3JC-OwnNwfPA3gkurKjo3UwM5lq2uCXfydPxBdCFV9SHqFA5b0cbb8botQg1gTZpFdKcbz3fvlT3xCwS-EVsZ7H-ilkJ99Aak2EekfG8AWQH6RXcaqmpByiC0SKnFZtaoj4KfBYW1-hv-VGj43OGPPTbwYY_Hdf-zWIYDwK2fpDO7-QRHuKpfVVs2kKVgpnMH9klcNQpHBRiD4nlvjOtQvcVdr-ks-SebzdTHtNkDNqH1fT6JHoStV6QuOQ35RhL54wgdcac32pPnM9ZiMLJ30OYjCJZT0k-ZdYICDM41dFY6pEL20fdcH1ZtsNd_ziV127kXncpeEeIuKNeo5FBdCxGLDBEXPeV43pGlCBIxQLD-Ld3d36ZP6S9Hq6WJOzAKMROS60zHEYcNogfleMoith6gqSrIaSSw39Kb32Q55BISBFn7-FIOdQ=s64",
      "userId": "18357331370165036741"
     },
     "user_tz": -180
    },
    "id": "E36O4iLMGbht",
    "ExecuteTime": {
     "end_time": "2024-05-06T02:17:00.556224Z",
     "start_time": "2024-05-06T02:17:00.543022Z"
    }
   },
   "outputs": [],
   "source": [
    "# VALIDATION_FIELD[cls] Config\n",
    "\n",
    "class Config:\n",
    "    # data \n",
    "    test_size = 0.33\n",
    "    classes = ('Mammal', 'Bird', 'Reptile', \n",
    "            'Fish', 'Amphibian', 'Bug', 'Invertebrate')\n",
    "    # model\n",
    "    num_classes = 7\n",
    "    input_dim = 16\n",
    "    hidden_dims = (64, 32)\n",
    "\n",
    "    # training\n",
    "    seed = 21\n",
    "    batch_size = 8\n",
    "    epochs = 10\n",
    "    learning_rate = 0.01\n",
    "    device = torch.device('cuda') if torch.cuda.is_available() else torch.device('cpu') "
   ]
  },
  {
   "cell_type": "code",
   "execution_count": 4,
   "metadata": {
    "executionInfo": {
     "elapsed": 240,
     "status": "ok",
     "timestamp": 1627470590327,
     "user": {
      "displayName": "Andrii Torchylo",
      "photoUrl": "https://lh3.googleusercontent.com/a-/AOh14GhSHrfnmdTTqVlYK2P7--1l4ZmX3cOVoOKBaF_X1350AUh2Hw-8iexkcrw8f0ZguHYPkxchVQLN4vvFJszxMYEoL3-yzEGhPohOED0sx5u7EKK9hJMhHM1JbbPjghCnglL0Zz_at07ZMcLoOO3ONUTdLXUSNXEL7lAbCxGUoZ1-yJacKjS7ciUGudy61oEhf-Gn3oe6uX114ytnI2drWjWFayaDYlELr0eZv5abp2N5dD_eGk1Zma2lw9SpXJvU-JSXtBDhuTPWnw1psc814VDr2LIA8Azo6GVmuZw6YwiaLeEXSe6FodCBvHnPEbjRW2udYaElua_VOlF3JC-OwnNwfPA3gkurKjo3UwM5lq2uCXfydPxBdCFV9SHqFA5b0cbb8botQg1gTZpFdKcbz3fvlT3xCwS-EVsZ7H-ilkJ99Aak2EekfG8AWQH6RXcaqmpByiC0SKnFZtaoj4KfBYW1-hv-VGj43OGPPTbwYY_Hdf-zWIYDwK2fpDO7-QRHuKpfVVs2kKVgpnMH9klcNQpHBRiD4nlvjOtQvcVdr-ks-SebzdTHtNkDNqH1fT6JHoStV6QuOQ35RhL54wgdcac32pPnM9ZiMLJ30OYjCJZT0k-ZdYICDM41dFY6pEL20fdcH1ZtsNd_ziV127kXncpeEeIuKNeo5FBdCxGLDBEXPeV43pGlCBIxQLD-Ld3d36ZP6S9Hq6WJOzAKMROS60zHEYcNogfleMoith6gqSrIaSSw39Kb32Q55BISBFn7-FIOdQ=s64",
      "userId": "18357331370165036741"
     },
     "user_tz": -180
    },
    "id": "0A0JjfTIyrMH",
    "ExecuteTime": {
     "end_time": "2024-05-06T02:17:00.572138Z",
     "start_time": "2024-05-06T02:17:00.557367Z"
    }
   },
   "outputs": [],
   "source": [
    "def set_seed(seed):\n",
    "    np.random.seed(seed)\n",
    "    torch.manual_seed(seed)\n",
    "\n",
    "set_seed(Config.seed)"
   ]
  },
  {
   "cell_type": "markdown",
   "metadata": {
    "id": "S6Lsh8di-0U-"
   },
   "source": [
    "# 2 - Data Preprocessing and visualizations\n",
    "\n",
    "For this lab, we will learn how to classify an animal using 16 categorical features from  [Zoo Animal UCI Machine Learning Dataset](\n",
    "https://www.kaggle.com/uciml/zoo-animal-classification). Here is the description of each feature in the dataset:\n",
    "\n",
    "- animal_name: Unique for each instance\n",
    "- hair Boolean\n",
    "- feathers Boolean\n",
    "- eggs Boolean\n",
    "- milk Boolean\n",
    "- airborne Boolean\n",
    "- aquatic Boolean\n",
    "- predator Boolean\n",
    "- toothed Boolean\n",
    "- backbone Boolean\n",
    "- breathes Boolean\n",
    "- venomous Boolean\n",
    "- fins Boolean\n",
    "- legs Numeric (set of values: {0,2,4,5,6,8})\n",
    "- tail Boolean\n",
    "- domestic Boolean\n",
    "- catsize Boolean\n",
    "- class_type Numeric (integer values in range [1,7])\n",
    "\n",
    "Most of the columns in the dataset are of Boolean type, which means that they contain either 1 (meaning that an animal has the corresponding feature) or 0 (if an animal doesn't have the indicated feature). The exception is `legs,` which is a number from a set `{0,2,4,5,6,8}` representing the number of legs, and `class_type`, which has an integer value from `[1, 7]` range, representing an animal class. <br>\n",
    "\n",
    "We will use all features (except for `animal_name`) to predict the `class_type` of the given animal."
   ]
  },
  {
   "cell_type": "markdown",
   "metadata": {
    "id": "pme86ApYm4fr"
   },
   "source": [
    "## Load the data\n",
    "\n",
    "**Important:** by default CrossEntropyLoss for PyTorch expects target labels to be from a range `[0, num_classes-1]`. So, we subtract 1 from `class_type`column below. Also, we use `startify` parameter in `train_test_split` to ensure that `train` and `test` sets have an equal proportion of classes."
   ]
  },
  {
   "cell_type": "code",
   "execution_count": 5,
   "metadata": {
    "executionInfo": {
     "elapsed": 260,
     "status": "ok",
     "timestamp": 1627470612571,
     "user": {
      "displayName": "Andrii Torchylo",
      "photoUrl": "https://lh3.googleusercontent.com/a-/AOh14GhSHrfnmdTTqVlYK2P7--1l4ZmX3cOVoOKBaF_X1350AUh2Hw-8iexkcrw8f0ZguHYPkxchVQLN4vvFJszxMYEoL3-yzEGhPohOED0sx5u7EKK9hJMhHM1JbbPjghCnglL0Zz_at07ZMcLoOO3ONUTdLXUSNXEL7lAbCxGUoZ1-yJacKjS7ciUGudy61oEhf-Gn3oe6uX114ytnI2drWjWFayaDYlELr0eZv5abp2N5dD_eGk1Zma2lw9SpXJvU-JSXtBDhuTPWnw1psc814VDr2LIA8Azo6GVmuZw6YwiaLeEXSe6FodCBvHnPEbjRW2udYaElua_VOlF3JC-OwnNwfPA3gkurKjo3UwM5lq2uCXfydPxBdCFV9SHqFA5b0cbb8botQg1gTZpFdKcbz3fvlT3xCwS-EVsZ7H-ilkJ99Aak2EekfG8AWQH6RXcaqmpByiC0SKnFZtaoj4KfBYW1-hv-VGj43OGPPTbwYY_Hdf-zWIYDwK2fpDO7-QRHuKpfVVs2kKVgpnMH9klcNQpHBRiD4nlvjOtQvcVdr-ks-SebzdTHtNkDNqH1fT6JHoStV6QuOQ35RhL54wgdcac32pPnM9ZiMLJ30OYjCJZT0k-ZdYICDM41dFY6pEL20fdcH1ZtsNd_ziV127kXncpeEeIuKNeo5FBdCxGLDBEXPeV43pGlCBIxQLD-Ld3d36ZP6S9Hq6WJOzAKMROS60zHEYcNogfleMoith6gqSrIaSSw39Kb32Q55BISBFn7-FIOdQ=s64",
      "userId": "18357331370165036741"
     },
     "user_tz": -180
    },
    "id": "qM_WAad15M7i",
    "ExecuteTime": {
     "end_time": "2024-05-06T02:17:00.587941Z",
     "start_time": "2024-05-06T02:17:00.573176Z"
    }
   },
   "outputs": [],
   "source": [
    "def load_data(test_size=Config.test_size, seed=Config.seed):\n",
    "    # read dataset from csv file\n",
    "    dataset = pd.read_csv('zoo_dataset.csv')\n",
    "\n",
    "    # drop values that we won't be using fro training\n",
    "    inputs = dataset.drop(['animal_name','class_type'], axis=1).values\n",
    "    # enumerate targets from 0\n",
    "    targets = dataset['class_type'].values - 1\n",
    "\n",
    "    X_train, X_test, y_train, y_test = train_test_split(\n",
    "        inputs, targets, stratify=targets,\n",
    "        test_size=test_size, random_state=seed)\n",
    "    \n",
    "    return X_train, X_test, y_train, y_test\n",
    "\n",
    "X_train, X_test, y_train, y_test = load_data()"
   ]
  },
  {
   "cell_type": "code",
   "execution_count": 6,
   "metadata": {
    "colab": {
     "base_uri": "https://localhost:8080/"
    },
    "executionInfo": {
     "elapsed": 287,
     "status": "ok",
     "timestamp": 1627470615866,
     "user": {
      "displayName": "Andrii Torchylo",
      "photoUrl": "https://lh3.googleusercontent.com/a-/AOh14GhSHrfnmdTTqVlYK2P7--1l4ZmX3cOVoOKBaF_X1350AUh2Hw-8iexkcrw8f0ZguHYPkxchVQLN4vvFJszxMYEoL3-yzEGhPohOED0sx5u7EKK9hJMhHM1JbbPjghCnglL0Zz_at07ZMcLoOO3ONUTdLXUSNXEL7lAbCxGUoZ1-yJacKjS7ciUGudy61oEhf-Gn3oe6uX114ytnI2drWjWFayaDYlELr0eZv5abp2N5dD_eGk1Zma2lw9SpXJvU-JSXtBDhuTPWnw1psc814VDr2LIA8Azo6GVmuZw6YwiaLeEXSe6FodCBvHnPEbjRW2udYaElua_VOlF3JC-OwnNwfPA3gkurKjo3UwM5lq2uCXfydPxBdCFV9SHqFA5b0cbb8botQg1gTZpFdKcbz3fvlT3xCwS-EVsZ7H-ilkJ99Aak2EekfG8AWQH6RXcaqmpByiC0SKnFZtaoj4KfBYW1-hv-VGj43OGPPTbwYY_Hdf-zWIYDwK2fpDO7-QRHuKpfVVs2kKVgpnMH9klcNQpHBRiD4nlvjOtQvcVdr-ks-SebzdTHtNkDNqH1fT6JHoStV6QuOQ35RhL54wgdcac32pPnM9ZiMLJ30OYjCJZT0k-ZdYICDM41dFY6pEL20fdcH1ZtsNd_ziV127kXncpeEeIuKNeo5FBdCxGLDBEXPeV43pGlCBIxQLD-Ld3d36ZP6S9Hq6WJOzAKMROS60zHEYcNogfleMoith6gqSrIaSSw39Kb32Q55BISBFn7-FIOdQ=s64",
      "userId": "18357331370165036741"
     },
     "user_tz": -180
    },
    "id": "E5jj-vRGIWMD",
    "outputId": "dd653147-0d8c-4b85-e910-64bf8d17f1de",
    "ExecuteTime": {
     "end_time": "2024-05-06T02:17:00.603360Z",
     "start_time": "2024-05-06T02:17:00.588973Z"
    }
   },
   "outputs": [
    {
     "name": "stdout",
     "output_type": "stream",
     "text": [
      "Train set: (143, 16) (143,)\n",
      "Test set: (71, 16) (71,)\n"
     ]
    }
   ],
   "source": [
    "print('Train set:', X_train.shape, y_train.shape)\n",
    "print('Test set:', X_test.shape, y_test.shape)"
   ]
  },
  {
   "cell_type": "markdown",
   "metadata": {
    "id": "BsLb1e8sqxH6"
   },
   "source": [
    "**Expected Output:** \n",
    "<table>\n",
    "    <tr>\n",
    "        <td><b>Train set: </b></td>\n",
    "        <td>(143, 16) (143,)</td> \n",
    "    </tr>\n",
    "    <tr>\n",
    "        <td><b>Test set:</b></td>\n",
    "        <td>(71, 16) (71,)</td> \n",
    "    </tr>\n",
    "</table>"
   ]
  },
  {
   "cell_type": "markdown",
   "metadata": {
    "id": "yhqLgoQN-94e"
   },
   "source": [
    "## Data Visualization \n",
    "\n",
    "Our target labels are the following:\n",
    "* 1 - Mammal\n",
    "* 2 - Bird\n",
    "* 3 - Reptile\n",
    "* 4 - Fish\n",
    "* 5 - Amphibian\n",
    "* 6 - Bug\n",
    "* 7 - Invertebrate\n",
    "\n",
    "Let's visualize how many representatives of each class we have"
   ]
  },
  {
   "cell_type": "code",
   "execution_count": 7,
   "metadata": {
    "colab": {
     "base_uri": "https://localhost:8080/",
     "height": 441
    },
    "executionInfo": {
     "elapsed": 836,
     "status": "ok",
     "timestamp": 1627470622531,
     "user": {
      "displayName": "Andrii Torchylo",
      "photoUrl": "https://lh3.googleusercontent.com/a-/AOh14GhSHrfnmdTTqVlYK2P7--1l4ZmX3cOVoOKBaF_X1350AUh2Hw-8iexkcrw8f0ZguHYPkxchVQLN4vvFJszxMYEoL3-yzEGhPohOED0sx5u7EKK9hJMhHM1JbbPjghCnglL0Zz_at07ZMcLoOO3ONUTdLXUSNXEL7lAbCxGUoZ1-yJacKjS7ciUGudy61oEhf-Gn3oe6uX114ytnI2drWjWFayaDYlELr0eZv5abp2N5dD_eGk1Zma2lw9SpXJvU-JSXtBDhuTPWnw1psc814VDr2LIA8Azo6GVmuZw6YwiaLeEXSe6FodCBvHnPEbjRW2udYaElua_VOlF3JC-OwnNwfPA3gkurKjo3UwM5lq2uCXfydPxBdCFV9SHqFA5b0cbb8botQg1gTZpFdKcbz3fvlT3xCwS-EVsZ7H-ilkJ99Aak2EekfG8AWQH6RXcaqmpByiC0SKnFZtaoj4KfBYW1-hv-VGj43OGPPTbwYY_Hdf-zWIYDwK2fpDO7-QRHuKpfVVs2kKVgpnMH9klcNQpHBRiD4nlvjOtQvcVdr-ks-SebzdTHtNkDNqH1fT6JHoStV6QuOQ35RhL54wgdcac32pPnM9ZiMLJ30OYjCJZT0k-ZdYICDM41dFY6pEL20fdcH1ZtsNd_ziV127kXncpeEeIuKNeo5FBdCxGLDBEXPeV43pGlCBIxQLD-Ld3d36ZP6S9Hq6WJOzAKMROS60zHEYcNogfleMoith6gqSrIaSSw39Kb32Q55BISBFn7-FIOdQ=s64",
      "userId": "18357331370165036741"
     },
     "user_tz": -180
    },
    "id": "YLGjHWvK7JxZ",
    "outputId": "bf3a5b19-9b0d-4b92-9c59-888b9fe963ce",
    "ExecuteTime": {
     "end_time": "2024-05-06T02:17:00.759360Z",
     "start_time": "2024-05-06T02:17:00.604460Z"
    }
   },
   "outputs": [
    {
     "data": {
      "text/plain": "<Figure size 1000x600 with 1 Axes>",
      "image/png": "[encoded data removed]"
     },
     "metadata": {},
     "output_type": "display_data"
    }
   ],
   "source": [
    "plt.figure(figsize=(10, 6))\n",
    "class_counts = pd.value_counts(y_train)\n",
    "plt.bar(class_counts.index, class_counts.to_list())\n",
    "plt.xticks(np.arange(Config.num_classes), Config.classes) \n",
    "plt.ylabel('Count')\n",
    "plt.xlabel('Animal class')\n",
    "plt.tight_layout()\n",
    "plt.show()"
   ]
  },
  {
   "cell_type": "markdown",
   "metadata": {
    "id": "E91MG-2KsjCB"
   },
   "source": [
    "**Interpretation:** As we can see from the graph above, our classes are unbalanced, meaning that some classes like **Mammal** have much more examples in the dataset than **Bug** or **Amphibian**. This might lead to poor model performance because the neural network will prioritize correctly predicting classes that are more abundant in the dataset and neglect the others."
   ]
  },
  {
   "cell_type": "markdown",
   "metadata": {
    "id": "XaCXZfSS28KX"
   },
   "source": [
    "# 3 - Utils"
   ]
  },
  {
   "cell_type": "markdown",
   "metadata": {
    "id": "4wuwayAJ3D0k"
   },
   "source": [
    "## Loss Scaler\n",
    "\n",
    "In the standard variation of multiclass classification, we use Cross Entropy between network predictions and target values, which is given by the formula below:\n",
    "\n",
    "$$CE(y, \\hat{y}) = - \\sum^{{n}_{c}-1}_{i=0} y_{i}\\log(\\hat{y}_{i})$$\n",
    "\n",
    "where $y\\in\\mathbb{R}^{n_c}$ is a one-hot label vector, $\\hat{y}\\in\\mathbb{R}^{n_c}$ is network predictions, and ${n}_{c}$ is the number of classes. <br> \n",
    "And to find the overall loss over a batch we simply average the cross entropy for each of the network prediction:\n",
    "\n",
    "$$CELoss(Y, \\hat{Y}) = - \\frac{1}{m}\\sum^{{m}-1}_{j=0} \\sum^{{n}_{c}-1}_{i=0} y_{i}^{<j>}\\log(\\hat{y}_{i}^{<j>})$$\n",
    "\n",
    "Note here, $Y\\in\\mathbb{R}^{m\\ x\\ n_c}$ and $\\hat{Y}\\in\\mathbb{R}^{m\\ x\\ n_c}$ are matrices of network predictions and target values respectfully, where $m$ is a number of examples in a batch, and $y_{i}^{<j>}$ is a prediction for the ith class of the jth example in the batch. <br>\n",
    "\n",
    "A simple average over all training examples, in this case, is not the best strategy. Instead of learning distinct features of each class, a neural network will learn how to correctly classify the most popular classes in the dataset, which would minimize the average value, ignoring the classes that rarely occur in the mini-batch. For example,  **Mammal** class, which has 40 examples, would be prioritized over **Amphibian** class, which has only 10 examples in the dataset. <br><br>\n",
    "\n",
    "So, instead of taking a **simple average** over all training examples, we will take a **weighted average**, increasing the importance of rare classes, and penalizing classes that occur much more often. The formulas, for the class weights are given below:\n",
    "\n",
    "\n",
    "$$score_i = \\sqrt{\\frac{\\sum_{i=0}^{n\\_classes-1}m_i}{m_i}}$$ <br>\n",
    "$$w_i = \\frac{score_i}{\\sum_{i=0}^{n\\_classes-1}score_i}$$\n",
    "\n",
    "where $m_i$ is a number of representatives of class $i$ in the dataset, $score_i$ is relative importance of each class, and $w_i$ is a normalized weight that ensures that the sum of our weights adds up to 1. <br>\n",
    "\n",
    "**Excercise:** Your job is to implement `get_loss_scalars` function that calculates weights `w_i` to scale `CrossEntropyLoss`"
   ]
  },
  {
   "cell_type": "code",
   "execution_count": 8,
   "metadata": {
    "executionInfo": {
     "elapsed": 247,
     "status": "ok",
     "timestamp": 1627470628020,
     "user": {
      "displayName": "Andrii Torchylo",
      "photoUrl": "https://lh3.googleusercontent.com/a-/AOh14GhSHrfnmdTTqVlYK2P7--1l4ZmX3cOVoOKBaF_X1350AUh2Hw-8iexkcrw8f0ZguHYPkxchVQLN4vvFJszxMYEoL3-yzEGhPohOED0sx5u7EKK9hJMhHM1JbbPjghCnglL0Zz_at07ZMcLoOO3ONUTdLXUSNXEL7lAbCxGUoZ1-yJacKjS7ciUGudy61oEhf-Gn3oe6uX114ytnI2drWjWFayaDYlELr0eZv5abp2N5dD_eGk1Zma2lw9SpXJvU-JSXtBDhuTPWnw1psc814VDr2LIA8Azo6GVmuZw6YwiaLeEXSe6FodCBvHnPEbjRW2udYaElua_VOlF3JC-OwnNwfPA3gkurKjo3UwM5lq2uCXfydPxBdCFV9SHqFA5b0cbb8botQg1gTZpFdKcbz3fvlT3xCwS-EVsZ7H-ilkJ99Aak2EekfG8AWQH6RXcaqmpByiC0SKnFZtaoj4KfBYW1-hv-VGj43OGPPTbwYY_Hdf-zWIYDwK2fpDO7-QRHuKpfVVs2kKVgpnMH9klcNQpHBRiD4nlvjOtQvcVdr-ks-SebzdTHtNkDNqH1fT6JHoStV6QuOQ35RhL54wgdcac32pPnM9ZiMLJ30OYjCJZT0k-ZdYICDM41dFY6pEL20fdcH1ZtsNd_ziV127kXncpeEeIuKNeo5FBdCxGLDBEXPeV43pGlCBIxQLD-Ld3d36ZP6S9Hq6WJOzAKMROS60zHEYcNogfleMoith6gqSrIaSSw39Kb32Q55BISBFn7-FIOdQ=s64",
      "userId": "18357331370165036741"
     },
     "user_tz": -180
    },
    "id": "2HF3LdDPAlWC",
    "ExecuteTime": {
     "end_time": "2024-05-06T02:17:00.775128Z",
     "start_time": "2024-05-06T02:17:00.760379Z"
    }
   },
   "outputs": [],
   "source": [
    "# VALIDATION_FIELD[func] get_loss_scalars\n",
    "\n",
    "def get_loss_scalars(labels):\n",
    "    \"\"\"\n",
    "    Calculates the coefficients that scale the importance of rare classes\n",
    "    in CrossEntropyLoss\n",
    "\n",
    "    The formula for calculation is:\n",
    "    score_i = (total_number_of_samples / number_samples_of_label_i)^1/2\n",
    "    weight_i = score_i/sum_scores\n",
    "\n",
    "    Arguments:\n",
    "    labels -- 1-D np.array of integers that represents classes in the dataset\n",
    "    Return:\n",
    "    weights -- 1-D torch.Tensor of length num_classes\n",
    "    \"\"\"\n",
    "    ### START CODE HERE ### (≈ 3 lines of code)\n",
    "    counts = np.bincount(labels)\n",
    "    scores = np.sqrt(counts.sum()/counts)\n",
    "    weights = torch.FloatTensor(scores/scores.sum())\n",
    "    ### END CODE HERE ### \n",
    "    return weights"
   ]
  },
  {
   "cell_type": "code",
   "execution_count": 9,
   "metadata": {
    "colab": {
     "base_uri": "https://localhost:8080/"
    },
    "executionInfo": {
     "elapsed": 274,
     "status": "ok",
     "timestamp": 1627470630162,
     "user": {
      "displayName": "Andrii Torchylo",
      "photoUrl": "https://lh3.googleusercontent.com/a-/AOh14GhSHrfnmdTTqVlYK2P7--1l4ZmX3cOVoOKBaF_X1350AUh2Hw-8iexkcrw8f0ZguHYPkxchVQLN4vvFJszxMYEoL3-yzEGhPohOED0sx5u7EKK9hJMhHM1JbbPjghCnglL0Zz_at07ZMcLoOO3ONUTdLXUSNXEL7lAbCxGUoZ1-yJacKjS7ciUGudy61oEhf-Gn3oe6uX114ytnI2drWjWFayaDYlELr0eZv5abp2N5dD_eGk1Zma2lw9SpXJvU-JSXtBDhuTPWnw1psc814VDr2LIA8Azo6GVmuZw6YwiaLeEXSe6FodCBvHnPEbjRW2udYaElua_VOlF3JC-OwnNwfPA3gkurKjo3UwM5lq2uCXfydPxBdCFV9SHqFA5b0cbb8botQg1gTZpFdKcbz3fvlT3xCwS-EVsZ7H-ilkJ99Aak2EekfG8AWQH6RXcaqmpByiC0SKnFZtaoj4KfBYW1-hv-VGj43OGPPTbwYY_Hdf-zWIYDwK2fpDO7-QRHuKpfVVs2kKVgpnMH9klcNQpHBRiD4nlvjOtQvcVdr-ks-SebzdTHtNkDNqH1fT6JHoStV6QuOQ35RhL54wgdcac32pPnM9ZiMLJ30OYjCJZT0k-ZdYICDM41dFY6pEL20fdcH1ZtsNd_ziV127kXncpeEeIuKNeo5FBdCxGLDBEXPeV43pGlCBIxQLD-Ld3d36ZP6S9Hq6WJOzAKMROS60zHEYcNogfleMoith6gqSrIaSSw39Kb32Q55BISBFn7-FIOdQ=s64",
      "userId": "18357331370165036741"
     },
     "user_tz": -180
    },
    "id": "YZE8yL8PCkkI",
    "outputId": "a6a97165-40b2-49af-bfef-15f062389249",
    "ExecuteTime": {
     "end_time": "2024-05-06T02:17:00.790954Z",
     "start_time": "2024-05-06T02:17:00.777281Z"
    }
   },
   "outputs": [
    {
     "name": "stdout",
     "output_type": "stream",
     "text": [
      "weights: tensor([0.0953, 0.1160, 0.1462, 0.1383, 0.1907, 0.1462, 0.1672])\n"
     ]
    }
   ],
   "source": [
    "weights = get_loss_scalars(y_train)\n",
    "print('weights:', weights)"
   ]
  },
  {
   "cell_type": "markdown",
   "metadata": {
    "id": "fOhCgOu2AFIR"
   },
   "source": [
    "**Expected output:**\n",
    "\n",
    "<table>\n",
    "    <tr>\n",
    "        <td><b>weights</b></td>\n",
    "        <td>tensor([0.0953, 0.1160, 0.1462, 0.1383, 0.1907, 0.1462, 0.1672])</td>\n",
    "    </tr>\n",
    "\n",
    "</table>"
   ]
  },
  {
   "cell_type": "markdown",
   "metadata": {
    "id": "aa3QMkCLAlNk"
   },
   "source": [
    "## F1 score\n",
    "\n",
    "Besides the loss function that we use for training, we need to have a metric to account for class imbalances.\n",
    "Accuracy score would simply tell us what proportion of all examples we classify correctly, but it doesn't tell us how\n",
    "well we perform on underrepresented classes. The following metric, called **F1 score** does just that. For a given\n",
    "class $i$ we calculate **F1 score** using:\n",
    "\n",
    "<img src=\"https://dru.fra1.digitaloceanspaces.com/DL_pytorch/static/ntbk_images/confusion.png\">\n",
    "\n",
    "* $TP$ (true positive) = number of correct predictions of class $i$\n",
    "* $FP$ (false positive) = number of false predictions of class $i$\n",
    "* $FN$ (false negative) = number of examples of class $i$ not predicted with class $i$\n",
    "\n",
    "$$ Precision = \\frac{TP}{FP + TP} $$ <br>\n",
    "$$ Recall = \\frac{TP}{FN + TP} $$ <br>\n",
    "\n",
    "$$ F1_i = \\frac{ 2 * Precision * Recall}{Precision + Recall} $$\n",
    "\n",
    "And then, to calculate **macro F1 score**, we simply average all $F1_i$\n",
    "\n",
    "$$ F1_{macro} = \\sum^{{n}_{c}-1}_{i=0} F1_i $$\n",
    "\n",
    "**Note:** This function is available in `sklearn.metrics` but we will implement it to understand this evaluation method better.\n",
    "\n",
    "**Excercise:** Implement the F1 scoring function using the formulas above. You will have to use for-loop to iterate over unique target labels. \n",
    "- Hint: if for a given class $TP = 0$, you should assign $F1_i = 0$"
   ]
  },
  {
   "cell_type": "code",
   "execution_count": 10,
   "metadata": {
    "executionInfo": {
     "elapsed": 262,
     "status": "ok",
     "timestamp": 1627470636437,
     "user": {
      "displayName": "Andrii Torchylo",
      "photoUrl": "https://lh3.googleusercontent.com/a-/AOh14GhSHrfnmdTTqVlYK2P7--1l4ZmX3cOVoOKBaF_X1350AUh2Hw-8iexkcrw8f0ZguHYPkxchVQLN4vvFJszxMYEoL3-yzEGhPohOED0sx5u7EKK9hJMhHM1JbbPjghCnglL0Zz_at07ZMcLoOO3ONUTdLXUSNXEL7lAbCxGUoZ1-yJacKjS7ciUGudy61oEhf-Gn3oe6uX114ytnI2drWjWFayaDYlELr0eZv5abp2N5dD_eGk1Zma2lw9SpXJvU-JSXtBDhuTPWnw1psc814VDr2LIA8Azo6GVmuZw6YwiaLeEXSe6FodCBvHnPEbjRW2udYaElua_VOlF3JC-OwnNwfPA3gkurKjo3UwM5lq2uCXfydPxBdCFV9SHqFA5b0cbb8botQg1gTZpFdKcbz3fvlT3xCwS-EVsZ7H-ilkJ99Aak2EekfG8AWQH6RXcaqmpByiC0SKnFZtaoj4KfBYW1-hv-VGj43OGPPTbwYY_Hdf-zWIYDwK2fpDO7-QRHuKpfVVs2kKVgpnMH9klcNQpHBRiD4nlvjOtQvcVdr-ks-SebzdTHtNkDNqH1fT6JHoStV6QuOQ35RhL54wgdcac32pPnM9ZiMLJ30OYjCJZT0k-ZdYICDM41dFY6pEL20fdcH1ZtsNd_ziV127kXncpeEeIuKNeo5FBdCxGLDBEXPeV43pGlCBIxQLD-Ld3d36ZP6S9Hq6WJOzAKMROS60zHEYcNogfleMoith6gqSrIaSSw39Kb32Q55BISBFn7-FIOdQ=s64",
      "userId": "18357331370165036741"
     },
     "user_tz": -180
    },
    "id": "bXrI9ohCBeK1",
    "ExecuteTime": {
     "end_time": "2024-05-06T02:17:00.806814Z",
     "start_time": "2024-05-06T02:17:00.792049Z"
    }
   },
   "outputs": [],
   "source": [
    "# VALIDATION_FIELD[func] f1_score\n",
    "\n",
    "def f1_score(target, predictions):\n",
    "    \"\"\"\n",
    "    Calculates macro f1 score for target and predictions\n",
    "\n",
    "    Arguments:\n",
    "    target -- 1-D torch.Tensor of target classes \n",
    "    predictions -- 1-D torch.Tensor of integer network predictions\n",
    "\n",
    "    Returns:\n",
    "    F1_macro -- float, macro avergae of F1 scores\n",
    "    \"\"\"\n",
    "    scores = []\n",
    "    for cls in target.unique():\n",
    "        ### START CODE HERE ### (≈ 9 lines of code)\n",
    "        TP = predictions[(target == cls) & (predictions == cls)].shape[0]\n",
    "        FN = predictions[(target == cls) & (predictions != cls)].shape[0]\n",
    "        FP = predictions[(target != cls) & (predictions == cls)].shape[0]\n",
    "        if TP == 0:\n",
    "            F1 = 0\n",
    "        else:\n",
    "            precision = TP/(FP + TP)\n",
    "            recall = TP/(FN + TP)\n",
    "            F1 = 2 * precision * recall / (precision + recall)\n",
    "        ### END CODE HERE ### \n",
    "        scores.append(F1)\n",
    "    F1_macro = sum(scores)/len(scores)\n",
    "    return F1_macro"
   ]
  },
  {
   "cell_type": "code",
   "execution_count": 11,
   "metadata": {
    "colab": {
     "base_uri": "https://localhost:8080/"
    },
    "executionInfo": {
     "elapsed": 5,
     "status": "ok",
     "timestamp": 1627470639699,
     "user": {
      "displayName": "Andrii Torchylo",
      "photoUrl": "https://lh3.googleusercontent.com/a-/AOh14GhSHrfnmdTTqVlYK2P7--1l4ZmX3cOVoOKBaF_X1350AUh2Hw-8iexkcrw8f0ZguHYPkxchVQLN4vvFJszxMYEoL3-yzEGhPohOED0sx5u7EKK9hJMhHM1JbbPjghCnglL0Zz_at07ZMcLoOO3ONUTdLXUSNXEL7lAbCxGUoZ1-yJacKjS7ciUGudy61oEhf-Gn3oe6uX114ytnI2drWjWFayaDYlELr0eZv5abp2N5dD_eGk1Zma2lw9SpXJvU-JSXtBDhuTPWnw1psc814VDr2LIA8Azo6GVmuZw6YwiaLeEXSe6FodCBvHnPEbjRW2udYaElua_VOlF3JC-OwnNwfPA3gkurKjo3UwM5lq2uCXfydPxBdCFV9SHqFA5b0cbb8botQg1gTZpFdKcbz3fvlT3xCwS-EVsZ7H-ilkJ99Aak2EekfG8AWQH6RXcaqmpByiC0SKnFZtaoj4KfBYW1-hv-VGj43OGPPTbwYY_Hdf-zWIYDwK2fpDO7-QRHuKpfVVs2kKVgpnMH9klcNQpHBRiD4nlvjOtQvcVdr-ks-SebzdTHtNkDNqH1fT6JHoStV6QuOQ35RhL54wgdcac32pPnM9ZiMLJ30OYjCJZT0k-ZdYICDM41dFY6pEL20fdcH1ZtsNd_ziV127kXncpeEeIuKNeo5FBdCxGLDBEXPeV43pGlCBIxQLD-Ld3d36ZP6S9Hq6WJOzAKMROS60zHEYcNogfleMoith6gqSrIaSSw39Kb32Q55BISBFn7-FIOdQ=s64",
      "userId": "18357331370165036741"
     },
     "user_tz": -180
    },
    "id": "sgPMZVaRCAX5",
    "outputId": "f76f3eeb-90b3-4c52-8265-f286ef931ef3",
    "ExecuteTime": {
     "end_time": "2024-05-06T02:17:00.821932Z",
     "start_time": "2024-05-06T02:17:00.807852Z"
    }
   },
   "outputs": [
    {
     "name": "stdout",
     "output_type": "stream",
     "text": [
      "f1_score: 0.4666666666666666\n"
     ]
    }
   ],
   "source": [
    "target = torch.tensor([0, 1, 2, 3, 1, 4])\n",
    "predic = torch.tensor([0, 1, 2, 0, 1, 2])\n",
    "print('f1_score:', f1_score(target, predic))"
   ]
  },
  {
   "cell_type": "markdown",
   "metadata": {
    "id": "OzsdkKfDUHvK"
   },
   "source": [
    "**Expected output:**\n",
    "\n",
    "<table>\n",
    "    <tr>\n",
    "        <td><b>f1_score</b></td>\n",
    "        <td>0.4666666666666666</td>\n",
    "    </tr>\n",
    "\n",
    "</table>"
   ]
  },
  {
   "cell_type": "markdown",
   "metadata": {
    "id": "uc2YlalXGPed"
   },
   "source": [
    "# 3 - Creating the model class\n",
    "\n",
    "In the last lab, we learned how to use `nn.Sequential` to predefine the order of operations for some layers in the network. This time we will go even further and define our sequential blocks iteratively using `nn.ModuleList`<br>\n",
    "\n",
    "Let's start with a simple function that returns our usual Sequential block <br>\n",
    "\n",
    "**Excercise:** Implement function that returns `nn.Sequential` module with the following layers: `nn.Linear` -> `nn.Dropout` -> `nn.ReLU` \n",
    "- Set parameter `p` in Dropout to `0.2`"
   ]
  },
  {
   "cell_type": "code",
   "execution_count": 12,
   "metadata": {
    "executionInfo": {
     "elapsed": 388,
     "status": "ok",
     "timestamp": 1627470643235,
     "user": {
      "displayName": "Andrii Torchylo",
      "photoUrl": "https://lh3.googleusercontent.com/a-/AOh14GhSHrfnmdTTqVlYK2P7--1l4ZmX3cOVoOKBaF_X1350AUh2Hw-8iexkcrw8f0ZguHYPkxchVQLN4vvFJszxMYEoL3-yzEGhPohOED0sx5u7EKK9hJMhHM1JbbPjghCnglL0Zz_at07ZMcLoOO3ONUTdLXUSNXEL7lAbCxGUoZ1-yJacKjS7ciUGudy61oEhf-Gn3oe6uX114ytnI2drWjWFayaDYlELr0eZv5abp2N5dD_eGk1Zma2lw9SpXJvU-JSXtBDhuTPWnw1psc814VDr2LIA8Azo6GVmuZw6YwiaLeEXSe6FodCBvHnPEbjRW2udYaElua_VOlF3JC-OwnNwfPA3gkurKjo3UwM5lq2uCXfydPxBdCFV9SHqFA5b0cbb8botQg1gTZpFdKcbz3fvlT3xCwS-EVsZ7H-ilkJ99Aak2EekfG8AWQH6RXcaqmpByiC0SKnFZtaoj4KfBYW1-hv-VGj43OGPPTbwYY_Hdf-zWIYDwK2fpDO7-QRHuKpfVVs2kKVgpnMH9klcNQpHBRiD4nlvjOtQvcVdr-ks-SebzdTHtNkDNqH1fT6JHoStV6QuOQ35RhL54wgdcac32pPnM9ZiMLJ30OYjCJZT0k-ZdYICDM41dFY6pEL20fdcH1ZtsNd_ziV127kXncpeEeIuKNeo5FBdCxGLDBEXPeV43pGlCBIxQLD-Ld3d36ZP6S9Hq6WJOzAKMROS60zHEYcNogfleMoith6gqSrIaSSw39Kb32Q55BISBFn7-FIOdQ=s64",
      "userId": "18357331370165036741"
     },
     "user_tz": -180
    },
    "id": "o5IhPvRwtmFl",
    "ExecuteTime": {
     "end_time": "2024-05-06T02:17:00.837842Z",
     "start_time": "2024-05-06T02:17:00.822975Z"
    }
   },
   "outputs": [],
   "source": [
    "# VALIDATION_FIELD[func] linear_block\n",
    "\n",
    "def linear_block(input_dim, output_dim):\n",
    "    \"\"\"\n",
    "    Generates a generic sequential block\n",
    "\n",
    "    Arguments:\n",
    "    input_dim -- integer, input dimension to a linear block\n",
    "    output_dim -- integer, output dimension of a linear block\n",
    "\n",
    "    Return:\n",
    "    block -- nn.Sequential, block of a neural network\n",
    "    \"\"\"\n",
    "    ### START CODE HERE ### (≈ 4 lines of code)\n",
    "    block = nn.Sequential(\n",
    "        nn.Linear(input_dim, output_dim),\n",
    "        nn.Dropout(p=0.2),\n",
    "        nn.ReLU()\n",
    "    )\n",
    "    ### END CODE HERE ### \n",
    "    return block"
   ]
  },
  {
   "cell_type": "markdown",
   "metadata": {
    "id": "mZdlzpNQyrNI"
   },
   "source": [
    "## Model\n",
    "\n",
    "The architecture of this network is very similar to the binary classification network, with a few exceptions:\n",
    "1. The output layer of this network has seven neurons (one for each class)\n",
    "2. The output layer has linear activation (no activation function is applied). This is because we will use `nn.CrossEntropyLoss` as our loss function that expects raw logits as an output from the neural network. \n",
    "\n",
    "<img src=\"https://dru.fra1.digitaloceanspaces.com/DL_pytorch/static/ntbk_images/multiclass_cls_network.png\">\n",
    "\n",
    "**Excercise:** Implement `__init__` and `__forward__` for a Multiclass Classification Neural Network. <br>\n",
    "- In `__init__`, define a `nn.ModuleList` with the name `block_list`, which would contain all but the last layer of the neural network.\n",
    "- **Important:** your implementation of `__init__` should be universal for any number of input `hidden_dims`. In other words, don't use direct indexing `hidden_dims[0]`, `hidden_dims[1]`, because parameter `hidden_dims` might have more than two elements!\n",
    "- Also, define the last linear layer `out` \n",
    "    - Do not use any activation function for the last layer\n",
    "    - Do not wrap Linear layer in `nn.Sequential`\n",
    "- In `forward()`, simply pass your input x through all of the layers defined above.\n",
    "    - Don't forget to pass your input through every block in `block_list`!"
   ]
  },
  {
   "cell_type": "code",
   "execution_count": 13,
   "metadata": {
    "executionInfo": {
     "elapsed": 349,
     "status": "ok",
     "timestamp": 1627470701069,
     "user": {
      "displayName": "Andrii Torchylo",
      "photoUrl": "https://lh3.googleusercontent.com/a-/AOh14GhSHrfnmdTTqVlYK2P7--1l4ZmX3cOVoOKBaF_X1350AUh2Hw-8iexkcrw8f0ZguHYPkxchVQLN4vvFJszxMYEoL3-yzEGhPohOED0sx5u7EKK9hJMhHM1JbbPjghCnglL0Zz_at07ZMcLoOO3ONUTdLXUSNXEL7lAbCxGUoZ1-yJacKjS7ciUGudy61oEhf-Gn3oe6uX114ytnI2drWjWFayaDYlELr0eZv5abp2N5dD_eGk1Zma2lw9SpXJvU-JSXtBDhuTPWnw1psc814VDr2LIA8Azo6GVmuZw6YwiaLeEXSe6FodCBvHnPEbjRW2udYaElua_VOlF3JC-OwnNwfPA3gkurKjo3UwM5lq2uCXfydPxBdCFV9SHqFA5b0cbb8botQg1gTZpFdKcbz3fvlT3xCwS-EVsZ7H-ilkJ99Aak2EekfG8AWQH6RXcaqmpByiC0SKnFZtaoj4KfBYW1-hv-VGj43OGPPTbwYY_Hdf-zWIYDwK2fpDO7-QRHuKpfVVs2kKVgpnMH9klcNQpHBRiD4nlvjOtQvcVdr-ks-SebzdTHtNkDNqH1fT6JHoStV6QuOQ35RhL54wgdcac32pPnM9ZiMLJ30OYjCJZT0k-ZdYICDM41dFY6pEL20fdcH1ZtsNd_ziV127kXncpeEeIuKNeo5FBdCxGLDBEXPeV43pGlCBIxQLD-Ld3d36ZP6S9Hq6WJOzAKMROS60zHEYcNogfleMoith6gqSrIaSSw39Kb32Q55BISBFn7-FIOdQ=s64",
      "userId": "18357331370165036741"
     },
     "user_tz": -180
    },
    "id": "V-tjuWTK-ojg",
    "ExecuteTime": {
     "end_time": "2024-05-06T02:17:00.852880Z",
     "start_time": "2024-05-06T02:17:00.838861Z"
    }
   },
   "outputs": [],
   "source": [
    "# VALIDATION_FIELD[cls] NNet\n",
    "\n",
    "class NNet(nn.Module):\n",
    "    def __init__(self, \n",
    "                 input_dim=Config.input_dim, \n",
    "                 num_classes=Config.num_classes, \n",
    "                 hidden_dims=Config.hidden_dims):\n",
    "        super(NNet, self).__init__()\n",
    "        dims = [input_dim] + list(hidden_dims)\n",
    "        ### START CODE HERE ### (≈ 2 lines of code)\n",
    "        self.block_list = nn.ModuleList([linear_block(dims[i], dims[i+1]) for i in range(len(dims)-1)])\n",
    "        self.out = nn.Linear(hidden_dims[-1], num_classes)\n",
    "        ### END CODE HERE ### \n",
    "\n",
    "    def forward(self, x):\n",
    "        ### START CODE HERE ### (≈ 3 lines of code)\n",
    "        x = x.view(x.size(0), -1)  # Flatten the input\n",
    "        for block in self.block_list:\n",
    "            x = block(x)  # Pass x through the block\n",
    "        x = self.out(x)  # Pass x through the output layer\n",
    "        ### END CODE HERE ### \n",
    "        return x"
   ]
  },
  {
   "cell_type": "code",
   "execution_count": 14,
   "metadata": {
    "collapsed": false,
    "pycharm": {
     "name": "#%%\n"
    },
    "ExecuteTime": {
     "end_time": "2024-05-06T02:17:00.868597Z",
     "start_time": "2024-05-06T02:17:00.853908Z"
    }
   },
   "outputs": [],
   "source": [
    "# test for many hidden dims\n",
    "model = NNet(1, 6, [2, 3, 4, 5])\n",
    "input = torch.ones(4, 1)\n",
    "assert (list(model(input).shape) == [4, 6])"
   ]
  },
  {
   "cell_type": "code",
   "execution_count": 15,
   "metadata": {
    "colab": {
     "base_uri": "https://localhost:8080/"
    },
    "executionInfo": {
     "elapsed": 232,
     "status": "ok",
     "timestamp": 1627470702806,
     "user": {
      "displayName": "Andrii Torchylo",
      "photoUrl": "https://lh3.googleusercontent.com/a-/AOh14GhSHrfnmdTTqVlYK2P7--1l4ZmX3cOVoOKBaF_X1350AUh2Hw-8iexkcrw8f0ZguHYPkxchVQLN4vvFJszxMYEoL3-yzEGhPohOED0sx5u7EKK9hJMhHM1JbbPjghCnglL0Zz_at07ZMcLoOO3ONUTdLXUSNXEL7lAbCxGUoZ1-yJacKjS7ciUGudy61oEhf-Gn3oe6uX114ytnI2drWjWFayaDYlELr0eZv5abp2N5dD_eGk1Zma2lw9SpXJvU-JSXtBDhuTPWnw1psc814VDr2LIA8Azo6GVmuZw6YwiaLeEXSe6FodCBvHnPEbjRW2udYaElua_VOlF3JC-OwnNwfPA3gkurKjo3UwM5lq2uCXfydPxBdCFV9SHqFA5b0cbb8botQg1gTZpFdKcbz3fvlT3xCwS-EVsZ7H-ilkJ99Aak2EekfG8AWQH6RXcaqmpByiC0SKnFZtaoj4KfBYW1-hv-VGj43OGPPTbwYY_Hdf-zWIYDwK2fpDO7-QRHuKpfVVs2kKVgpnMH9klcNQpHBRiD4nlvjOtQvcVdr-ks-SebzdTHtNkDNqH1fT6JHoStV6QuOQ35RhL54wgdcac32pPnM9ZiMLJ30OYjCJZT0k-ZdYICDM41dFY6pEL20fdcH1ZtsNd_ziV127kXncpeEeIuKNeo5FBdCxGLDBEXPeV43pGlCBIxQLD-Ld3d36ZP6S9Hq6WJOzAKMROS60zHEYcNogfleMoith6gqSrIaSSw39Kb32Q55BISBFn7-FIOdQ=s64",
      "userId": "18357331370165036741"
     },
     "user_tz": -180
    },
    "id": "Jk1JPbn3toSl",
    "outputId": "47804a9f-7698-441c-a414-5746f7722eed",
    "ExecuteTime": {
     "end_time": "2024-05-06T02:17:00.883968Z",
     "start_time": "2024-05-06T02:17:00.870687Z"
    }
   },
   "outputs": [
    {
     "name": "stdout",
     "output_type": "stream",
     "text": [
      "NNet(\n",
      "  (block_list): ModuleList(\n",
      "    (0): Sequential(\n",
      "      (0): Linear(in_features=16, out_features=64, bias=True)\n",
      "      (1): Dropout(p=0.2, inplace=False)\n",
      "      (2): ReLU()\n",
      "    )\n",
      "    (1): Sequential(\n",
      "      (0): Linear(in_features=64, out_features=32, bias=True)\n",
      "      (1): Dropout(p=0.2, inplace=False)\n",
      "      (2): ReLU()\n",
      "    )\n",
      "  )\n",
      "  (out): Linear(in_features=32, out_features=7, bias=True)\n",
      ")\n"
     ]
    }
   ],
   "source": [
    "# test the architecture design\n",
    "print(NNet())"
   ]
  },
  {
   "cell_type": "markdown",
   "metadata": {
    "id": "wSGb3TJS2ifj"
   },
   "source": [
    "**Expected output:**\n",
    "```\n",
    "NNet(\n",
    "  (block_list): ModuleList(\n",
    "    (0): Sequential(\n",
    "      (0): Linear(in_features=16, out_features=64, bias=True)\n",
    "      (1): Dropout(p=0.2, inplace=False)\n",
    "      (2): ReLU()\n",
    "    )\n",
    "    (1): Sequential(\n",
    "      (0): Linear(in_features=64, out_features=32, bias=True)\n",
    "      (1): Dropout(p=0.2, inplace=False)\n",
    "      (2): ReLU()\n",
    "    )\n",
    "  )\n",
    "  (out): Linear(in_features=32, out_features=7, bias=True)\n",
    ")\n",
    "```"
   ]
  },
  {
   "cell_type": "markdown",
   "metadata": {
    "id": "wGtUnUP_GRL1"
   },
   "source": [
    "# 4 - Training the model\n",
    "\n",
    "**Excercise:** implement training loop for the model. <br>\n",
    "**Please note** that in the previous lab where we calculated accuracy for each batch and then averaged the values; here, we will collect all of the network predictions first and then calculate the f1 score. This is done because F1-score is largely influenced by a sample of target labels, so it's much more stable to run evaluation once we know all of the predictions."
   ]
  },
  {
   "cell_type": "code",
   "execution_count": 16,
   "metadata": {
    "executionInfo": {
     "elapsed": 283,
     "status": "ok",
     "timestamp": 1627471004197,
     "user": {
      "displayName": "Andrii Torchylo",
      "photoUrl": "https://lh3.googleusercontent.com/a-/AOh14GhSHrfnmdTTqVlYK2P7--1l4ZmX3cOVoOKBaF_X1350AUh2Hw-8iexkcrw8f0ZguHYPkxchVQLN4vvFJszxMYEoL3-yzEGhPohOED0sx5u7EKK9hJMhHM1JbbPjghCnglL0Zz_at07ZMcLoOO3ONUTdLXUSNXEL7lAbCxGUoZ1-yJacKjS7ciUGudy61oEhf-Gn3oe6uX114ytnI2drWjWFayaDYlELr0eZv5abp2N5dD_eGk1Zma2lw9SpXJvU-JSXtBDhuTPWnw1psc814VDr2LIA8Azo6GVmuZw6YwiaLeEXSe6FodCBvHnPEbjRW2udYaElua_VOlF3JC-OwnNwfPA3gkurKjo3UwM5lq2uCXfydPxBdCFV9SHqFA5b0cbb8botQg1gTZpFdKcbz3fvlT3xCwS-EVsZ7H-ilkJ99Aak2EekfG8AWQH6RXcaqmpByiC0SKnFZtaoj4KfBYW1-hv-VGj43OGPPTbwYY_Hdf-zWIYDwK2fpDO7-QRHuKpfVVs2kKVgpnMH9klcNQpHBRiD4nlvjOtQvcVdr-ks-SebzdTHtNkDNqH1fT6JHoStV6QuOQ35RhL54wgdcac32pPnM9ZiMLJ30OYjCJZT0k-ZdYICDM41dFY6pEL20fdcH1ZtsNd_ziV127kXncpeEeIuKNeo5FBdCxGLDBEXPeV43pGlCBIxQLD-Ld3d36ZP6S9Hq6WJOzAKMROS60zHEYcNogfleMoith6gqSrIaSSw39Kb32Q55BISBFn7-FIOdQ=s64",
      "userId": "18357331370165036741"
     },
     "user_tz": -180
    },
    "id": "Je9eDjAeDFch",
    "ExecuteTime": {
     "end_time": "2024-05-06T02:17:00.899744Z",
     "start_time": "2024-05-06T02:17:00.884996Z"
    }
   },
   "outputs": [],
   "source": [
    "# VALIDATION_FIELD[func] train\n",
    "\n",
    "def train(model, optimizer, criterion, X_train, y_train, \n",
    "          num_epochs=Config.epochs,\n",
    "          batch_size=Config.batch_size,\n",
    "          device=Config.device):\n",
    "    loss_values, f1_values = [], []\n",
    "    for e in range(num_epochs):\n",
    "        epoch_loss =  0\n",
    "        num_steps = 0\n",
    "        network_predictions = []\n",
    "        for i in range(0, X_train.shape[0], batch_size):\n",
    "            ### START CODE HERE ### \n",
    "            # data prep (≈ 4 lines of code)\n",
    "            x_batch = X_train[i:i+batch_size]  # Load batch_size of samples from X_train \n",
    "            y_batch = y_train[i:i+batch_size]  # Load batch_size of corresponding target values from y_train \n",
    "            x_tensor = torch.FloatTensor(x_batch).to(device)  # Create torch.FloatTensor from x_batch and pass it to device\n",
    "            y_tensor = torch.LongTensor(y_batch).to(device)  # Create torch.LongTensor from y_batch and pass it to device\n",
    "            # forward (≈ 2 lines of code)\n",
    "            out = model.forward(x_tensor)  # Pass x_batch forward through the model \n",
    "            loss = criterion(out, y_tensor)  # Calculate the loss using criterion\n",
    "            # optimization (≈ 3 lines of code)\n",
    "            \n",
    "            optimizer.zero_grad()  # Zero the gradients\n",
    "            loss.backward()  # Backpropagate the loss\n",
    "            optimizer.step()  # Update the weights\n",
    "            \n",
    "            # calculate network predictions (≈ 1 line of code)\n",
    "            labels = out.argmax(dim=1)  # Get the class with the highest probability\n",
    "            ### END CODE HERE ### \n",
    "            network_predictions.extend(labels)\n",
    "            epoch_loss += loss.item()\n",
    "            num_steps += 1\n",
    "        targets = torch.tensor(y_train)\n",
    "        preds = torch.tensor(network_predictions)\n",
    "        f1 = f1_score(targets, preds)\n",
    "        epoch_loss /= num_steps\n",
    "        loss_values.append(epoch_loss)\n",
    "        f1_values.append(f1)\n",
    "        print(f'EPOCH: {e+1} \\tF-1: {f1:.3f}\\tLOSS: {epoch_loss:.3f}')\n",
    "    return loss_values, f1_values"
   ]
  },
  {
   "cell_type": "code",
   "execution_count": 17,
   "metadata": {
    "colab": {
     "base_uri": "https://localhost:8080/"
    },
    "executionInfo": {
     "elapsed": 259,
     "status": "ok",
     "timestamp": 1627471052806,
     "user": {
      "displayName": "Andrii Torchylo",
      "photoUrl": "https://lh3.googleusercontent.com/a-/AOh14GhSHrfnmdTTqVlYK2P7--1l4ZmX3cOVoOKBaF_X1350AUh2Hw-8iexkcrw8f0ZguHYPkxchVQLN4vvFJszxMYEoL3-yzEGhPohOED0sx5u7EKK9hJMhHM1JbbPjghCnglL0Zz_at07ZMcLoOO3ONUTdLXUSNXEL7lAbCxGUoZ1-yJacKjS7ciUGudy61oEhf-Gn3oe6uX114ytnI2drWjWFayaDYlELr0eZv5abp2N5dD_eGk1Zma2lw9SpXJvU-JSXtBDhuTPWnw1psc814VDr2LIA8Azo6GVmuZw6YwiaLeEXSe6FodCBvHnPEbjRW2udYaElua_VOlF3JC-OwnNwfPA3gkurKjo3UwM5lq2uCXfydPxBdCFV9SHqFA5b0cbb8botQg1gTZpFdKcbz3fvlT3xCwS-EVsZ7H-ilkJ99Aak2EekfG8AWQH6RXcaqmpByiC0SKnFZtaoj4KfBYW1-hv-VGj43OGPPTbwYY_Hdf-zWIYDwK2fpDO7-QRHuKpfVVs2kKVgpnMH9klcNQpHBRiD4nlvjOtQvcVdr-ks-SebzdTHtNkDNqH1fT6JHoStV6QuOQ35RhL54wgdcac32pPnM9ZiMLJ30OYjCJZT0k-ZdYICDM41dFY6pEL20fdcH1ZtsNd_ziV127kXncpeEeIuKNeo5FBdCxGLDBEXPeV43pGlCBIxQLD-Ld3d36ZP6S9Hq6WJOzAKMROS60zHEYcNogfleMoith6gqSrIaSSw39Kb32Q55BISBFn7-FIOdQ=s64",
      "userId": "18357331370165036741"
     },
     "user_tz": -180
    },
    "id": "vSou4GN_DOf3",
    "outputId": "b63c6e3c-fc94-40a3-d49d-8f557d731539",
    "ExecuteTime": {
     "end_time": "2024-05-06T02:17:01.973422Z",
     "start_time": "2024-05-06T02:17:00.900867Z"
    }
   },
   "outputs": [
    {
     "name": "stdout",
     "output_type": "stream",
     "text": [
      "EPOCH: 1 \tF-1: 0.353\tLOSS: 1.729\n",
      "EPOCH: 2 \tF-1: 0.559\tLOSS: 0.920\n",
      "EPOCH: 3 \tF-1: 0.756\tLOSS: 0.549\n",
      "EPOCH: 4 \tF-1: 0.811\tLOSS: 0.419\n",
      "EPOCH: 5 \tF-1: 0.871\tLOSS: 0.258\n",
      "EPOCH: 6 \tF-1: 0.880\tLOSS: 0.296\n",
      "EPOCH: 7 \tF-1: 0.905\tLOSS: 0.209\n",
      "EPOCH: 8 \tF-1: 0.931\tLOSS: 0.198\n",
      "EPOCH: 9 \tF-1: 0.925\tLOSS: 0.189\n",
      "EPOCH: 10 \tF-1: 0.889\tLOSS: 0.246\n"
     ]
    }
   ],
   "source": [
    "set_seed(Config.seed)\n",
    "net = NNet().to(Config.device)\n",
    "optimizer = optim.Adam(net.parameters(), lr=Config.learning_rate)\n",
    "weighted_criterion = nn.CrossEntropyLoss(weight=get_loss_scalars(y_train)).to(Config.device)\n",
    "loss, f1 = train(net, optimizer, weighted_criterion, X_train, y_train)"
   ]
  },
  {
   "cell_type": "markdown",
   "metadata": {
    "id": "_MKyXsfra7f6"
   },
   "source": [
    "**Expected Output:**\n",
    "\n",
    "```\n",
    "EPOCH: 1 \tF-1: 0.353\tLOSS: 1.729\n",
    "EPOCH: 2 \tF-1: 0.559\tLOSS: 0.920\n",
    "EPOCH: 3 \tF-1: 0.756\tLOSS: 0.549\n",
    "EPOCH: 4 \tF-1: 0.811\tLOSS: 0.419\n",
    "EPOCH: 5 \tF-1: 0.871\tLOSS: 0.258\n",
    "...\n",
    "```"
   ]
  },
  {
   "cell_type": "code",
   "execution_count": 18,
   "metadata": {
    "colab": {
     "base_uri": "https://localhost:8080/",
     "height": 441
    },
    "executionInfo": {
     "elapsed": 900,
     "status": "ok",
     "timestamp": 1627471105524,
     "user": {
      "displayName": "Andrii Torchylo",
      "photoUrl": "https://lh3.googleusercontent.com/a-/AOh14GhSHrfnmdTTqVlYK2P7--1l4ZmX3cOVoOKBaF_X1350AUh2Hw-8iexkcrw8f0ZguHYPkxchVQLN4vvFJszxMYEoL3-yzEGhPohOED0sx5u7EKK9hJMhHM1JbbPjghCnglL0Zz_at07ZMcLoOO3ONUTdLXUSNXEL7lAbCxGUoZ1-yJacKjS7ciUGudy61oEhf-Gn3oe6uX114ytnI2drWjWFayaDYlELr0eZv5abp2N5dD_eGk1Zma2lw9SpXJvU-JSXtBDhuTPWnw1psc814VDr2LIA8Azo6GVmuZw6YwiaLeEXSe6FodCBvHnPEbjRW2udYaElua_VOlF3JC-OwnNwfPA3gkurKjo3UwM5lq2uCXfydPxBdCFV9SHqFA5b0cbb8botQg1gTZpFdKcbz3fvlT3xCwS-EVsZ7H-ilkJ99Aak2EekfG8AWQH6RXcaqmpByiC0SKnFZtaoj4KfBYW1-hv-VGj43OGPPTbwYY_Hdf-zWIYDwK2fpDO7-QRHuKpfVVs2kKVgpnMH9klcNQpHBRiD4nlvjOtQvcVdr-ks-SebzdTHtNkDNqH1fT6JHoStV6QuOQ35RhL54wgdcac32pPnM9ZiMLJ30OYjCJZT0k-ZdYICDM41dFY6pEL20fdcH1ZtsNd_ziV127kXncpeEeIuKNeo5FBdCxGLDBEXPeV43pGlCBIxQLD-Ld3d36ZP6S9Hq6WJOzAKMROS60zHEYcNogfleMoith6gqSrIaSSw39Kb32Q55BISBFn7-FIOdQ=s64",
      "userId": "18357331370165036741"
     },
     "user_tz": -180
    },
    "id": "lmavqG3Oa45y",
    "outputId": "a83b280d-f22f-4cee-9450-7f90d33ea232",
    "ExecuteTime": {
     "end_time": "2024-05-06T02:17:02.301889Z",
     "start_time": "2024-05-06T02:17:01.974442Z"
    }
   },
   "outputs": [
    {
     "data": {
      "text/plain": "<Figure size 1000x600 with 2 Axes>",
      "image/png": "[encoded data removed]"
     },
     "metadata": {},
     "output_type": "display_data"
    }
   ],
   "source": [
    "fig, ax =  plt.subplots(2, 1, figsize=(10, 6))\n",
    "ax[0].plot(loss)\n",
    "ax[0].set_title('Training Loss')\n",
    "ax[1].plot(f1)\n",
    "ax[1].set_title('Training F1-score')\n",
    "plt.tight_layout()\n",
    "plt.show()"
   ]
  },
  {
   "cell_type": "markdown",
   "metadata": {
    "id": "0xaQn2sZbTpA"
   },
   "source": [
    "As we can see training loss is still decreasing, meaning that we can achieve even better results on the train set if we would continue to train our model. However, there is always a danger of overfitting, so we should check our performance on the test set."
   ]
  },
  {
   "cell_type": "markdown",
   "metadata": {
    "id": "AfAr86hRMKSX"
   },
   "source": [
    "# 5 - Evaluating the model\n",
    "**Excercise:** Implement evaluation loop for our model"
   ]
  },
  {
   "cell_type": "code",
   "execution_count": 19,
   "metadata": {
    "executionInfo": {
     "elapsed": 330,
     "status": "ok",
     "timestamp": 1627471259913,
     "user": {
      "displayName": "Andrii Torchylo",
      "photoUrl": "https://lh3.googleusercontent.com/a-/AOh14GhSHrfnmdTTqVlYK2P7--1l4ZmX3cOVoOKBaF_X1350AUh2Hw-8iexkcrw8f0ZguHYPkxchVQLN4vvFJszxMYEoL3-yzEGhPohOED0sx5u7EKK9hJMhHM1JbbPjghCnglL0Zz_at07ZMcLoOO3ONUTdLXUSNXEL7lAbCxGUoZ1-yJacKjS7ciUGudy61oEhf-Gn3oe6uX114ytnI2drWjWFayaDYlELr0eZv5abp2N5dD_eGk1Zma2lw9SpXJvU-JSXtBDhuTPWnw1psc814VDr2LIA8Azo6GVmuZw6YwiaLeEXSe6FodCBvHnPEbjRW2udYaElua_VOlF3JC-OwnNwfPA3gkurKjo3UwM5lq2uCXfydPxBdCFV9SHqFA5b0cbb8botQg1gTZpFdKcbz3fvlT3xCwS-EVsZ7H-ilkJ99Aak2EekfG8AWQH6RXcaqmpByiC0SKnFZtaoj4KfBYW1-hv-VGj43OGPPTbwYY_Hdf-zWIYDwK2fpDO7-QRHuKpfVVs2kKVgpnMH9klcNQpHBRiD4nlvjOtQvcVdr-ks-SebzdTHtNkDNqH1fT6JHoStV6QuOQ35RhL54wgdcac32pPnM9ZiMLJ30OYjCJZT0k-ZdYICDM41dFY6pEL20fdcH1ZtsNd_ziV127kXncpeEeIuKNeo5FBdCxGLDBEXPeV43pGlCBIxQLD-Ld3d36ZP6S9Hq6WJOzAKMROS60zHEYcNogfleMoith6gqSrIaSSw39Kb32Q55BISBFn7-FIOdQ=s64",
      "userId": "18357331370165036741"
     },
     "user_tz": -180
    },
    "id": "B6f21DVwJKq5",
    "ExecuteTime": {
     "end_time": "2024-05-06T02:17:02.317586Z",
     "start_time": "2024-05-06T02:17:02.302998Z"
    }
   },
   "outputs": [],
   "source": [
    "# VALIDATION_FIELD[func] evaluate\n",
    "\n",
    "def evaluate(model, criterion, X_test, y_test, \n",
    "             batch_size=Config.batch_size, class_names=Config.classes, device=Config.device):\n",
    "    model.eval()\n",
    "    with torch.no_grad():\n",
    "        network_predictions = []\n",
    "        overall_loss = 0\n",
    "        num_steps = 0 \n",
    "        for i in range(0, X_test.shape[0], batch_size):\n",
    "            ### START CODE HERE ### (≈7 lines of code)\n",
    "            x_batch = X_test[i:i+batch_size]\n",
    "            y_batch = y_test[i:i+batch_size]\n",
    "            x_tensor = torch.FloatTensor(x_batch).to(device)\n",
    "            y_tensor = torch.LongTensor(y_batch).to(device)\n",
    "            out = model.forward(x_tensor)\n",
    "            loss = criterion(out, y_tensor)\n",
    "            labels = out.argmax(dim=1).cpu().numpy()\n",
    "            ### END CODE HERE ###\n",
    "            num_steps += 1\n",
    "            overall_loss += loss.item()\n",
    "            network_predictions.extend(labels)\n",
    "\n",
    "    # calculate metrics\n",
    "    overall_loss /= num_steps\n",
    "    targets = torch.tensor(y_test)\n",
    "    preds = torch.tensor(network_predictions)\n",
    "    f1 = f1_score(targets, preds)\n",
    "    return {\n",
    "        'targets':targets, \n",
    "        'predictions': preds, \n",
    "        'loss': overall_loss, \n",
    "        'f1_macro': f1\n",
    "    }"
   ]
  },
  {
   "cell_type": "code",
   "execution_count": 20,
   "metadata": {
    "colab": {
     "base_uri": "https://localhost:8080/"
    },
    "executionInfo": {
     "elapsed": 309,
     "status": "ok",
     "timestamp": 1627471265836,
     "user": {
      "displayName": "Andrii Torchylo",
      "photoUrl": "https://lh3.googleusercontent.com/a-/AOh14GhSHrfnmdTTqVlYK2P7--1l4ZmX3cOVoOKBaF_X1350AUh2Hw-8iexkcrw8f0ZguHYPkxchVQLN4vvFJszxMYEoL3-yzEGhPohOED0sx5u7EKK9hJMhHM1JbbPjghCnglL0Zz_at07ZMcLoOO3ONUTdLXUSNXEL7lAbCxGUoZ1-yJacKjS7ciUGudy61oEhf-Gn3oe6uX114ytnI2drWjWFayaDYlELr0eZv5abp2N5dD_eGk1Zma2lw9SpXJvU-JSXtBDhuTPWnw1psc814VDr2LIA8Azo6GVmuZw6YwiaLeEXSe6FodCBvHnPEbjRW2udYaElua_VOlF3JC-OwnNwfPA3gkurKjo3UwM5lq2uCXfydPxBdCFV9SHqFA5b0cbb8botQg1gTZpFdKcbz3fvlT3xCwS-EVsZ7H-ilkJ99Aak2EekfG8AWQH6RXcaqmpByiC0SKnFZtaoj4KfBYW1-hv-VGj43OGPPTbwYY_Hdf-zWIYDwK2fpDO7-QRHuKpfVVs2kKVgpnMH9klcNQpHBRiD4nlvjOtQvcVdr-ks-SebzdTHtNkDNqH1fT6JHoStV6QuOQ35RhL54wgdcac32pPnM9ZiMLJ30OYjCJZT0k-ZdYICDM41dFY6pEL20fdcH1ZtsNd_ziV127kXncpeEeIuKNeo5FBdCxGLDBEXPeV43pGlCBIxQLD-Ld3d36ZP6S9Hq6WJOzAKMROS60zHEYcNogfleMoith6gqSrIaSSw39Kb32Q55BISBFn7-FIOdQ=s64",
      "userId": "18357331370165036741"
     },
     "user_tz": -180
    },
    "id": "3oPD6fe_LgCI",
    "outputId": "a00b713b-69b2-4c33-963f-de389c75997d",
    "ExecuteTime": {
     "end_time": "2024-05-06T02:17:02.333394Z",
     "start_time": "2024-05-06T02:17:02.318724Z"
    }
   },
   "outputs": [
    {
     "name": "stdout",
     "output_type": "stream",
     "text": [
      "Test Loss: 0.19527176219142145\n",
      "Test F1 Macro: 0.921401489070662\n"
     ]
    }
   ],
   "source": [
    "results = evaluate(net, weighted_criterion, X_test, y_test)\n",
    "print('Test Loss:', results['loss'])\n",
    "print('Test F1 Macro:', results['f1_macro'])"
   ]
  },
  {
   "cell_type": "markdown",
   "metadata": {
    "id": "6RQuGUwgb-pW"
   },
   "source": [
    "**Expected output:**\n",
    "\n",
    "<table>\n",
    "    <tr>\n",
    "        <td><b>Test Loss</b></td>\n",
    "        <td>0.1952717396327191</td>\n",
    "    </tr>\n",
    "    <tr>\n",
    "        <td><b>Test F1 Macro</b></td>\n",
    "        <td>0.921401489070662</td>\n",
    "    </tr>\n",
    "\n",
    "</table>"
   ]
  },
  {
   "cell_type": "code",
   "execution_count": 21,
   "metadata": {
    "colab": {
     "base_uri": "https://localhost:8080/",
     "height": 388
    },
    "executionInfo": {
     "elapsed": 755,
     "status": "ok",
     "timestamp": 1627471286647,
     "user": {
      "displayName": "Andrii Torchylo",
      "photoUrl": "https://lh3.googleusercontent.com/a-/AOh14GhSHrfnmdTTqVlYK2P7--1l4ZmX3cOVoOKBaF_X1350AUh2Hw-8iexkcrw8f0ZguHYPkxchVQLN4vvFJszxMYEoL3-yzEGhPohOED0sx5u7EKK9hJMhHM1JbbPjghCnglL0Zz_at07ZMcLoOO3ONUTdLXUSNXEL7lAbCxGUoZ1-yJacKjS7ciUGudy61oEhf-Gn3oe6uX114ytnI2drWjWFayaDYlELr0eZv5abp2N5dD_eGk1Zma2lw9SpXJvU-JSXtBDhuTPWnw1psc814VDr2LIA8Azo6GVmuZw6YwiaLeEXSe6FodCBvHnPEbjRW2udYaElua_VOlF3JC-OwnNwfPA3gkurKjo3UwM5lq2uCXfydPxBdCFV9SHqFA5b0cbb8botQg1gTZpFdKcbz3fvlT3xCwS-EVsZ7H-ilkJ99Aak2EekfG8AWQH6RXcaqmpByiC0SKnFZtaoj4KfBYW1-hv-VGj43OGPPTbwYY_Hdf-zWIYDwK2fpDO7-QRHuKpfVVs2kKVgpnMH9klcNQpHBRiD4nlvjOtQvcVdr-ks-SebzdTHtNkDNqH1fT6JHoStV6QuOQ35RhL54wgdcac32pPnM9ZiMLJ30OYjCJZT0k-ZdYICDM41dFY6pEL20fdcH1ZtsNd_ziV127kXncpeEeIuKNeo5FBdCxGLDBEXPeV43pGlCBIxQLD-Ld3d36ZP6S9Hq6WJOzAKMROS60zHEYcNogfleMoith6gqSrIaSSw39Kb32Q55BISBFn7-FIOdQ=s64",
      "userId": "18357331370165036741"
     },
     "user_tz": -180
    },
    "id": "T7wqcgnWyrMe",
    "outputId": "40fec5a0-ca89-4d62-dbe6-0f9316649c0a",
    "ExecuteTime": {
     "end_time": "2024-05-06T02:17:02.537787Z",
     "start_time": "2024-05-06T02:17:02.334446Z"
    }
   },
   "outputs": [
    {
     "data": {
      "text/plain": "<Figure size 800x600 with 1 Axes>",
      "image/png": "[encoded data removed]"
     },
     "metadata": {},
     "output_type": "display_data"
    }
   ],
   "source": [
    "confusion = confusion_matrix(results['targets'], results['predictions'])\n",
    "plt.figure(figsize=(8, 6))\n",
    "sns.heatmap(confusion, annot=True, cbar=False,\n",
    "            xticklabels=Config.classes,\n",
    "            yticklabels=Config.classes)\n",
    "plt.ylabel('Predicted class')\n",
    "plt.xlabel('Actual class')\n",
    "plt.show()"
   ]
  },
  {
   "cell_type": "markdown",
   "metadata": {
    "id": "kJUn0jH2tPrD"
   },
   "source": [
    "**Interpretation:** As we can see from the confusion matrix, our model performs decently well on most examples. It confuses only some amphibians with reptiles and some bugs with invertebrates, which is justifiable given that those animal classes have similar characteristics."
   ]
  },
  {
   "cell_type": "markdown",
   "metadata": {
    "id": "50MwJ542uMlh"
   },
   "source": [
    "# 6 - What to do next\n",
    "\n",
    "After you submit your lab, try playing with model architecture, and hyperparameters. We highly recommend that you try fitting a model without loss scaling and compare the results. "
   ]
  }
 ],
 "metadata": {
  "colab": {
   "collapsed_sections": [],
   "name": "Multi_Class_Classification_solution.ipynb",
   "provenance": []
  },
  "kernelspec": {
   "name": "python3",
   "language": "python",
   "display_name": "Python 3 (ipykernel)"
  },
  "language_info": {
   "codemirror_mode": {
    "name": "ipython",
    "version": 3
   },
   "file_extension": ".py",
   "mimetype": "text/x-python",
   "name": "python",
   "nbconvert_exporter": "python",
   "pygments_lexer": "ipython3",
   "version": "3.9.7"
  }
 },
 "nbformat": 4,
 "nbformat_minor": 4
}
