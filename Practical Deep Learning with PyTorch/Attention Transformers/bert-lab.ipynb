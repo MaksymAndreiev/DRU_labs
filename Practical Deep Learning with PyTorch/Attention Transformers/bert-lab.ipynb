{
 "cells": [
  {
   "cell_type": "markdown",
   "metadata": {
    "id": "kOL39he2wgBp-gh"
   },
   "source": [
    "# **Attention Transformers: BERT**\n",
    "\n",
    "Hi! In this lab, you will learn how to use BERT (**Bidirectional Encoder Representations from Transformers**) model for a quotes classification task.\n",
    "\n",
    "**GPU** is recomended for this assignment. `Runtime` -> `Change runtime type` -> `GPU`\n",
    "\n",
    "**Instructions**\n",
    "- Write code in the space indicated with `### START CODE HERE ###`\n",
    "- Do not use loops (for/while) unless instructions explicitly tell you so. Parallelization in Deep Learning is key!\n",
    "- If you get stuck, ask for help in Slack or DM `@DRU Team`\n",
    "\n",
    "**You will learn**\n",
    "- How to build a custom BERT transformer\n",
    "    - How to preprocess text dataset for BERT model\n",
    "    - How to create a custom PyTorch dataset\n",
    "    - How to train and evaluate transformer model for a classification NLP task\n",
    "    - How to visualize the results using TensorBoard"
   ]
  },
  {
   "cell_type": "markdown",
   "metadata": {
    "id": "Oux1PSRHyJnz"
   },
   "source": [
    "# **Download data**"
   ]
  },
  {
   "cell_type": "code",
   "metadata": {
    "id": "HBzJzuuOyLeJ",
    "ExecuteTime": {
     "end_time": "2024-08-08T07:12:26.020090Z",
     "start_time": "2024-08-08T07:12:19.546788Z"
    }
   },
   "source": [
    "!pip install wget\n",
    "import wget \n",
    "wget.download('https://dru.fra1.digitaloceanspaces.com/DL_pytorch/datasets/07_attention_transformers/Bert/Quotes_dataset.csv')"
   ],
   "outputs": [
    {
     "name": "stdout",
     "output_type": "stream",
     "text": [
      "Requirement already satisfied: wget in c:\\users\\maxog\\pycharmprojects\\dru_labs\\.venv\\lib\\site-packages (3.2)\n"
     ]
    },
    {
     "name": "stderr",
     "output_type": "stream",
     "text": [
      "\n",
      "[notice] A new release of pip is available: 24.0 -> 24.2\n",
      "[notice] To update, run: python.exe -m pip install --upgrade pip\n"
     ]
    },
    {
     "data": {
      "text/plain": "'Quotes_dataset (1).csv'"
     },
     "execution_count": 1,
     "metadata": {},
     "output_type": "execute_result"
    }
   ],
   "execution_count": 1
  },
  {
   "cell_type": "markdown",
   "metadata": {
    "id": "hmXfKT-8yM4j"
   },
   "source": [
    "# **Import packages**\n",
    "\n",
    "Here we will import our regular packages with the addition of [transformers](https://huggingface.co/docs/transformers/index), which provides APIs to download and train state-of-the-art pretrained models quickly. In this lab, we will use a pre-trained model like `BertModel` and `BertTokenizer` for the tokenization task."
   ]
  },
  {
   "cell_type": "code",
   "metadata": {
    "id": "_Y3qTJxawsga",
    "ExecuteTime": {
     "end_time": "2024-08-08T07:12:33.728712Z",
     "start_time": "2024-08-08T07:12:26.020090Z"
    }
   },
   "source": [
    "import numpy as np\n",
    "import pandas as pd\n",
    "import seaborn as sns\n",
    "import matplotlib.pyplot as plt\n",
    "from sklearn.model_selection import train_test_split\n",
    "from collections import defaultdict\n",
    "from torch.optim import Adam\n",
    "from tqdm import tqdm\n",
    "\n",
    "import torch\n",
    "from torch import nn, optim\n",
    "from torch.utils.data import Dataset, DataLoader\n",
    "from torch.utils.tensorboard import SummaryWriter\n",
    "\n",
    "!pip install transformers==4.17.0\n",
    "import transformers\n",
    "from transformers import BertModel, BertTokenizer"
   ],
   "outputs": [
    {
     "name": "stdout",
     "output_type": "stream",
     "text": [
      "Requirement already satisfied: transformers==4.17.0 in c:\\users\\maxog\\pycharmprojects\\dru_labs\\.venv\\lib\\site-packages (4.17.0)\n",
      "Requirement already satisfied: filelock in c:\\users\\maxog\\pycharmprojects\\dru_labs\\.venv\\lib\\site-packages (from transformers==4.17.0) (3.14.0)\n",
      "Requirement already satisfied: huggingface-hub<1.0,>=0.1.0 in c:\\users\\maxog\\pycharmprojects\\dru_labs\\.venv\\lib\\site-packages (from transformers==4.17.0) (0.23.4)\n",
      "Requirement already satisfied: numpy>=1.17 in c:\\users\\maxog\\pycharmprojects\\dru_labs\\.venv\\lib\\site-packages (from transformers==4.17.0) (1.24.4)\n",
      "Requirement already satisfied: packaging>=20.0 in c:\\users\\maxog\\pycharmprojects\\dru_labs\\.venv\\lib\\site-packages (from transformers==4.17.0) (24.0)\n",
      "Requirement already satisfied: pyyaml>=5.1 in c:\\users\\maxog\\pycharmprojects\\dru_labs\\.venv\\lib\\site-packages (from transformers==4.17.0) (6.0.1)\n",
      "Requirement already satisfied: regex!=2019.12.17 in c:\\users\\maxog\\pycharmprojects\\dru_labs\\.venv\\lib\\site-packages (from transformers==4.17.0) (2024.5.15)\n",
      "Requirement already satisfied: requests in c:\\users\\maxog\\pycharmprojects\\dru_labs\\.venv\\lib\\site-packages (from transformers==4.17.0) (2.31.0)\n",
      "Requirement already satisfied: sacremoses in c:\\users\\maxog\\pycharmprojects\\dru_labs\\.venv\\lib\\site-packages (from transformers==4.17.0) (0.1.1)\n",
      "Requirement already satisfied: tokenizers!=0.11.3,>=0.11.1 in c:\\users\\maxog\\pycharmprojects\\dru_labs\\.venv\\lib\\site-packages (from transformers==4.17.0) (0.19.1)\n",
      "Requirement already satisfied: tqdm>=4.27 in c:\\users\\maxog\\pycharmprojects\\dru_labs\\.venv\\lib\\site-packages (from transformers==4.17.0) (4.66.4)\n",
      "Requirement already satisfied: fsspec>=2023.5.0 in c:\\users\\maxog\\pycharmprojects\\dru_labs\\.venv\\lib\\site-packages (from huggingface-hub<1.0,>=0.1.0->transformers==4.17.0) (2024.3.1)\n",
      "Requirement already satisfied: typing-extensions>=3.7.4.3 in c:\\users\\maxog\\pycharmprojects\\dru_labs\\.venv\\lib\\site-packages (from huggingface-hub<1.0,>=0.1.0->transformers==4.17.0) (4.11.0)\n",
      "Requirement already satisfied: colorama in c:\\users\\maxog\\pycharmprojects\\dru_labs\\.venv\\lib\\site-packages (from tqdm>=4.27->transformers==4.17.0) (0.4.6)\n",
      "Requirement already satisfied: charset-normalizer<4,>=2 in c:\\users\\maxog\\pycharmprojects\\dru_labs\\.venv\\lib\\site-packages (from requests->transformers==4.17.0) (3.3.2)\n",
      "Requirement already satisfied: idna<4,>=2.5 in c:\\users\\maxog\\pycharmprojects\\dru_labs\\.venv\\lib\\site-packages (from requests->transformers==4.17.0) (3.7)\n",
      "Requirement already satisfied: urllib3<3,>=1.21.1 in c:\\users\\maxog\\pycharmprojects\\dru_labs\\.venv\\lib\\site-packages (from requests->transformers==4.17.0) (2.2.1)\n",
      "Requirement already satisfied: certifi>=2017.4.17 in c:\\users\\maxog\\pycharmprojects\\dru_labs\\.venv\\lib\\site-packages (from requests->transformers==4.17.0) (2024.2.2)\n",
      "Requirement already satisfied: click in c:\\users\\maxog\\pycharmprojects\\dru_labs\\.venv\\lib\\site-packages (from sacremoses->transformers==4.17.0) (8.1.7)\n",
      "Requirement already satisfied: joblib in c:\\users\\maxog\\pycharmprojects\\dru_labs\\.venv\\lib\\site-packages (from sacremoses->transformers==4.17.0) (1.4.0)\n"
     ]
    },
    {
     "name": "stderr",
     "output_type": "stream",
     "text": [
      "\n",
      "[notice] A new release of pip is available: 24.0 -> 24.2\n",
      "[notice] To update, run: python.exe -m pip install --upgrade pip\n"
     ]
    }
   ],
   "execution_count": 2
  },
  {
   "cell_type": "markdown",
   "metadata": {
    "id": "gW4v3hphyVBl"
   },
   "source": [
    "# **Data Preprocessing and visualizations**\n",
    "\n",
    "For our dataset, we will be using the [Quotes dataset](https://www.kaggle.com/abdokamr/good-reads-quotes) from [Kaggle](https://www.kaggle.com). This dataset contains ~3000 quotes from each quote class (quotes of death, quotes of humor, etc.). We will use just a sample of the original dataset with 5 classes. Our task will be to classify the quote tag by text."
   ]
  },
  {
   "cell_type": "markdown",
   "metadata": {
    "id": "Eagh2GBSNudG"
   },
   "source": [
    "## Load the data"
   ]
  },
  {
   "cell_type": "code",
   "metadata": {
    "id": "h85TUUA-qQhG",
    "ExecuteTime": {
     "end_time": "2024-08-08T07:12:33.917388Z",
     "start_time": "2024-08-08T07:12:33.728712Z"
    }
   },
   "source": [
    "data = pd.read_csv('Quotes_dataset.csv')\n",
    "data.head(5)"
   ],
   "outputs": [
    {
     "data": {
      "text/plain": "                                              quotes              tag\n0  To the well-organized mind, death is but the n...  quotes_of_death\n1  I wish it need not have happened in my time,\" ...  quotes_of_death\n2  I'm the one that's got to die when it's time f...  quotes_of_death\n3  The fear of death follows from the fear of lif...  quotes_of_death\n4  I DON'T CARE!\" Harry yelled at them, snatching...  quotes_of_death",
      "text/html": "<div>\n<style scoped>\n    .dataframe tbody tr th:only-of-type {\n        vertical-align: middle;\n    }\n\n    .dataframe tbody tr th {\n        vertical-align: top;\n    }\n\n    .dataframe thead th {\n        text-align: right;\n    }\n</style>\n<table border=\"1\" class=\"dataframe\">\n  <thead>\n    <tr style=\"text-align: right;\">\n      <th></th>\n      <th>quotes</th>\n      <th>tag</th>\n    </tr>\n  </thead>\n  <tbody>\n    <tr>\n      <th>0</th>\n      <td>To the well-organized mind, death is but the n...</td>\n      <td>quotes_of_death</td>\n    </tr>\n    <tr>\n      <th>1</th>\n      <td>I wish it need not have happened in my time,\" ...</td>\n      <td>quotes_of_death</td>\n    </tr>\n    <tr>\n      <th>2</th>\n      <td>I'm the one that's got to die when it's time f...</td>\n      <td>quotes_of_death</td>\n    </tr>\n    <tr>\n      <th>3</th>\n      <td>The fear of death follows from the fear of lif...</td>\n      <td>quotes_of_death</td>\n    </tr>\n    <tr>\n      <th>4</th>\n      <td>I DON'T CARE!\" Harry yelled at them, snatching...</td>\n      <td>quotes_of_death</td>\n    </tr>\n  </tbody>\n</table>\n</div>"
     },
     "execution_count": 3,
     "metadata": {},
     "output_type": "execute_result"
    }
   ],
   "execution_count": 3
  },
  {
   "cell_type": "markdown",
   "metadata": {
    "id": "JGqeWTtksFq3"
   },
   "source": [
    "## Data Visualization\n",
    "\n",
    "Let's visualize how many quotes from each class we have:"
   ]
  },
  {
   "cell_type": "code",
   "metadata": {
    "id": "hJninhOTsKs_",
    "ExecuteTime": {
     "end_time": "2024-08-08T07:12:34.247664Z",
     "start_time": "2024-08-08T07:12:33.917388Z"
    }
   },
   "source": [
    "plt.figure(figsize=(10, 6))\n",
    "class_counts = data.tag.value_counts()\n",
    "plt.bar(class_counts.index, class_counts.to_list())\n",
    "plt.xticks(np.arange(5), data[\"tag\"].unique())\n",
    "plt.xlabel('Tag class', fontweight='bold', fontsize=14.0)\n",
    "plt.ylabel('Count', fontweight='bold', fontsize=14.0 )\n",
    "plt.tight_layout()\n",
    "plt.show()"
   ],
   "outputs": [
    {
     "data": {
      "text/plain": "<Figure size 1000x600 with 1 Axes>",
      "image/png": "[encoded data removed]"
     },
     "metadata": {},
     "output_type": "display_data"
    }
   ],
   "execution_count": 4
  },
  {
   "cell_type": "markdown",
   "metadata": {
    "id": "sCfbXjjWKcMK"
   },
   "source": [
    "## Config\n",
    "\n",
    "In `Config` class, we will define standard hyperparameters for training. There are also a few additional hyperparameters: <br><br>\n",
    "\n",
    "**Model Config**\n",
    "- **model_name** - is a case-sensitive BERT model, which makes a difference between 'Hello' and 'hello'.\n",
    "- **max_len** - specifies the length of the tokenized text\n",
    "- **hidden_size** - is the number of hidden units in the feedforward-network\n",
    "\n",
    "**Data Preparation**\n",
    "- **test_fraction** - the fraction of the whole dataset that will be used for the final evaluation\n",
    "- **validation_fraction** - the fraction of the entire dataset that will be used for validating model performance during training\n",
    "- **num_workers** - denotes the number of processes that generate batches in parallel\n",
    "- **classes** - the names of the tags that we will classify\n",
    "- **tags_map** - is a dict with classes names and their encoded labels\n",
    "- **logdir** - is the directory you will create data to visualize in TensorBoard.\n"
   ]
  },
  {
   "cell_type": "code",
   "metadata": {
    "id": "M9tpheI4Khay",
    "ExecuteTime": {
     "end_time": "2024-08-08T07:12:34.263293Z",
     "start_time": "2024-08-08T07:12:34.247664Z"
    }
   },
   "source": [
    "# VALIDATION_FIELD[cls] Config\n",
    "\n",
    "class Config:\n",
    "\n",
    "    # Model Config\n",
    "    model_name = 'bert-base-cased'\n",
    "    max_len = 128\n",
    "    hidden_size = 768\n",
    "\n",
    "    # Data preparation\n",
    "    test_fraction = 0.1\n",
    "    validation_fraction = 0.1\n",
    "    batch_size = 16\n",
    "    num_workers = 2\n",
    "    classes = ('quotes_of_death', 'quotes_of_science', 'quotes_of_humor', 'quotes_of_success', 'quotes_of_love')\n",
    "    tags_map = {cls:i for i,cls in enumerate(classes)}\n",
    "    logdir = 'logdir'\n",
    "\n",
    "    # Training\n",
    "    seed = 21\n",
    "    epochs = 5\n",
    "    learning_rate = 1e-6\n",
    "    num_classes = len(classes)\n",
    "    device = torch.device('cuda') if torch.cuda.is_available() else torch.device('cpu')"
   ],
   "outputs": [],
   "execution_count": 5
  },
  {
   "cell_type": "code",
   "metadata": {
    "id": "Ct9wTpKPKqP6",
    "ExecuteTime": {
     "end_time": "2024-08-08T07:12:34.310581Z",
     "start_time": "2024-08-08T07:12:34.263293Z"
    }
   },
   "source": [
    "def set_seed(seed):\n",
    "    np.random.seed(seed) \n",
    "    torch.manual_seed(seed)\n",
    "\n",
    "set_seed(Config.seed)"
   ],
   "outputs": [],
   "execution_count": 6
  },
  {
   "cell_type": "markdown",
   "metadata": {
    "id": "qLE4Xj4vYv1N"
   },
   "source": [
    "## **Transformers What Is It?**\n",
    "The [Attention Is All You Need](https://arxiv.org/abs/1706.03762) paper presented the Transformer model. Transformers are a new type of neural network aimed at **solving sequences with easy processing of long-range dependencies**.\n",
    "\n",
    "Unlike recurrent neural networks (**RNNs**), transformers do not process sequences in order. In a way, the transformer model is non-directional. For example, if the source data is text, they do not need to process the end of the sentence after processing the beginning. So, a transformer neural network can be parallelized and trained much faster.\n",
    "\n",
    "[The Transformer architecture](https://machinelearningmastery.com/the-transformer-model/) has an **encoder-decoder** structure. The **encoder** maps an input sequence `X`=$(x_1,x_2,..,x_n)$  into an abstract continuous representation `z`=$(z_1,z_2,..,z_n)$  that holds all the learned information of that input. The **decoder** then takes that continuous representation `z` and, step by step, generates an output sequence `Y`=$(y_1,y_2,..,y_m)$  of symbols one element at a time, consuming the previously generated symbols as additional input when generating the next.\n",
    "  \n",
    "\n",
    "## **Preprocessing & Tokenization**\n",
    "Before using your data in a model, data needs to be processed into an acceptable format. A model does not understand raw text, images or audio. So inputs need to be converted into numbers.\n",
    "\n",
    "The primary tool for processing textual data is a [tokenizer](https://huggingface.co/docs/transformers/master/en/main_classes/tokenizer). A tokenizer splits text into *tokens*, which are part of a fixed vocabulary. The tokens are converted into numbers, which are used to build tensors as input to a model.\n",
    "\n",
    "<img src=\"https://dru.fra1.digitaloceanspaces.com/DL_pytorch/static/ntbk_images/tokenization.png\">\n",
    "\n",
    "## **Embeddings**\n",
    "Tokens are converted into [embedding vectors](https://medium.com/deeper-learning/glossary-of-deep-learning-word-embedding-f90c3cec34ca) using a fixed representation like word2vec or any other. An embedding captures the input semantics by placing semantically similar inputs close together in the embedding space.\n",
    "\n",
    "## **Positional Encodings**\n",
    "Converting a sequence into tokenization, you lose the notion of order. The neural network cannot understand any order in a set of tokens. [The positional encoders](https://kazemnejad.com/blog/transformer_architecture_positional_encoding/) receive inputs from the input embeddings layer and apply relative positional information. This layer outputs word vectors with positional information. In other words, it is the word’s meaning and its context in the sentence.\n",
    "\n",
    "<img src=\"https://dru.fra1.digitaloceanspaces.com/DL_pytorch/static/ntbk_images/positional_encoding.png\">\n",
    "\n",
    "## **Attention**\n",
    "LSTMs and RNNs present 3 problems:\n",
    "- Processing word by word inhibits parallelization\n",
    "- There is no explicit model of long and short-range dependencies\n",
    "- The model often forgets the content of distant positions in the sequence for long sentences\n",
    "\n",
    "So was created a technique to solve some of these problems by paying [attention](https://arxiv.org/pdf/1706.03762.pdf) to specific words. Neural networks can focus on the part of a subset of the information they are given. For example, imagine that you are in a large crowd of people. You can recognize your name being spoken by someone in a crowd, even if it should get lost in all the other noise. Your brain can focus on necessary things and filter out unnecessary information.\n",
    "\n",
    "Vanilla attention uses a linear combination of previously hidden vectors in the input sequence or a sentence in the case of a sequence-to-sequence model. This combination of hidden vectors is concatenated with the current word's vector and fed to the next layer of the model. [Here](https://jalammar.github.io/visualizing-neural-machine-translation-mechanics-of-seq2seq-models-with-attention/) you can find a more detailed explanation of attention with informative gifs.\n",
    "\n",
    "## **Self-Attention**\n",
    "[Self-attention](https://jalammar.github.io/illustrated-transformer/) is a new step in the attention technique. Instead of looking at prior hidden vectors when considering a word embedding, self-attention is a weighted combination of all other word embeddings.\n",
    "\n",
    "## **Multi-Headed Attention**\n",
    "[Multi-headed attention](https://jalammar.github.io/illustrated-transformer/) is a further innovation that gives the transformer greater power to encode multiple relationships for each word. The idea is that by repeating the self-attention mechanism multiple times, the model can learn to separate different kinds of useful semantic information into other channels.\n",
    "\n",
    "## **Outputs**\n",
    "\n",
    "- There are two output layers: a linear layer followed by a softmax layer. The linear layer performs a decompression task: it takes the final encoded representation for the output word. It turns it around into log-odds for each word in the recipient language's vocabulary. A softmax running on this then turns that into probabilities, and we take an `argmax` of that — standard stuff for a language generation model.\n",
    "- The loss function is the cross-entropy of KL divergence.\n",
    "- As an optimization, beam search is also possible: take the top $𝑁$ most likely words and continue searching through the sentence with lookahead.\n",
    "\n",
    "## **NLP Tasks Transformers Can Solve**\n",
    "\n",
    "- ### MLM (Masked Language Modeling)\n",
    "    This transformer architecture involves masking part of the input and then learning a model to predict the missing tokens - essentially reconstructing the non-masked input. MLM is often used within pretraining tasks to allow models to learn textual patterns from unlabeled data.\n",
    "\n",
    "- ### NSP (Next Sentence Prediction)\n",
    "    In this transformer architecture, the model receives pairs of sentences as input and learns to predict if the second sentence in the pair is the subsequent sentence in the original document. During training, 50% of the inputs are a pair in which the second sentence is the subsequent sentence in the original document, while in the other 50%, a random sentence from the corpus is chosen as the second sentence. The assumption is that the random sentence will be disconnected from the first sentence.\n",
    "- ### SC (Sequence Classification)\n",
    "    Sequence classification is a DP technique in NLP to classify the type of text into a particular category. These categories depend on the type of task they perform. Examples include sentiment analysis, topic labelling, spam detection, and intent detection.\n",
    "- ### QA (Question Answering)\n",
    "    Question Answering aims to find the answer to a question given a question and an accompanying context. The predicted answer will be either a span of text from the context or an empty string (indicating the question cannot be answered from the context)."
   ]
  },
  {
   "cell_type": "markdown",
   "metadata": {
    "id": "_kv4V0AguCsh"
   },
   "source": [
    "## Data Preprocessing\n",
    "\n",
    "Some BERT's model requirements for text preprocessing:\n",
    "- Add special tokens to separate sentences for doing classification.\n",
    "- Pass sequences using constant length.\n",
    "- Create an *attention mask* array consisting of 0s (pad token) and 1s (real token).\n",
    "\n",
    "We will use the transformers library, including prebuild tokenizers that help us process our text easily and quickly!\n",
    "\n",
    "Let's load a pre-trained [BertTokenizer](https://huggingface.co/transformers/model_doc/bert.html#berttokenizer):\n",
    "\n",
    "> We will use a cased version of BERT and tokenizer - `bert-base-cased`."
   ]
  },
  {
   "cell_type": "code",
   "metadata": {
    "id": "JD2-zL2orlaP",
    "ExecuteTime": {
     "end_time": "2024-08-08T07:12:36.671926Z",
     "start_time": "2024-08-08T07:12:34.310581Z"
    }
   },
   "source": [
    "# VALIDATION_FIELD[func] tokenizer\n",
    "\n",
    "tokenizer = BertTokenizer.from_pretrained(Config.model_name)"
   ],
   "outputs": [],
   "execution_count": 7
  },
  {
   "cell_type": "markdown",
   "metadata": {
    "id": "U0-BPsLa3-Nt"
   },
   "source": [
    "Let's use some text to understand the tokenization process clearly:"
   ]
  },
  {
   "cell_type": "code",
   "metadata": {
    "id": "dcEASe3K39lE",
    "ExecuteTime": {
     "end_time": "2024-08-08T07:12:36.687882Z",
     "start_time": "2024-08-08T07:12:36.674594Z"
    }
   },
   "source": [
    "sample_text = 'Success is not final; failure is not fatal: It is the courage to continue that counts.'"
   ],
   "outputs": [],
   "execution_count": 8
  },
  {
   "cell_type": "markdown",
   "metadata": {
    "id": "Gt7fpsLq4duV"
   },
   "source": [
    "Here are some basic operations to convert our sample text to tokens and tokens to unique ids:"
   ]
  },
  {
   "cell_type": "code",
   "metadata": {
    "id": "DsPMTvO641sl",
    "ExecuteTime": {
     "end_time": "2024-08-08T07:12:36.703589Z",
     "start_time": "2024-08-08T07:12:36.690076Z"
    }
   },
   "source": [
    "tokens = tokenizer.tokenize(sample_text)\n",
    "token_ids = tokenizer.convert_tokens_to_ids(tokens)\n",
    "\n",
    "print(f'Original sentence: {sample_text}')\n",
    "print(f'Tokenized sentence: {tokens}')\n",
    "print(f'Token IDs: {token_ids}')"
   ],
   "outputs": [
    {
     "name": "stdout",
     "output_type": "stream",
     "text": [
      "Original sentence: Success is not final; failure is not fatal: It is the courage to continue that counts.\n",
      "Tokenized sentence: ['Success', 'is', 'not', 'final', ';', 'failure', 'is', 'not', 'fatal', ':', 'It', 'is', 'the', 'courage', 'to', 'continue', 'that', 'counts', '.']\n",
      "Token IDs: [25911, 1110, 1136, 1509, 132, 4290, 1110, 1136, 11874, 131, 1135, 1110, 1103, 9163, 1106, 2760, 1115, 10664, 119]\n"
     ]
    }
   ],
   "execution_count": 9
  },
  {
   "cell_type": "markdown",
   "metadata": {
    "id": "oMgVoZNQ5NMh"
   },
   "source": [
    "### Special Tokens\n",
    "\n",
    "BERT uses special tokens:\n",
    "\n",
    "- `[SEP]` - indicates the end of a sentence\n",
    "- `[CLS]` - is a special classification token, so we add this token to the start of each sentence.\n",
    "- `[PAD]` - is a special token for padding.\n",
    "- `[UNK]` - uses for tokens not appearing in the training vocabulary, so they should be replaced with a special token `[UNK]`, which stands for unknown token."
   ]
  },
  {
   "cell_type": "code",
   "metadata": {
    "id": "xqWQ8CUR5D8f",
    "ExecuteTime": {
     "end_time": "2024-08-08T07:12:36.719224Z",
     "start_time": "2024-08-08T07:12:36.703589Z"
    }
   },
   "source": [
    "print(f'Token:{tokenizer.sep_token}, token id:{tokenizer.sep_token_id}')\n",
    "print(f'Token:{tokenizer.cls_token}, token id:{tokenizer.cls_token_id}')\n",
    "print(f'Token:{tokenizer.pad_token}, token id:{tokenizer.pad_token_id}')\n",
    "print(f'Token:{tokenizer.unk_token}, token id:{tokenizer.unk_token_id}')"
   ],
   "outputs": [
    {
     "name": "stdout",
     "output_type": "stream",
     "text": [
      "Token:[SEP], token id:102\n",
      "Token:[CLS], token id:101\n",
      "Token:[PAD], token id:0\n",
      "Token:[UNK], token id:100\n"
     ]
    }
   ],
   "execution_count": 10
  },
  {
   "cell_type": "markdown",
   "metadata": {
    "id": "re34HGN_8qfY"
   },
   "source": [
    "All this can be combined using the [`encode_plus()`](https://huggingface.co/transformers/main_classes/tokenizer.html#transformers.PreTrainedTokenizer.encode_plus) method:"
   ]
  },
  {
   "cell_type": "code",
   "metadata": {
    "id": "mxltI1mJ8aqq",
    "ExecuteTime": {
     "end_time": "2024-08-08T07:12:36.782539Z",
     "start_time": "2024-08-08T07:12:36.721232Z"
    }
   },
   "source": [
    "encoding = tokenizer.encode_plus(\n",
    "  sample_text, # The sentence to be encoded\n",
    "  max_length=32, # Maximum length of a sentence\n",
    "  add_special_tokens=True, # Add '[CLS]' and '[SEP]'\n",
    "  return_token_type_ids=False, # Don't return token type ids\n",
    "  padding='max_length', # Pad sentence to max length\n",
    "  return_attention_mask=True, # Generate the attention mask\n",
    "  return_tensors='pt',  # Return PyTorch tensors\n",
    ")\n",
    "\n",
    "# Let's get the sample text IDs and attention mask in tensor format\n",
    "input_ids = encoding['input_ids']\n",
    "attn_mask = encoding['attention_mask']\n",
    "ids_to_tokens = tokenizer.convert_ids_to_tokens(input_ids[0])\n",
    "\n",
    "print(f'Input IDs: {input_ids}')\n",
    "print(f'Attention mask: {attn_mask}')\n",
    "print(f'Padded text length: {len(input_ids[0])}')"
   ],
   "outputs": [
    {
     "name": "stdout",
     "output_type": "stream",
     "text": [
      "Input IDs: tensor([[  101, 25911,  1110,  1136,  1509,   132,  4290,  1110,  1136, 11874,\n",
      "           131,  1135,  1110,  1103,  9163,  1106,  2760,  1115, 10664,   119,\n",
      "           102,     0,     0,     0,     0,     0,     0,     0,     0,     0,\n",
      "             0,     0]])\n",
      "Attention mask: tensor([[1, 1, 1, 1, 1, 1, 1, 1, 1, 1, 1, 1, 1, 1, 1, 1, 1, 1, 1, 1, 1, 0, 0, 0,\n",
      "         0, 0, 0, 0, 0, 0, 0, 0]])\n",
      "Padded text length: 32\n"
     ]
    }
   ],
   "execution_count": 11
  },
  {
   "cell_type": "markdown",
   "metadata": {
    "id": "6bPN4cWJE6Tq"
   },
   "source": [
    "# **Choosing Sequence Length**\n",
    "\n",
    "BERT model works with fixed-length sequences. So, we need to choose the max length we will use.\n",
    "\n",
    "**Excercise:** implement function `get_token_lens`\n",
    "\n",
    "\n",
    "- **Hint**: use `tokenizer.encode` to encode quote text with parameters `max_length=512` and `truncation=True`\n",
    "\n",
    "\n"
   ]
  },
  {
   "cell_type": "code",
   "metadata": {
    "id": "u_73uM8LD1fS",
    "ExecuteTime": {
     "end_time": "2024-08-08T07:12:36.798512Z",
     "start_time": "2024-08-08T07:12:36.782539Z"
    }
   },
   "source": [
    "# VALIDATION_FIELD[func] get_token_lens\n",
    "\n",
    "def get_token_lens(df):\n",
    "    \"\"\"\n",
    "    Calculates the token length of each quote in DataFrame\n",
    "\n",
    "    Arguments:\n",
    "    df -- Pandas DataFrame of quotes and their tags\n",
    "    \n",
    "    Return:\n",
    "    token_lens -- 1-D np.array of integers that represents tokens lengths of quotes\n",
    "    \"\"\"\n",
    "\n",
    "    token_lens = []\n",
    "\n",
    "    ### START CODE HERE ### (≈ 4 lines of code)\n",
    "    for quote in df.quotes:\n",
    "        encoded_quote = tokenizer.encode(quote, max_length=512, truncation=True)\n",
    "        token_lens.append(len(encoded_quote))\n",
    "    \n",
    "    return np.array(token_lens)\n",
    "    ### END CODE HERE ###"
   ],
   "outputs": [],
   "execution_count": 12
  },
  {
   "cell_type": "code",
   "metadata": {
    "id": "mrqvqGZKFmJf",
    "ExecuteTime": {
     "end_time": "2024-08-08T07:12:36.814486Z",
     "start_time": "2024-08-08T07:12:36.798512Z"
    }
   },
   "source": [
    "sample_df = data.iloc[:5].copy()\n",
    "sample_df_token_lens = get_token_lens(sample_df)\n",
    "print('Token lens: ', sample_df_token_lens)"
   ],
   "outputs": [
    {
     "name": "stdout",
     "output_type": "stream",
     "text": [
      "Token lens:  [ 17  68  35  26 142]\n"
     ]
    }
   ],
   "execution_count": 13
  },
  {
   "cell_type": "markdown",
   "metadata": {
    "id": "v5lhnO5dHQyP"
   },
   "source": [
    "**Expected output:**\n",
    "    \n",
    "<table>\n",
    "    <tr>\n",
    "        <td><b>Token lens:</b></td>\n",
    "        <td>[ 17  68  35  26 142]</td>\n",
    "    </tr>\n",
    "    \n",
    "</table>"
   ]
  },
  {
   "cell_type": "markdown",
   "metadata": {
    "id": "72kTVv_VdxFw"
   },
   "source": [
    "Let's visualize tokens size distribution for all quotes:"
   ]
  },
  {
   "cell_type": "code",
   "metadata": {
    "id": "ibxBLLRDG0K7",
    "ExecuteTime": {
     "end_time": "2024-08-08T07:12:46.012112Z",
     "start_time": "2024-08-08T07:12:36.814486Z"
    }
   },
   "source": [
    "token_lens_list = get_token_lens(data)\n",
    "\n",
    "sns.displot(token_lens_list, kind=\"kde\")\n",
    "plt.xlim([0, 512]);\n",
    "plt.xlabel('Token count');"
   ],
   "outputs": [
    {
     "data": {
      "text/plain": "<Figure size 500x500 with 1 Axes>",
      "image/png": "[encoded data removed]"
     },
     "metadata": {},
     "output_type": "display_data"
    }
   ],
   "execution_count": 14
  },
  {
   "cell_type": "markdown",
   "metadata": {
    "id": "7UNPcCvsH9ZQ"
   },
   "source": [
    "Let's try to take the length of the power of two: 128. Most of the quotes seem to contain less than 128 tokens :) We will select those with a token length less than our chosen length from our dataset.\n",
    "\n",
    "**Excercise:** implement function `select_rows_with_required_token_lens`\n",
    "\n",
    "**Hints**:\n",
    "- create a new column `token_len` for `df`, where will be the token length for each quote\n",
    "- select rows with `token_len` less than `Config.max_len`. Don't forget to use `reset_index(drop=True)`\n"
   ]
  },
  {
   "cell_type": "code",
   "metadata": {
    "id": "O40yxSMRG263",
    "ExecuteTime": {
     "end_time": "2024-08-08T07:12:46.027967Z",
     "start_time": "2024-08-08T07:12:46.012112Z"
    }
   },
   "source": [
    "# VALIDATION_FIELD[func] select_rows_with_required_token_lens\n",
    "\n",
    "def select_rows_with_required_token_lens(df, max_len=Config.max_len):\n",
    "    \"\"\"\n",
    "    Selects rows from DataFrame with quotes token length less than max_len\n",
    "\n",
    "    Arguments:\n",
    "    df -- Pandas DataFrame of quotes and their tags\n",
    "    \n",
    "    Return:\n",
    "    New DataFrame that has quotes tokens lengths less than max_len\n",
    "    \"\"\"\n",
    "\n",
    "    ### START CODE HERE ### (≈3 lines of code)\n",
    "    df['token_len'] = get_token_lens(df)\n",
    "    new_df = df[df.token_len < max_len].reset_index(drop=True)\n",
    "    return new_df\n",
    "    ### END CODE HERE ###"
   ],
   "outputs": [],
   "execution_count": 15
  },
  {
   "cell_type": "code",
   "metadata": {
    "id": "3KxbGNxUV8Gv",
    "ExecuteTime": {
     "end_time": "2024-08-08T07:12:46.059627Z",
     "start_time": "2024-08-08T07:12:46.027967Z"
    }
   },
   "source": [
    "new_sample_df = select_rows_with_required_token_lens(sample_df)\n",
    "new_sample_df"
   ],
   "outputs": [
    {
     "data": {
      "text/plain": "                                              quotes              tag  \\\n0  To the well-organized mind, death is but the n...  quotes_of_death   \n1  I wish it need not have happened in my time,\" ...  quotes_of_death   \n2  I'm the one that's got to die when it's time f...  quotes_of_death   \n3  The fear of death follows from the fear of lif...  quotes_of_death   \n\n   token_len  \n0         17  \n1         68  \n2         35  \n3         26  ",
      "text/html": "<div>\n<style scoped>\n    .dataframe tbody tr th:only-of-type {\n        vertical-align: middle;\n    }\n\n    .dataframe tbody tr th {\n        vertical-align: top;\n    }\n\n    .dataframe thead th {\n        text-align: right;\n    }\n</style>\n<table border=\"1\" class=\"dataframe\">\n  <thead>\n    <tr style=\"text-align: right;\">\n      <th></th>\n      <th>quotes</th>\n      <th>tag</th>\n      <th>token_len</th>\n    </tr>\n  </thead>\n  <tbody>\n    <tr>\n      <th>0</th>\n      <td>To the well-organized mind, death is but the n...</td>\n      <td>quotes_of_death</td>\n      <td>17</td>\n    </tr>\n    <tr>\n      <th>1</th>\n      <td>I wish it need not have happened in my time,\" ...</td>\n      <td>quotes_of_death</td>\n      <td>68</td>\n    </tr>\n    <tr>\n      <th>2</th>\n      <td>I'm the one that's got to die when it's time f...</td>\n      <td>quotes_of_death</td>\n      <td>35</td>\n    </tr>\n    <tr>\n      <th>3</th>\n      <td>The fear of death follows from the fear of lif...</td>\n      <td>quotes_of_death</td>\n      <td>26</td>\n    </tr>\n  </tbody>\n</table>\n</div>"
     },
     "execution_count": 16,
     "metadata": {},
     "output_type": "execute_result"
    }
   ],
   "execution_count": 16
  },
  {
   "cell_type": "markdown",
   "metadata": {
    "id": "Y_7p3rM0ZIps"
   },
   "source": [
    "**Expected output:**\n",
    "    \n",
    "<table>\n",
    "<tbody>\n",
    "<tr style=\"height: 23px;\">\n",
    "<td style=\"height: 23px;\">&nbsp;</td>\n",
    "<td style=\"height: 23px;\">&nbsp;quotes</td>\n",
    "<td style=\"height: 23px;\">&nbsp;tag</td>\n",
    "<td style=\"height: 23px;\">&nbsp;token_len</td>\n",
    "</tr>\n",
    "<tr style=\"height: 23px;\">\n",
    "<td style=\"height: 23px;\">&nbsp;0</td>\n",
    "<td style=\"height: 23px;\">&nbsp;To the well-organized mind, death is but the n...</td>\n",
    "<td style=\"height: 23px;\">&nbsp;quotes_of_death</td>\n",
    "<td style=\"height: 23px;\">&nbsp;17</td>\n",
    "</tr>\n",
    "<tr style=\"height: 23px;\">\n",
    "<td style=\"height: 23px;\">&nbsp;1</td>\n",
    "<td style=\"height: 23px;\">&nbsp;I wish it need not have happened in my time,\" ...</td>\n",
    "<td style=\"height: 23px;\">&nbsp;quotes_of_death</td>\n",
    "<td style=\"height: 23px;\">&nbsp;68</td>\n",
    "</tr>\n",
    "<tr style=\"height: 23px;\">\n",
    "<td style=\"height: 23px;\">&nbsp;2</td>\n",
    "<td style=\"height: 23px;\">&nbsp;I'm the one that's got to die when it's time f...</td>\n",
    "<td style=\"height: 23px;\">&nbsp;quotes_of_death</td>\n",
    "<td style=\"height: 23px;\">&nbsp;35</td>\n",
    "</tr>\n",
    "<tr style=\"height: 23px;\">\n",
    "<td style=\"height: 23px;\">&nbsp;3</td>\n",
    "<td style=\"height: 23px;\">&nbsp;The fear of death follows from the fear of lif...</td>\n",
    "<td style=\"height: 23px;\">&nbsp;quotes_of_death</td>\n",
    "<td style=\"height: 23px;\">&nbsp;26</td>\n",
    "</tr>\n",
    "</tbody>\n",
    "</table>"
   ]
  },
  {
   "cell_type": "markdown",
   "metadata": {
    "id": "n9QOFaRlLtll"
   },
   "source": [
    "# **Train/Test/Val Split**"
   ]
  },
  {
   "cell_type": "code",
   "metadata": {
    "id": "7N0TpGCiLujf",
    "ExecuteTime": {
     "end_time": "2024-08-08T07:12:55.281419Z",
     "start_time": "2024-08-08T07:12:46.059627Z"
    }
   },
   "source": [
    "new_data = select_rows_with_required_token_lens(data.copy())\n",
    "\n",
    "train_to_rest = Config.validation_fraction + Config.test_fraction\n",
    "test_to_valid = Config.validation_fraction / train_to_rest\n",
    "\n",
    "train_df, rest = train_test_split(new_data, random_state=Config.seed, test_size=train_to_rest)\n",
    "\n",
    "test_df, valid_df = train_test_split(rest, random_state=Config.seed,test_size=test_to_valid)\n",
    "\n",
    "print('Train data:', train_df.shape[0])\n",
    "print('Valid data:', valid_df.shape[0])\n",
    "print('Test data:', test_df.shape[0])"
   ],
   "outputs": [
    {
     "name": "stdout",
     "output_type": "stream",
     "text": [
      "Train data: 10468\n",
      "Valid data: 1309\n",
      "Test data: 1309\n"
     ]
    }
   ],
   "execution_count": 17
  },
  {
   "cell_type": "markdown",
   "metadata": {
    "id": "kTviR_k7UMMG"
   },
   "source": [
    "# **Dataset class and Dataloaders**\n",
    "We will define our custom PyTorch Dataset to load the quotes and their tags as one data sample.\n",
    "\n",
    "To implement PyTorch Dataset, we have to inherit from the generic PyTorch `Dataset` class and implement main and auxiliary functions:\n",
    "\n",
    "1. ` __init__`\n",
    "2. `__len__`\n",
    "3. `get_batch_tags`\n",
    "4. `get_batch_quotes`\n",
    "5. `__getitem__`\n",
    "\n",
    "### **Excercise:** implement functions:\n",
    "\n",
    "### 1.`__init__`\n",
    "The `__init__` method is responsible for initializing lists of tags and quotes for our dataset.\n",
    "\n",
    "**Hints**:\n",
    "- create an encoded list of dataset tags using dict `Config.tags_map`\n",
    "- create a tokens list of dataset quotes. Use the `tokenizer` we create earlier above with parameters: \n",
    "    - `padding='max_length'` \n",
    "    - `max_length = Config.max_len`\n",
    "    - `truncation=True`\n",
    "    - `return_tensors=\"pt\"` \n",
    "\n",
    "### 2.`__len__`\n",
    "This method is needed for the `Dataset` to understand the number of examples and for a `Dataloader` to calculate the number of batches. Find the number of tags.\n",
    "\n",
    "### 3.`get_batch_tags`\n",
    "This is a helper function for `__getitem__` to get a batch of tags with `idx`.\n",
    "\n",
    "**Hint**: the returned value must be `np.array` data type\n",
    "\n",
    "### 4.`get_batch_quotes`\n",
    "This is a helper function for `__getitem__` to get a batch of quotes with `idx`.\n",
    "\n",
    "### 5.`__getitem__`\n",
    "This method extracts a data sample by a numeric `idx`."
   ]
  },
  {
   "cell_type": "code",
   "metadata": {
    "id": "YQdU9VQ3ULhr",
    "ExecuteTime": {
     "end_time": "2024-08-08T07:12:55.296392Z",
     "start_time": "2024-08-08T07:12:55.283417Z"
    }
   },
   "source": [
    "# VALIDATION_FIELD[cls] QuotesDataset\n",
    "\n",
    "class QuotesDataset(torch.utils.data.Dataset):\n",
    "\n",
    "    def __init__(self, df, max_len=Config.max_len):\n",
    "        \n",
    "        ### START CODE HERE ### (≈6 lines of code)\n",
    "        # create an encoded list of dataset tags using Config.tags_map\n",
    "        self.tags = [Config.tags_map[tag] for tag in df.tag]\n",
    "        self.quotes = [\n",
    "            tokenizer.encode_plus(\n",
    "                quote,\n",
    "                padding='max_length',\n",
    "                max_length=max_len,\n",
    "                truncation=True,\n",
    "                return_tensors=\"pt\"\n",
    "            ) for quote in df['quotes']\n",
    "        ]\n",
    "\n",
    "    def __len__(self):\n",
    "        ### START CODE HERE ### (1 line of code)\n",
    "        return len(self.tags)\n",
    "        ### END CODE HERE ###\n",
    "\n",
    "    def get_batch_tags(self, idx):\n",
    "        # Get a batch of tags\n",
    "        ### START CODE HERE ### (1 line of code)\n",
    "        return np.array(self.tags[idx])\n",
    "        ### END CODE HERE ###\n",
    "\n",
    "    def get_batch_quotes(self, idx):\n",
    "        # Get a batch of inputs\n",
    "        ### START CODE HERE ### (1 line of code)\n",
    "        return self.quotes[idx]\n",
    "        ### END CODE HERE ###\n",
    "\n",
    "    def __getitem__(self, idx):\n",
    "        ### START CODE HERE ### (2 lines of code)\n",
    "        batch_quotes = self.get_batch_quotes(idx)        #use get_batch_quotes\n",
    "        batch_y = self.get_batch_tags(idx)        #use get_batch_tags\n",
    "        ### END CODE HERE ###\n",
    "\n",
    "        return batch_quotes, batch_y"
   ],
   "outputs": [],
   "execution_count": 18
  },
  {
   "cell_type": "code",
   "metadata": {
    "id": "8-3bnCmY5GYG",
    "ExecuteTime": {
     "end_time": "2024-08-08T07:12:55.326782Z",
     "start_time": "2024-08-08T07:12:55.298391Z"
    }
   },
   "source": [
    "QuotesDS = QuotesDataset(sample_df, max_len=10)\n",
    "quote_data, tag = QuotesDS[3]\n",
    "\n",
    "print(\"Input_ids:\", quote_data['input_ids'])\n",
    "print(\"Token_type_ids:\", quote_data['token_type_ids'])\n",
    "print(\"Attention_mask:\", quote_data['attention_mask'])\n",
    "print(\"Edcoded tag:\", tag)"
   ],
   "outputs": [
    {
     "name": "stdout",
     "output_type": "stream",
     "text": [
      "Input_ids: tensor([[ 101, 1109, 2945, 1104, 1473, 3226, 1121, 1103, 2945,  102]])\n",
      "Token_type_ids: tensor([[0, 0, 0, 0, 0, 0, 0, 0, 0, 0]])\n",
      "Attention_mask: tensor([[1, 1, 1, 1, 1, 1, 1, 1, 1, 1]])\n",
      "Edcoded tag: 0\n"
     ]
    }
   ],
   "execution_count": 19
  },
  {
   "cell_type": "markdown",
   "metadata": {
    "id": "0WFQyH7kAExo"
   },
   "source": [
    "**Expected output:**\n",
    "<table>\n",
    "<tr>\n",
    "    <td><b>Input_ids:</b></td>\n",
    "    <td>tensor([[ 101, 1109, 2945, 1104, 1473, 3226, 1121, 1103, 2945,  102]])</td>\n",
    "</tr>\n",
    "<tr>\n",
    "    <td><b>Token_type_ids:</b></td>\n",
    "    <td>tensor([[0, 0, 0, 0, 0, 0, 0, 0, 0, 0]])</td>\n",
    "</tr>\n",
    "<tr>\n",
    "    <td><b>Attention_mask:</b></td>\n",
    "    <td>tensor([[1, 1, 1, 1, 1, 1, 1, 1, 1, 1]])</td>\n",
    "</tr>\n",
    "<tr>\n",
    "    <td><b>Edcoded tag:</b></td>\n",
    "    <td>0</td>\n",
    "</tr>\n",
    "</table>"
   ]
  },
  {
   "cell_type": "markdown",
   "metadata": {
    "id": "phtd6vKAVSsZ"
   },
   "source": [
    "## Data Loaders\n",
    "\n",
    "Here we will create datasets and dataloaders:"
   ]
  },
  {
   "cell_type": "code",
   "metadata": {
    "id": "_DCxp3g6T-Do",
    "ExecuteTime": {
     "end_time": "2024-08-08T07:13:02.620155Z",
     "start_time": "2024-08-08T07:12:55.328391Z"
    }
   },
   "source": [
    "train_data = QuotesDataset(train_df)\n",
    "valid_data = QuotesDataset(valid_df)\n",
    "test_data = QuotesDataset(test_df)\n",
    "\n",
    "train_dataloader = DataLoader(train_data, batch_size=Config.batch_size, shuffle=True, num_workers=2)\n",
    "valid_dataloader = DataLoader(valid_data, batch_size=Config.batch_size, shuffle=False, num_workers=2)\n",
    "test_dataloader = DataLoader(test_data, batch_size=Config.batch_size, shuffle=False, num_workers=2)"
   ],
   "outputs": [],
   "execution_count": 20
  },
  {
   "cell_type": "markdown",
   "metadata": {
    "id": "85lSKtxIWiH-"
   },
   "source": [
    "# **Creating the model class**\n",
    "\n",
    "Transformers library has a lot of helpers that make using BERT easy way. We could use [BertForSequenceClassification](https://huggingface.co/transformers/model_doc/bert.html#bertforsequenceclassification) for our task classification, but we try to build our own quotes classifier.\n",
    "\n",
    "We'll use the basic [BertModel](https://huggingface.co/transformers/model_doc/bert.html#bertmodel) as a basis and implement our own `nn.Module` sub-class with implementing `forward` and `__init__` for it. \n",
    "\n",
    "Our model will return a tuple with two variables. Let's understand all the shapes we will have during training: our input `x` is of size `(16, 128)`, we took a batch of `16` quotes, `128` tokens each, we will have an output `y` of size `(16, 128, 768)`, this is the BERTs final layer output for each token. Each token in each quote is represented using a vector of size `768`. According to BERT, the pooled output is of size `(16, 768)` is a summary of the content.\n",
    "\n",
    "We aim to take BERTs pooled output and apply a linear layer and a ReLU activation.\n",
    "\n",
    "**Excercise:** Your task will be to implement a `BertClassifier` and `forward` pass for it.\n",
    "\n",
    "**Hints:**\n",
    "- `__init__`:\n",
    "    * Instantiate a pretrained `bert-base-cased` pytorch model\n",
    "    * Add a dropout layer for some regularization with `p=0.5`\n",
    "    * Add FC layer for our output with `in_ch = num_classes` and `out_ch = hidden_size`\n",
    "    * Add `ReLU` activation function\n",
    "- `forward`:\n",
    "    * Return the raw output `pooled_output` of the last layer Bert model. Add parameter `return_dict=False`\n",
    "    * Use `self.dropout` on `pooled_output`\n",
    "    * Use `self.linear` layer\n",
    "    * Use `self.relu` activation function"
   ]
  },
  {
   "cell_type": "code",
   "metadata": {
    "id": "lDWKbXnfWc7R",
    "ExecuteTime": {
     "end_time": "2024-08-08T07:13:02.635154Z",
     "start_time": "2024-08-08T07:13:02.622155Z"
    }
   },
   "source": [
    "# VALIDATION_FIELD[cls] BertClassifier\n",
    "\n",
    "class BertClassifier(nn.Module):\n",
    "\n",
    "    def __init__(self, hidden_size, num_classes):\n",
    "        super(BertClassifier, self).__init__()\n",
    "        ### START CODE HERE ### (≈4 lines of code)\n",
    "        self.bert = nn.DataParallel(BertModel.from_pretrained(Config.model_name))\n",
    "        self.dropout = nn.Dropout(p=0.5) \n",
    "        self.linear = nn.Linear(hidden_size, num_classes)\n",
    "        self.relu = nn.ReLU()\n",
    "        ### END CODE HERE ###\n",
    "\n",
    "    def forward(self, input_id, mask):\n",
    "        ### START CODE HERE ### (≈4 line of code)\n",
    "        pooled_output = self.bert(input_id, attention_mask=mask, return_dict=False)[1]\n",
    "        pooled_output = self.dropout(pooled_output)\n",
    "        final_layer = self.linear(pooled_output)\n",
    "        final_layer = self.relu(final_layer)\n",
    "        ### END CODE HERE ###\n",
    "\n",
    "        return final_layer"
   ],
   "outputs": [],
   "execution_count": 21
  },
  {
   "cell_type": "code",
   "metadata": {
    "id": "m1fuQS2xv4BL",
    "ExecuteTime": {
     "end_time": "2024-08-08T07:13:05.297907Z",
     "start_time": "2024-08-08T07:13:02.637158Z"
    }
   },
   "source": [
    "set_seed(Config.seed)\n",
    "Bert_Classifier = BertClassifier(Config.hidden_size, Config.num_classes)\n",
    "print('\\nOutput:', Bert_Classifier(input_ids, attn_mask)) # input_ids: [1,32], attn_mask:[1,32]\n",
    "print('Output shape:', Bert_Classifier(input_ids, attn_mask).shape) "
   ],
   "outputs": [
    {
     "name": "stderr",
     "output_type": "stream",
     "text": [
      "Some weights of the model checkpoint at bert-base-cased were not used when initializing BertModel: ['cls.predictions.decoder.weight', 'cls.predictions.bias', 'cls.predictions.transform.LayerNorm.weight', 'cls.predictions.transform.dense.weight', 'cls.predictions.transform.dense.bias', 'cls.seq_relationship.weight', 'cls.predictions.transform.LayerNorm.bias', 'cls.seq_relationship.bias']\n",
      "- This IS expected if you are initializing BertModel from the checkpoint of a model trained on another task or with another architecture (e.g. initializing a BertForSequenceClassification model from a BertForPreTraining model).\n",
      "- This IS NOT expected if you are initializing BertModel from the checkpoint of a model that you expect to be exactly identical (initializing a BertForSequenceClassification model from a BertForSequenceClassification model).\n"
     ]
    },
    {
     "name": "stdout",
     "output_type": "stream",
     "text": [
      "\n",
      "Output: tensor([[0.0000, 0.6963, 0.3680, 0.0000, 0.6494]], grad_fn=<ReluBackward0>)\n",
      "Output shape: torch.Size([1, 5])\n"
     ]
    }
   ],
   "execution_count": 22
  },
  {
   "cell_type": "markdown",
   "metadata": {
    "id": "VMRIsYpX3Pwb"
   },
   "source": [
    "**Expected output:**\n",
    "<table>\n",
    "<tr>\n",
    "    <td><b>Output:</b></td>\n",
    "    <td>tensor([ [ 0.0000, 0.6963, 0.3680, 0.0000, 0.6494 ] ], grad_fn='<'ReluBackward0'>')</td>\n",
    "</tr>\n",
    "<tr>\n",
    "    <td><b>Output shape:</b></td>\n",
    "    <td>torch.Size([ 1, 5 ])</td>\n",
    "</tr>\n",
    "</table>"
   ]
  },
  {
   "cell_type": "markdown",
   "metadata": {
    "id": "QATgMF0fZKFC"
   },
   "source": [
    "# **Training the model**\n",
    "\n",
    "Next, we will define the train and validation loops separately and then combine them in the overall train function.\n",
    "\n",
    "We will compute two metrics:\n",
    "- loss\n",
    "- accuracy\n",
    "\n",
    "## Train Loop\n",
    "\n",
    "**Excercise:** define function `train` for training the model."
   ]
  },
  {
   "cell_type": "code",
   "metadata": {
    "id": "fWzM5jdwZBWU",
    "ExecuteTime": {
     "end_time": "2024-08-08T07:13:05.313908Z",
     "start_time": "2024-08-08T07:13:05.299912Z"
    }
   },
   "source": [
    "# VALIDATION_FIELD[func] train\n",
    "\n",
    "def train(model, optimizer, criterion, train_loader, device=Config.device):\n",
    "    model.train()\n",
    "    pbar = tqdm(train_loader, desc='Iterating over train data')\n",
    "\n",
    "    total_loss_train = 0\n",
    "    total_acc_train = 0\n",
    "\n",
    "    for train_input, train_label in pbar:\n",
    "\n",
    "        ### START CODE HERE ### (≈11 lines of code)\n",
    "        # pass to device\n",
    "        train_label = train_label.to(device)\n",
    "        mask = train_input['attention_mask'].to(device)\n",
    "        input_id = train_input['input_ids'].squeeze(1).to(device)\n",
    "\n",
    "        # forward\n",
    "        output = model.forward(input_id, mask)\n",
    "        \n",
    "        batch_loss = criterion(output, train_label)        #calculate loss\n",
    "        total_loss_train = total_loss_train + batch_loss.item()        # += loss\n",
    "        \n",
    "        acc = (output.argmax(1) == train_label).sum().item()        #calculate accuracy\n",
    "        total_acc_train = total_acc_train + acc        # += acc\n",
    "\n",
    "        # optimize\n",
    "        optimizer.zero_grad()\n",
    "        batch_loss.backward()\n",
    "        optimizer.step()\n",
    "        ### END CODE HERE ###\n",
    "\n",
    "    return total_loss_train/ len(train_loader.dataset), total_acc_train/ len(train_loader.dataset)"
   ],
   "outputs": [],
   "execution_count": 23
  },
  {
   "cell_type": "code",
   "metadata": {
    "id": "299OfqWIcAsa",
    "jupyter": {
     "is_executing": true
    },
    "is_executing": true,
    "ExecuteTime": {
     "start_time": "2024-08-08T07:13:05.315908Z"
    }
   },
   "source": [
    "set_seed(Config.seed)\n",
    "model = BertClassifier(Config.hidden_size, Config.num_classes).to(Config.device)\n",
    "optimizer = Adam(model.parameters(), lr=Config.learning_rate)\n",
    "criterion = nn.CrossEntropyLoss()\n",
    "\n",
    "# we will use test_dataloader to speed up testing\n",
    "loss, acc = train(model, optimizer, criterion, test_dataloader)\n",
    "print(f'\\nTrain Loss: {loss: .3f} | Train Accuracy: {acc: .3f}')"
   ],
   "outputs": [
    {
     "name": "stderr",
     "output_type": "stream",
     "text": [
      "Some weights of the model checkpoint at bert-base-cased were not used when initializing BertModel: ['cls.predictions.decoder.weight', 'cls.predictions.bias', 'cls.predictions.transform.LayerNorm.weight', 'cls.predictions.transform.dense.weight', 'cls.predictions.transform.dense.bias', 'cls.seq_relationship.weight', 'cls.predictions.transform.LayerNorm.bias', 'cls.seq_relationship.bias']\n",
      "- This IS expected if you are initializing BertModel from the checkpoint of a model trained on another task or with another architecture (e.g. initializing a BertForSequenceClassification model from a BertForPreTraining model).\n",
      "- This IS NOT expected if you are initializing BertModel from the checkpoint of a model that you expect to be exactly identical (initializing a BertForSequenceClassification model from a BertForSequenceClassification model).\n",
      "Iterating over train data:   0%|          | 0/82 [00:00<?, ?it/s]"
     ]
    }
   ],
   "execution_count": null
  },
  {
   "cell_type": "markdown",
   "metadata": {
    "id": "LqNq7Z_acyrD"
   },
   "source": [
    "**Expected output should be around:**\n",
    "<table>\n",
    "<tr>\n",
    "    <td><b>Train Loss:</b></td>\n",
    "    <td>0.104</td>\n",
    "    <td><b>Train Accuracy:</b></td>\n",
    "    <td>0.213</td>\n",
    "</tr>\n",
    "</table>"
   ]
  },
  {
   "cell_type": "markdown",
   "metadata": {
    "id": "pjE3PCaDfSqh"
   },
   "source": [
    "## Evaluation loop"
   ]
  },
  {
   "cell_type": "code",
   "metadata": {
    "id": "ws8I7YebccvE",
    "is_executing": true
   },
   "source": [
    "# VALIDATION_FIELD[func] evaluate\n",
    "\n",
    "def evaluate(model, criterion, eval_loader, device=Config.device):\n",
    "    model.eval()\n",
    "\n",
    "    total_acc_val = 0\n",
    "    total_loss_val = 0\n",
    "\n",
    "    with torch.no_grad():\n",
    "        pbar = tqdm(eval_loader, desc='Iterating over evaluation data')\n",
    "        for val_input, val_label in pbar:\n",
    "            \n",
    "            ### START CODE HERE ### (≈8 lines of code)\n",
    "            # pass to device\n",
    "            val_label = val_label.to(device)\n",
    "            mask = val_input['attention_mask'].to(device)\n",
    "            input_id = val_input['input_ids'].squeeze(1).to(device)\n",
    "            # forward\n",
    "            output = model.forward(input_id, mask)\n",
    "            batch_loss = criterion(output, val_label)        #calculate loss\n",
    "            total_loss_val = total_loss_val + batch_loss.item()        # += loss\n",
    "            acc = (output.argmax(1) == val_label).sum().item()        #calculate accuracy\n",
    "            total_acc_val = total_acc_val + acc        # += acc\n",
    "\n",
    "            ### END CODE HERE ###\n",
    "\n",
    "    return total_loss_val/ len(eval_loader.dataset), total_acc_val/ len(eval_loader.dataset)"
   ],
   "outputs": [],
   "execution_count": null
  },
  {
   "cell_type": "code",
   "metadata": {
    "id": "4JbniIAWgJ-w",
    "is_executing": true
   },
   "source": [
    "set_seed(Config.seed)\n",
    "model = BertClassifier(Config.hidden_size, Config.num_classes).to(Config.device)\n",
    "criterion = nn.CrossEntropyLoss()\n",
    "\n",
    "loss, acc = evaluate(model, criterion, valid_dataloader)\n",
    "print(f'\\nEval Loss: {loss: .3f} | Eval Accuracy: {acc: .3f}')"
   ],
   "outputs": [],
   "execution_count": null
  },
  {
   "cell_type": "markdown",
   "metadata": {
    "id": "1ZiYfKtJd_gX"
   },
   "source": [
    "**Expected output should be around:**\n",
    "<table>\n",
    "<tr>\n",
    "    <td><b>Eval Loss:</b></td>\n",
    "    <td>0.101</td>\n",
    "    <td><b>Eval Accuracy:</b></td>\n",
    "    <td>0.211</td>\n",
    "</tr>\n",
    "</table>"
   ]
  },
  {
   "cell_type": "code",
   "metadata": {
    "id": "x3yvQzYBghHY",
    "is_executing": true
   },
   "source": [
    "def train_loop(model, optimizer, criterion, train_loader, valid_loader, device=Config.device, num_epochs=Config.epochs, logdir=Config.logdir):\n",
    "\n",
    "    history = defaultdict(list)\n",
    "    best_accuracy = 0\n",
    "\n",
    "    tb_writer = SummaryWriter(log_dir=logdir)\n",
    "    for e in range(num_epochs):\n",
    "    \n",
    "        print(f'Epoch {e + 1}/{num_epochs}')\n",
    "\n",
    "        # train on training set\n",
    "        train_loss, train_acc = train(model, optimizer, criterion, train_loader, device=device)  \n",
    "        # evaluate on validation set\n",
    "        val_loss, val_acc = evaluate(model, criterion, valid_loader, device=device)\n",
    "\n",
    "        print(f'\\nTrain Loss {train_loss: .3f} | Val Loss {val_loss: .3f}')\n",
    "        print(f'Train Accuracy {train_acc: .3f} | Val Accuracy {val_acc: .3f}')\n",
    "        print()\n",
    "\n",
    "        history['train_acc'].append(train_acc)\n",
    "        history['train_loss'].append(train_loss)\n",
    "        history['val_acc'].append(val_acc)\n",
    "        history['val_loss'].append(val_loss)\n",
    "\n",
    "        # Tensorboards Logging\n",
    "        tb_writer.add_scalar('Bert/Train Loss', train_loss, e)\n",
    "        tb_writer.add_scalar('Bert/Valid Loss', val_loss, e)\n",
    "        tb_writer.add_scalar('Bert/Train Accuracy', train_acc, e)\n",
    "        tb_writer.add_scalar('Bert/Valid Accuracy', val_acc, e)\n",
    "\n",
    "        if val_acc > best_accuracy:\n",
    "            torch.save(model.state_dict(), 'best_model_state.bin')\n",
    "            best_accuracy = val_acc\n",
    "\n",
    "    return history"
   ],
   "outputs": [],
   "execution_count": null
  },
  {
   "cell_type": "markdown",
   "metadata": {
    "id": "7kPGV4V_fL4R"
   },
   "source": [
    "**Train loss** after 5 epochs should be around ≈0.038 and **Accuracy** ≈ 0.810.\n",
    "\n",
    "**Valid loss** after 5 epochs should be around ≈0.039 and **Accuracy** ≈ 0.798.\n",
    "\n",
    "**Note:** you don't have to wait for the model to finish full training to submit the lab. We evaluate your code only in cells where we ask you to implement a function or a class."
   ]
  },
  {
   "cell_type": "code",
   "metadata": {
    "id": "UU9VLxsgjQ6N",
    "is_executing": true
   },
   "source": [
    "set_seed(Config.seed)\n",
    "model = BertClassifier(Config.hidden_size, Config.num_classes).to(Config.device)\n",
    "optimizer = Adam(model.parameters(), lr=Config.learning_rate)\n",
    "criterion = nn.CrossEntropyLoss()\n",
    "history = train_loop(model, optimizer, criterion, train_dataloader, valid_dataloader)"
   ],
   "outputs": [],
   "execution_count": null
  },
  {
   "cell_type": "code",
   "metadata": {
    "id": "l1PN_c4h6pik",
    "is_executing": true
   },
   "source": [
    "# to start TensorBoard in Google Colab run the following command\n",
    "%load_ext tensorboard\n",
    "%tensorboard --logdir=logdir"
   ],
   "outputs": [],
   "execution_count": null
  },
  {
   "cell_type": "code",
   "metadata": {
    "id": "rzW1GgwILjEg",
    "is_executing": true
   },
   "source": [
    "fig, ax =  plt.subplots(2, 1, figsize=(10, 6))\n",
    "ax[0].plot(history['train_acc'], label='train accuracy')\n",
    "ax[0].plot(history['val_acc'], label='validation accuracy')\n",
    "ax[0].set_title('Accuracy')\n",
    "ax[0].legend()\n",
    "ax[1].plot(history['train_loss'], label='train loss')\n",
    "ax[1].plot(history['val_loss'], label='validation loss')\n",
    "ax[1].set_title('Losses')\n",
    "ax[1].legend()\n",
    "plt.tight_layout()\n",
    "plt.show()"
   ],
   "outputs": [],
   "execution_count": null
  },
  {
   "cell_type": "code",
   "metadata": {
    "id": "h_gQ12CMqY8t",
    "is_executing": true
   },
   "source": [
    "# Load the latest model\n",
    "model.load_state_dict(torch.load('best_model_state.bin'))\n",
    "loss, acc = evaluate(model, criterion, test_dataloader)\n",
    "\n",
    "print(f'\\nTest Loss: {loss : .3f} | Test Accuracy {acc : .3f}')"
   ],
   "outputs": [],
   "execution_count": null
  },
  {
   "cell_type": "markdown",
   "metadata": {
    "id": "Du81omb1elp8"
   },
   "source": [
    "**Expected output should be around:**\n",
    "<table>\n",
    "<tr>\n",
    "    <td><b>Test Loss:</b></td>\n",
    "    <td>0.036</td>\n",
    "    <td><b>Test Accuracy:</b></td>\n",
    "    <td>0.811</td>\n",
    "</tr>\n",
    "</table>"
   ]
  },
  {
   "cell_type": "markdown",
   "metadata": {
    "id": "TFz1DuEDyfBp"
   },
   "source": [
    "# **Predicting on Raw Text**\n",
    "\n",
    "Let's use our model to predict the quote tag of some raw text:"
   ]
  },
  {
   "cell_type": "code",
   "metadata": {
    "id": "K4b6LQbZyeiU",
    "is_executing": true
   },
   "source": [
    "quote_text = \"Being deeply loved by someone gives you strength, while loving someone deeply gives you courage.\""
   ],
   "outputs": [],
   "execution_count": null
  },
  {
   "cell_type": "markdown",
   "metadata": {
    "id": "7QsX8fwHfYVd"
   },
   "source": [
    "Use the tokenizer to encode the text:"
   ]
  },
  {
   "cell_type": "code",
   "metadata": {
    "id": "ewjvqLuPxxX8",
    "is_executing": true
   },
   "source": [
    "encoded_quote = tokenizer.encode_plus(\n",
    "  quote_text,\n",
    "  max_length=Config.max_len,\n",
    "  add_special_tokens=True,\n",
    "  return_token_type_ids=False,\n",
    "  padding='max_length',\n",
    "  return_attention_mask=True,\n",
    "  return_tensors='pt')"
   ],
   "outputs": [],
   "execution_count": null
  },
  {
   "cell_type": "markdown",
   "metadata": {
    "id": "rqguIZSufkA1"
   },
   "source": [
    "Get the predictions from our model:"
   ]
  },
  {
   "cell_type": "code",
   "metadata": {
    "id": "u5a-_RfBzBnI",
    "is_executing": true
   },
   "source": [
    "input_ids = encoded_quote['input_ids'].to(Config.device)\n",
    "attention_mask = encoded_quote['attention_mask'].to(Config.device)\n",
    "\n",
    "output = model(input_ids, attention_mask)\n",
    "_, prediction = torch.max(output, dim=1)\n",
    "\n",
    "print(f'Review text: {quote_text}')\n",
    "print(f'Quotes tag: {Config.classes[prediction]}')"
   ],
   "outputs": [],
   "execution_count": null
  },
  {
   "cell_type": "markdown",
   "metadata": {
    "id": "JuNvejSAalhh"
   },
   "source": [
    "# **What to do next**\n",
    "1. Submit your lab to `@DRU bot`.\n",
    "2. After you submit your lab, try experimenting with different token lengths and other hyperparameters. Also, you can try to use the [BertForSequenceClassification](https://huggingface.co/transformers/model_doc/bert.html#bertforsequenceclassification) model for our task classification."
   ]
  }
 ],
 "metadata": {
  "accelerator": "GPU",
  "colab": {
   "collapsed_sections": [],
   "name": "template.ipynb",
   "provenance": []
  },
  "kernelspec": {
   "display_name": "Python 3",
   "language": "python",
   "name": "python3"
  },
  "language_info": {
   "codemirror_mode": {
    "name": "ipython",
    "version": 3
   },
   "file_extension": ".py",
   "mimetype": "text/x-python",
   "name": "python",
   "nbconvert_exporter": "python",
   "pygments_lexer": "ipython3",
   "version": "3.8.10"
  }
 },
 "nbformat": 4,
 "nbformat_minor": 0
}
