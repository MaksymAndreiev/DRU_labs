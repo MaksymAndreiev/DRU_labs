{
 "cells": [
  {
   "cell_type": "markdown",
   "metadata": {
    "id": "BkVnnBSUmxK9-gh"
   },
   "source": [
    "# Transfer learning on ResNet\n",
    "\n",
    "Hi, and welcome to your next lab! In this lab, you will learn how to use a pre-trained network for an image classification task.\n",
    "\n",
    "**GPU** is recomended for this assignment. `Runtime` -> `Change runtime type` -> `GPU`\n",
    "\n",
    "**Instructions**\n",
    "- Write code in the space indicated with `### START CODE HERE ###`\n",
    "- Do not use loops (for/while) unless instructions explicitly tell you so. Parallelization in Deep Learning is key!\n",
    "- If you get stuck, ask for help in Slack or DM `@DRU Team`\n",
    "\n",
    "**You will learn**\n",
    "- How to fine-tune a pre-trained ResNet18 for multi-class classification \n",
    "    - How to preprocess and augment image dataset\n",
    "    - How to evaluate the model with train/validation/test splits\n",
    "    - How to visualize the results."
   ]
  },
  {
   "cell_type": "markdown",
   "metadata": {
    "id": "Y1ytD-713JyG"
   },
   "source": [
    "# 0 - Download data"
   ]
  },
  {
   "cell_type": "code",
   "execution_count": 1,
   "metadata": {
    "colab": {
     "base_uri": "https://localhost:8080/"
    },
    "executionInfo": {
     "elapsed": 9837,
     "status": "ok",
     "timestamp": 1627471598866,
     "user": {
      "displayName": "Andrii Torchylo",
      "photoUrl": "https://lh3.googleusercontent.com/a-/AOh14GhFTWqrU3m-Wp-bUa2OXsooRztUv4cznKjeaEV8YFFpjQygmUGowgZHBW_vtX1MkHaFbXTu_X-7ofPcehpOxdMB6ioGBAESNXPxl7QQUA8tcWsv5CQWVjgOO7zGpy1OYlyhSVCow7xySYmBEb8o-mMBuzgfyBX2d8ZtdTGkIx7YyCCajdzbk0kgCAGFGPxaVtx--pJO4X5PnsLoWquOZ_VlruRtEZ7p7gsSzzwBlhPII6o5J-MOL1TWKl-0kDtS8_kPG1fGuwKmVjY2nXN2oewFaAKc9ajLNHKBCfwQu_nJ0KT4sHWfBIGjebKBa0fk_Xb0DdXgz8eh33PNWk8unTN3862OyaqzPbE4jXgYGRW1WELosWHw59Vkvm9Hdr89I_XP6eHd1-L46_kdP84LAXF9q5nxnFFNCJmLRYSm0Wti3Dn8uc6Ixa9kyx5KqBn4ThycCUKxWN6o2fM0kQ6rxt1KBQeRKuGtSbuM7RM-8cfh2zB4CrHJ_Xsunj8k3O27212Nerlf4UtA5OKCpAz2XjSPcG6OxGhxe6NArua8Sobb4Un7FrRvgxLsQhwt4CGV3GFSkGSorJ_S3SRlPWFD2VgW8VMvAyqPenJAVXh6AQWA45opLwFqsVB49_XVUv-9cRS9d1oTbIG06hJ2-b3Adew2vX6HOckNoaF-hagdtAmE-aTslmgG38GF4hwbofHCbUALdsDJz728mXsJiTKqHL-DOEIdO1m2gn7W9MXx57wVy-Wu5xJSFhd7kNfMlR2MlpdV6Q=s64",
      "userId": "18357331370165036741"
     },
     "user_tz": -180
    },
    "id": "F0HOZ5r13JyH",
    "outputId": "40ccafbc-8306-4a05-d163-d387a5854c14",
    "ExecuteTime": {
     "end_time": "2024-05-31T22:55:31.329177Z",
     "start_time": "2024-05-31T22:55:28.534665Z"
    }
   },
   "outputs": [
    {
     "name": "stdout",
     "output_type": "stream",
     "text": [
      "Requirement already satisfied: wget in c:\\users\\maxog\\pycharmprojects\\dru_labs\\.venv\\lib\\site-packages (3.2)\n"
     ]
    }
   ],
   "source": [
    "!pip install wget\n",
    "import wget \n",
    "#wget.download('https://dru.fra1.digitaloceanspaces.com/DL_pytorch/static/3_conv_nn/resnet_transfer_learning/template.zip')\n",
    "#!unzip -q 'template.zip'"
   ]
  },
  {
   "cell_type": "markdown",
   "metadata": {
    "id": "jYXr__3hS0fQ"
   },
   "source": [
    "# 1 - Import packages\n",
    "Here we will import our regular packages with the addition of [torchvision](https://pytorch.org/vision/stable/index.html), which is a part of the PyTorch framework that implements useful utils for image-related tasks. Also, `torchvision` has popular image datasets, and pre-trained models like `ResNet18`, which we will be using in this lab"
   ]
  },
  {
   "cell_type": "code",
   "execution_count": 2,
   "metadata": {
    "executionInfo": {
     "elapsed": 1344,
     "status": "ok",
     "timestamp": 1627471628725,
     "user": {
      "displayName": "Andrii Torchylo",
      "photoUrl": "https://lh3.googleusercontent.com/a-/AOh14GhFTWqrU3m-Wp-bUa2OXsooRztUv4cznKjeaEV8YFFpjQygmUGowgZHBW_vtX1MkHaFbXTu_X-7ofPcehpOxdMB6ioGBAESNXPxl7QQUA8tcWsv5CQWVjgOO7zGpy1OYlyhSVCow7xySYmBEb8o-mMBuzgfyBX2d8ZtdTGkIx7YyCCajdzbk0kgCAGFGPxaVtx--pJO4X5PnsLoWquOZ_VlruRtEZ7p7gsSzzwBlhPII6o5J-MOL1TWKl-0kDtS8_kPG1fGuwKmVjY2nXN2oewFaAKc9ajLNHKBCfwQu_nJ0KT4sHWfBIGjebKBa0fk_Xb0DdXgz8eh33PNWk8unTN3862OyaqzPbE4jXgYGRW1WELosWHw59Vkvm9Hdr89I_XP6eHd1-L46_kdP84LAXF9q5nxnFFNCJmLRYSm0Wti3Dn8uc6Ixa9kyx5KqBn4ThycCUKxWN6o2fM0kQ6rxt1KBQeRKuGtSbuM7RM-8cfh2zB4CrHJ_Xsunj8k3O27212Nerlf4UtA5OKCpAz2XjSPcG6OxGhxe6NArua8Sobb4Un7FrRvgxLsQhwt4CGV3GFSkGSorJ_S3SRlPWFD2VgW8VMvAyqPenJAVXh6AQWA45opLwFqsVB49_XVUv-9cRS9d1oTbIG06hJ2-b3Adew2vX6HOckNoaF-hagdtAmE-aTslmgG38GF4hwbofHCbUALdsDJz728mXsJiTKqHL-DOEIdO1m2gn7W9MXx57wVy-Wu5xJSFhd7kNfMlR2MlpdV6Q=s64",
      "userId": "18357331370165036741"
     },
     "user_tz": -180
    },
    "id": "RiddvWBtaVJ5",
    "ExecuteTime": {
     "end_time": "2024-05-31T22:55:35.570992Z",
     "start_time": "2024-05-31T22:55:31.331563Z"
    }
   },
   "outputs": [],
   "source": [
    "import os, shutil\n",
    "import numpy as np\n",
    "from sklearn.model_selection import train_test_split\n",
    "from sklearn.metrics import accuracy_score, f1_score, confusion_matrix\n",
    "\n",
    "import matplotlib.pyplot as plt\n",
    "import seaborn as sns\n",
    "\n",
    "import torch\n",
    "from torch import nn\n",
    "from torch import optim\n",
    "from torch.utils.data import DataLoader\n",
    "\n",
    "import torchvision\n",
    "from torchvision import transforms\n",
    "from torchvision.utils import make_grid\n",
    "from torchvision.datasets import ImageFolder\n",
    "\n",
    "%matplotlib inline"
   ]
  },
  {
   "cell_type": "markdown",
   "metadata": {
    "id": "4OrOtAmUTb8w"
   },
   "source": [
    "## Config"
   ]
  },
  {
   "cell_type": "markdown",
   "metadata": {
    "id": "W8yIUOtP7gfO"
   },
   "source": [
    "In `Config` class, we will define standard hyperparameters for training. There are also few additional hyperparameters: <br><br>\n",
    "**Data Preparation**\n",
    "1. test_fraction - the fraction of the whole dataset that will be used for final evaluation\n",
    "2. validation_fraction - the fraction of the whole dataset that will be used for validating model performance during training\n",
    "3. num_workers - the number of CPU cores to use for the data loading process \n",
    "**Data Transformation**\n",
    "1. mean - the desired mean across each channel after normalization\n",
    "2. std - the desired standard deviation across each channel after normalization\n",
    "3. resize_to - the size of the resized images\n",
    "4. img_size - the final size of cropped images\n",
    "\n",
    "**Note:** in our previous labs, we used a mean of $0$ and a standard deviation of $1$ as our normalization parameters. However, in this lab, we will be using a neural network that was trained on [ImageNet](https://image-net.org/). So, we will have to standardize our data to the format of `ImageNet`, in which images have mean of $(0.485, 0.456, 0.406)$, and standard deviation of $(0.229, 0.224, 0.225)$."
   ]
  },
  {
   "cell_type": "code",
   "execution_count": 3,
   "metadata": {
    "executionInfo": {
     "elapsed": 233,
     "status": "ok",
     "timestamp": 1627471638721,
     "user": {
      "displayName": "Andrii Torchylo",
      "photoUrl": "https://lh3.googleusercontent.com/a-/AOh14GhFTWqrU3m-Wp-bUa2OXsooRztUv4cznKjeaEV8YFFpjQygmUGowgZHBW_vtX1MkHaFbXTu_X-7ofPcehpOxdMB6ioGBAESNXPxl7QQUA8tcWsv5CQWVjgOO7zGpy1OYlyhSVCow7xySYmBEb8o-mMBuzgfyBX2d8ZtdTGkIx7YyCCajdzbk0kgCAGFGPxaVtx--pJO4X5PnsLoWquOZ_VlruRtEZ7p7gsSzzwBlhPII6o5J-MOL1TWKl-0kDtS8_kPG1fGuwKmVjY2nXN2oewFaAKc9ajLNHKBCfwQu_nJ0KT4sHWfBIGjebKBa0fk_Xb0DdXgz8eh33PNWk8unTN3862OyaqzPbE4jXgYGRW1WELosWHw59Vkvm9Hdr89I_XP6eHd1-L46_kdP84LAXF9q5nxnFFNCJmLRYSm0Wti3Dn8uc6Ixa9kyx5KqBn4ThycCUKxWN6o2fM0kQ6rxt1KBQeRKuGtSbuM7RM-8cfh2zB4CrHJ_Xsunj8k3O27212Nerlf4UtA5OKCpAz2XjSPcG6OxGhxe6NArua8Sobb4Un7FrRvgxLsQhwt4CGV3GFSkGSorJ_S3SRlPWFD2VgW8VMvAyqPenJAVXh6AQWA45opLwFqsVB49_XVUv-9cRS9d1oTbIG06hJ2-b3Adew2vX6HOckNoaF-hagdtAmE-aTslmgG38GF4hwbofHCbUALdsDJz728mXsJiTKqHL-DOEIdO1m2gn7W9MXx57wVy-Wu5xJSFhd7kNfMlR2MlpdV6Q=s64",
      "userId": "18357331370165036741"
     },
     "user_tz": -180
    },
    "id": "CKlaSKY38MzX",
    "ExecuteTime": {
     "end_time": "2024-05-31T22:55:35.586911Z",
     "start_time": "2024-05-31T22:55:35.572096Z"
    }
   },
   "outputs": [],
   "source": [
    "# VALIDATION_FIELD[cls] Config\n",
    "\n",
    "class Config:\n",
    "    # Training\n",
    "    seed = 21\n",
    "    epochs = 30\n",
    "    learning_rate = 0.001\n",
    "    num_classes = 6\n",
    "    device = torch.device('cuda') if torch.cuda.is_available() else torch.device('cpu')\n",
    "\n",
    "    # Data preparation\n",
    "    data_root = './Chess'\n",
    "    test_fraction = 0.2\n",
    "    validation_fraction = 0.15\n",
    "    batch_size = 16\n",
    "    num_workers = 2\n",
    "    classes = ('Bishop', 'King', 'Knight', 'Pawn', 'Queen', 'Rook')\n",
    "\n",
    "    # Data transformation\n",
    "    mean = (0.485, 0.456, 0.406) \n",
    "    std = (0.229, 0.224, 0.225) \n",
    "    resize_to = 256\n",
    "    img_size = 224"
   ]
  },
  {
   "cell_type": "code",
   "execution_count": 4,
   "metadata": {
    "executionInfo": {
     "elapsed": 309,
     "status": "ok",
     "timestamp": 1627471669361,
     "user": {
      "displayName": "Andrii Torchylo",
      "photoUrl": "https://lh3.googleusercontent.com/a-/AOh14GhFTWqrU3m-Wp-bUa2OXsooRztUv4cznKjeaEV8YFFpjQygmUGowgZHBW_vtX1MkHaFbXTu_X-7ofPcehpOxdMB6ioGBAESNXPxl7QQUA8tcWsv5CQWVjgOO7zGpy1OYlyhSVCow7xySYmBEb8o-mMBuzgfyBX2d8ZtdTGkIx7YyCCajdzbk0kgCAGFGPxaVtx--pJO4X5PnsLoWquOZ_VlruRtEZ7p7gsSzzwBlhPII6o5J-MOL1TWKl-0kDtS8_kPG1fGuwKmVjY2nXN2oewFaAKc9ajLNHKBCfwQu_nJ0KT4sHWfBIGjebKBa0fk_Xb0DdXgz8eh33PNWk8unTN3862OyaqzPbE4jXgYGRW1WELosWHw59Vkvm9Hdr89I_XP6eHd1-L46_kdP84LAXF9q5nxnFFNCJmLRYSm0Wti3Dn8uc6Ixa9kyx5KqBn4ThycCUKxWN6o2fM0kQ6rxt1KBQeRKuGtSbuM7RM-8cfh2zB4CrHJ_Xsunj8k3O27212Nerlf4UtA5OKCpAz2XjSPcG6OxGhxe6NArua8Sobb4Un7FrRvgxLsQhwt4CGV3GFSkGSorJ_S3SRlPWFD2VgW8VMvAyqPenJAVXh6AQWA45opLwFqsVB49_XVUv-9cRS9d1oTbIG06hJ2-b3Adew2vX6HOckNoaF-hagdtAmE-aTslmgG38GF4hwbofHCbUALdsDJz728mXsJiTKqHL-DOEIdO1m2gn7W9MXx57wVy-Wu5xJSFhd7kNfMlR2MlpdV6Q=s64",
      "userId": "18357331370165036741"
     },
     "user_tz": -180
    },
    "id": "FpoOE6mM3JyM",
    "ExecuteTime": {
     "end_time": "2024-05-31T22:55:35.602854Z",
     "start_time": "2024-05-31T22:55:35.589193Z"
    }
   },
   "outputs": [],
   "source": [
    "def set_seed(seed):\n",
    "    np.random.seed(seed) \n",
    "    torch.manual_seed(seed)\n",
    "\n",
    "set_seed(Config.seed)"
   ]
  },
  {
   "cell_type": "markdown",
   "metadata": {
    "id": "S6Lsh8di-0U-"
   },
   "source": [
    "# 2 - Data Preprocessing and visualizations\n",
    "\n",
    "For our dataset, we will be using [Chessman Image Dataset](https://www.kaggle.com/niteshfre/chessman-image-dataset) from [Kaggle](https://www.kaggle.com). This dataset contains ~80 - 100 images of each chess piece. Our task will be to classify the chess piece by the image. Let's visualize how many images of each class we have:\n",
    "\n"
   ]
  },
  {
   "cell_type": "code",
   "execution_count": 5,
   "metadata": {
    "colab": {
     "base_uri": "https://localhost:8080/",
     "height": 441
    },
    "executionInfo": {
     "elapsed": 406,
     "status": "ok",
     "timestamp": 1627471689290,
     "user": {
      "displayName": "Andrii Torchylo",
      "photoUrl": "https://lh3.googleusercontent.com/a-/AOh14GhFTWqrU3m-Wp-bUa2OXsooRztUv4cznKjeaEV8YFFpjQygmUGowgZHBW_vtX1MkHaFbXTu_X-7ofPcehpOxdMB6ioGBAESNXPxl7QQUA8tcWsv5CQWVjgOO7zGpy1OYlyhSVCow7xySYmBEb8o-mMBuzgfyBX2d8ZtdTGkIx7YyCCajdzbk0kgCAGFGPxaVtx--pJO4X5PnsLoWquOZ_VlruRtEZ7p7gsSzzwBlhPII6o5J-MOL1TWKl-0kDtS8_kPG1fGuwKmVjY2nXN2oewFaAKc9ajLNHKBCfwQu_nJ0KT4sHWfBIGjebKBa0fk_Xb0DdXgz8eh33PNWk8unTN3862OyaqzPbE4jXgYGRW1WELosWHw59Vkvm9Hdr89I_XP6eHd1-L46_kdP84LAXF9q5nxnFFNCJmLRYSm0Wti3Dn8uc6Ixa9kyx5KqBn4ThycCUKxWN6o2fM0kQ6rxt1KBQeRKuGtSbuM7RM-8cfh2zB4CrHJ_Xsunj8k3O27212Nerlf4UtA5OKCpAz2XjSPcG6OxGhxe6NArua8Sobb4Un7FrRvgxLsQhwt4CGV3GFSkGSorJ_S3SRlPWFD2VgW8VMvAyqPenJAVXh6AQWA45opLwFqsVB49_XVUv-9cRS9d1oTbIG06hJ2-b3Adew2vX6HOckNoaF-hagdtAmE-aTslmgG38GF4hwbofHCbUALdsDJz728mXsJiTKqHL-DOEIdO1m2gn7W9MXx57wVy-Wu5xJSFhd7kNfMlR2MlpdV6Q=s64",
      "userId": "18357331370165036741"
     },
     "user_tz": -180
    },
    "id": "Vul0dDbjbAho",
    "outputId": "dd0de133-b7a4-4d42-894a-1487db850649",
    "ExecuteTime": {
     "end_time": "2024-05-31T22:55:35.830780Z",
     "start_time": "2024-05-31T22:55:35.605203Z"
    }
   },
   "outputs": [
    {
     "data": {
      "text/plain": "<Figure size 1000x600 with 1 Axes>",
      "image/png": "[encoded data removed]"
     },
     "metadata": {},
     "output_type": "display_data"
    }
   ],
   "source": [
    "class_counts = {}\n",
    "for root, dirs, files in os.walk(Config.data_root):\n",
    "    if root != Config.data_root:\n",
    "        class_counts[root.split('/')[-1]] = len(files)\n",
    "        \n",
    "plt.figure(figsize=(10, 6))\n",
    "plt.bar(class_counts.keys(), class_counts.values())\n",
    "plt.xticks(np.arange(Config.num_classes), Config.classes) \n",
    "plt.ylabel('Count')\n",
    "plt.xlabel('Chess piece')\n",
    "plt.tight_layout()\n",
    "plt.show()"
   ]
  },
  {
   "cell_type": "markdown",
   "metadata": {
    "id": "5Av6D4ArexTd"
   },
   "source": [
    "## Train/Test/Validation split\n",
    "Here we will split each class of images into `train`, `test`, and `valid` subsets. We will create three directories with respective names and then copy files into those directories. Please note the structure of each folder (it will be important for using `ImageFolder` dataset from `torchvision`):\n",
    "\n",
    "```\n",
    "test/\n",
    "    Bishop/\n",
    "        00000001.jpg\n",
    "        00000002.jpg\n",
    "        ...\n",
    "   King/\n",
    "        00000004.jpg\n",
    "        00000007.jpg\n",
    "        ...\n",
    "   Knight/\n",
    "       ...\n",
    "   Pawn/\n",
    "       ...\n",
    "   Queen/\n",
    "       ...\n",
    "   Rook/\n",
    "       ...\n",
    "```"
   ]
  },
  {
   "cell_type": "code",
   "execution_count": 6,
   "metadata": {
    "executionInfo": {
     "elapsed": 241,
     "status": "ok",
     "timestamp": 1627471709190,
     "user": {
      "displayName": "Andrii Torchylo",
      "photoUrl": "https://lh3.googleusercontent.com/a-/AOh14GhFTWqrU3m-Wp-bUa2OXsooRztUv4cznKjeaEV8YFFpjQygmUGowgZHBW_vtX1MkHaFbXTu_X-7ofPcehpOxdMB6ioGBAESNXPxl7QQUA8tcWsv5CQWVjgOO7zGpy1OYlyhSVCow7xySYmBEb8o-mMBuzgfyBX2d8ZtdTGkIx7YyCCajdzbk0kgCAGFGPxaVtx--pJO4X5PnsLoWquOZ_VlruRtEZ7p7gsSzzwBlhPII6o5J-MOL1TWKl-0kDtS8_kPG1fGuwKmVjY2nXN2oewFaAKc9ajLNHKBCfwQu_nJ0KT4sHWfBIGjebKBa0fk_Xb0DdXgz8eh33PNWk8unTN3862OyaqzPbE4jXgYGRW1WELosWHw59Vkvm9Hdr89I_XP6eHd1-L46_kdP84LAXF9q5nxnFFNCJmLRYSm0Wti3Dn8uc6Ixa9kyx5KqBn4ThycCUKxWN6o2fM0kQ6rxt1KBQeRKuGtSbuM7RM-8cfh2zB4CrHJ_Xsunj8k3O27212Nerlf4UtA5OKCpAz2XjSPcG6OxGhxe6NArua8Sobb4Un7FrRvgxLsQhwt4CGV3GFSkGSorJ_S3SRlPWFD2VgW8VMvAyqPenJAVXh6AQWA45opLwFqsVB49_XVUv-9cRS9d1oTbIG06hJ2-b3Adew2vX6HOckNoaF-hagdtAmE-aTslmgG38GF4hwbofHCbUALdsDJz728mXsJiTKqHL-DOEIdO1m2gn7W9MXx57wVy-Wu5xJSFhd7kNfMlR2MlpdV6Q=s64",
      "userId": "18357331370165036741"
     },
     "user_tz": -180
    },
    "id": "Skq0hhfqbzfx",
    "ExecuteTime": {
     "end_time": "2024-05-31T22:55:36.469584Z",
     "start_time": "2024-05-31T22:55:35.833084Z"
    }
   },
   "outputs": [],
   "source": [
    "def split_data_folder(input_root, train2rest, test2valid):\n",
    "    # iterate over all classes \n",
    "    for directory in os.listdir(input_root):\n",
    "        # skip jupyter and IDE files\n",
    "        if directory.startswith('.'):\n",
    "            continue\n",
    "\n",
    "        # split paths into train, test, and valid\n",
    "        all_imgs = os.listdir(os.path.join(input_root, directory))\n",
    "        train, rest = train_test_split(all_imgs, random_state=Config.seed, test_size=train2rest) \n",
    "        test, valid  = train_test_split(rest, random_state=Config.seed, test_size=test2valid)\n",
    "\n",
    "        # copy files into target directories\n",
    "        data_paths = {'train': train, 'valid': valid, 'test': test}\n",
    "        for name, subset in data_paths.items():\n",
    "            for img in subset:   \n",
    "                src = os.path.join(input_root, directory, img)\n",
    "                dst = os.path.join(name, directory)\n",
    "                if not os.path.exists(dst):\n",
    "                    os.makedirs(dst)\n",
    "                shutil.copy(src, dst)\n",
    "\n",
    "                \n",
    "train2rest = Config.validation_fraction + Config.test_fraction # fraction of data for training\n",
    "test2valid = Config.validation_fraction/train2rest # fraction of remaining data (validation + test) for testing \n",
    "split_data_folder(Config.data_root, train2rest, test2valid)"
   ]
  },
  {
   "cell_type": "markdown",
   "metadata": {
    "id": "1JLcFSRY7gfT"
   },
   "source": [
    "## PyTorch Data Pipeline\n",
    "\n",
    "PyTorch provides many useful functions and classes to speed up the data preparation and feeding process and decrease RAM usage during training. Here are three main components of the PyTorch Data Pipeline:\n",
    "1. **Data transforms** - set of functions for data preprocessing and augmentation\n",
    "2. **PyTorch Dataset** - a base class for PyTorch-like datasets\n",
    "3. **PyTorch Dataloader** - a class that optimizes the data feeding process and performs batching on a dataset"
   ]
  },
  {
   "cell_type": "markdown",
   "metadata": {
    "id": "c-1nvXIffofs"
   },
   "source": [
    "## Data transforms\n",
    "\n",
    "**PyTorch transform** is a class that initializes from the transformation parameters like desired resize size or rotation angle for an image and has a method `__call__` that applies the transformation on the input data example. \n",
    "\n",
    "**Example:** `transforms.Normalize` takes desired `mean` and `std` as inputs and performs image normalization when called. \n",
    "\n",
    "```python\n",
    "norm_transform = transforms.Normalize(mean, std)\n",
    "normalized_img = norm_transform(img)\n",
    "```\n",
    "\n",
    "The key feature of data transforms is that you can easily stack them together using `transforms.Compose()`, and pass them to a PyTorch Dataset as a `transform` parameter. So that transforms will be applied every time an image gets extracted from the dataset.\n",
    "Also, PyTorch uses transform for the **data augmentation** process. So, instead of generating and saving augmented images, PyTorch simply applies a **random** transform on every iteration over the dataset. By doing so, we don't physically increase the size of our dataset but randomly change each image before feeding it into our model.<br><br>\n",
    "**Excercise:** Using [documentation](https://pytorch.org/vision/stable/auto_examples/plot_transforms.html#sphx-glr-auto-examples-plot-transforms-py) of transforms, implement `get_transforms` function that returns composed set of transforms for train, validation, and test sets.\n",
    "**Directions:** \n",
    "* For `train` set, create the following transforms:\n",
    "    1. Resize images to `Config.resize_to`\n",
    "    2. Perform random resized cropping with a size of `Config.img_size`\n",
    "    3. Perform random horizontal flipping\n",
    "    4. Convert an image to tensor\n",
    "    5. Normalize the image to `Config.mean` and `Config.std`\n",
    "* For `test` and `valid` set create the following:\n",
    "    1. Resize images to `Config.img_size`\n",
    "    2. Convert an image to tensor\n",
    "    3. Normalize the image to `Config.mean` and `Config.std`\n",
    "   "
   ]
  },
  {
   "cell_type": "code",
   "execution_count": 9,
   "metadata": {
    "executionInfo": {
     "elapsed": 242,
     "status": "ok",
     "timestamp": 1627471729268,
     "user": {
      "displayName": "Andrii Torchylo",
      "photoUrl": "https://lh3.googleusercontent.com/a-/AOh14GhFTWqrU3m-Wp-bUa2OXsooRztUv4cznKjeaEV8YFFpjQygmUGowgZHBW_vtX1MkHaFbXTu_X-7ofPcehpOxdMB6ioGBAESNXPxl7QQUA8tcWsv5CQWVjgOO7zGpy1OYlyhSVCow7xySYmBEb8o-mMBuzgfyBX2d8ZtdTGkIx7YyCCajdzbk0kgCAGFGPxaVtx--pJO4X5PnsLoWquOZ_VlruRtEZ7p7gsSzzwBlhPII6o5J-MOL1TWKl-0kDtS8_kPG1fGuwKmVjY2nXN2oewFaAKc9ajLNHKBCfwQu_nJ0KT4sHWfBIGjebKBa0fk_Xb0DdXgz8eh33PNWk8unTN3862OyaqzPbE4jXgYGRW1WELosWHw59Vkvm9Hdr89I_XP6eHd1-L46_kdP84LAXF9q5nxnFFNCJmLRYSm0Wti3Dn8uc6Ixa9kyx5KqBn4ThycCUKxWN6o2fM0kQ6rxt1KBQeRKuGtSbuM7RM-8cfh2zB4CrHJ_Xsunj8k3O27212Nerlf4UtA5OKCpAz2XjSPcG6OxGhxe6NArua8Sobb4Un7FrRvgxLsQhwt4CGV3GFSkGSorJ_S3SRlPWFD2VgW8VMvAyqPenJAVXh6AQWA45opLwFqsVB49_XVUv-9cRS9d1oTbIG06hJ2-b3Adew2vX6HOckNoaF-hagdtAmE-aTslmgG38GF4hwbofHCbUALdsDJz728mXsJiTKqHL-DOEIdO1m2gn7W9MXx57wVy-Wu5xJSFhd7kNfMlR2MlpdV6Q=s64",
      "userId": "18357331370165036741"
     },
     "user_tz": -180
    },
    "id": "DHy20Vzv7gfV",
    "ExecuteTime": {
     "end_time": "2024-05-31T23:06:06.133432Z",
     "start_time": "2024-05-31T23:06:06.120545Z"
    }
   },
   "outputs": [],
   "source": [
    "# VALIDATION_FIELD[func] get_transforms\n",
    "\n",
    "def get_transforms(data_subset):\n",
    "    \"\"\"\n",
    "    Generates composed set of transformations for a given dataset split.\n",
    "    \n",
    "    Arguments:\n",
    "    data_subset -- string, one of ['train', 'test', 'valid'] \n",
    "    \n",
    "    Return:\n",
    "    transformations -- transforms.Compose, a set of transformations\n",
    "    \"\"\"\n",
    "    import PIL\n",
    "    if data_subset == 'train':\n",
    "        transformations = transforms.Compose([\n",
    "            ### START CODE HERE ### (≈5 lines of code)\n",
    "            transforms.Resize(size=(Config.resize_to, Config.resize_to), interpolation=PIL.Image.BILINEAR),\n",
    "            transforms.RandomResizedCrop(size=(Config.img_size, Config.img_size)),\n",
    "            transforms.RandomHorizontalFlip(p=0.5),\n",
    "            transforms.ToTensor(),\n",
    "            transforms.Normalize(mean=Config.mean, std=Config.std)\n",
    "            ### END CODE HERE ### \n",
    "        ])\n",
    "    else:\n",
    "        ### START CODE HERE ### (≈4 lines of code)\n",
    "        transformations = transforms.Compose([\n",
    "            transforms.Resize(size=(Config.img_size, Config.img_size)),\n",
    "            transforms.ToTensor(),\n",
    "            transforms.Normalize(mean=Config.mean, std=Config.std)\n",
    "        ])\n",
    "        ### END CODE HERE ###\n",
    "    return transformations"
   ]
  },
  {
   "cell_type": "code",
   "execution_count": 10,
   "metadata": {
    "colab": {
     "base_uri": "https://localhost:8080/"
    },
    "executionInfo": {
     "elapsed": 238,
     "status": "ok",
     "timestamp": 1627471786830,
     "user": {
      "displayName": "Andrii Torchylo",
      "photoUrl": "https://lh3.googleusercontent.com/a-/AOh14GhFTWqrU3m-Wp-bUa2OXsooRztUv4cznKjeaEV8YFFpjQygmUGowgZHBW_vtX1MkHaFbXTu_X-7ofPcehpOxdMB6ioGBAESNXPxl7QQUA8tcWsv5CQWVjgOO7zGpy1OYlyhSVCow7xySYmBEb8o-mMBuzgfyBX2d8ZtdTGkIx7YyCCajdzbk0kgCAGFGPxaVtx--pJO4X5PnsLoWquOZ_VlruRtEZ7p7gsSzzwBlhPII6o5J-MOL1TWKl-0kDtS8_kPG1fGuwKmVjY2nXN2oewFaAKc9ajLNHKBCfwQu_nJ0KT4sHWfBIGjebKBa0fk_Xb0DdXgz8eh33PNWk8unTN3862OyaqzPbE4jXgYGRW1WELosWHw59Vkvm9Hdr89I_XP6eHd1-L46_kdP84LAXF9q5nxnFFNCJmLRYSm0Wti3Dn8uc6Ixa9kyx5KqBn4ThycCUKxWN6o2fM0kQ6rxt1KBQeRKuGtSbuM7RM-8cfh2zB4CrHJ_Xsunj8k3O27212Nerlf4UtA5OKCpAz2XjSPcG6OxGhxe6NArua8Sobb4Un7FrRvgxLsQhwt4CGV3GFSkGSorJ_S3SRlPWFD2VgW8VMvAyqPenJAVXh6AQWA45opLwFqsVB49_XVUv-9cRS9d1oTbIG06hJ2-b3Adew2vX6HOckNoaF-hagdtAmE-aTslmgG38GF4hwbofHCbUALdsDJz728mXsJiTKqHL-DOEIdO1m2gn7W9MXx57wVy-Wu5xJSFhd7kNfMlR2MlpdV6Q=s64",
      "userId": "18357331370165036741"
     },
     "user_tz": -180
    },
    "id": "XJpPyA6S7gfV",
    "outputId": "492e1b6c-1315-42e4-f95b-160645652462",
    "ExecuteTime": {
     "end_time": "2024-05-31T23:06:07.011788Z",
     "start_time": "2024-05-31T23:06:06.996809Z"
    }
   },
   "outputs": [
    {
     "name": "stdout",
     "output_type": "stream",
     "text": [
      "Train transforms: Compose(\n",
      "    Resize(size=(256, 256), interpolation=bilinear, max_size=None, antialias=True)\n",
      "    RandomResizedCrop(size=(224, 224), scale=(0.08, 1.0), ratio=(0.75, 1.3333), interpolation=bilinear, antialias=True)\n",
      "    RandomHorizontalFlip(p=0.5)\n",
      "    ToTensor()\n",
      "    Normalize(mean=(0.485, 0.456, 0.406), std=(0.229, 0.224, 0.225))\n",
      ")\n",
      "Test transforms: Compose(\n",
      "    Resize(size=(224, 224), interpolation=bilinear, max_size=None, antialias=True)\n",
      "    ToTensor()\n",
      "    Normalize(mean=(0.485, 0.456, 0.406), std=(0.229, 0.224, 0.225))\n",
      ")\n"
     ]
    }
   ],
   "source": [
    "print('Train transforms:', get_transforms('train'))\n",
    "print('Test transforms:', get_transforms('test'))"
   ]
  },
  {
   "cell_type": "markdown",
   "metadata": {
    "id": "uMpgXdac7gfW"
   },
   "source": [
    "**Expected Output: (some default parameters might differ depending on the version of PyTorch)**\n",
    "\n",
    "```\n",
    "Train transforms: Compose(\n",
    "    Resize(size=(256, 256), interpolation=PIL.Image.BILINEAR)\n",
    "    RandomResizedCrop(size=(224, 224), scale=(0.08, 1.0), ratio=(0.75, 1.3333), interpolation=PIL.Image.BILINEAR)\n",
    "    RandomHorizontalFlip(p=0.5)\n",
    "    ToTensor()\n",
    "    Normalize(mean=(0.485, 0.456, 0.406), std=(0.229, 0.224, 0.225))\n",
    ")\n",
    "Test transforms: Compose(\n",
    "    Resize(size=(224, 224), interpolation=PIL.Image.BILINEAR)\n",
    "    ToTensor()\n",
    "    Normalize(mean=(0.485, 0.456, 0.406), std=(0.229, 0.224, 0.225))\n",
    ")\n",
    "```"
   ]
  },
  {
   "cell_type": "markdown",
   "metadata": {
    "id": "qtv1HaQa7gfW"
   },
   "source": [
    "## Dataset and Dataloader\n",
    "\n",
    "Every PyTorch Dataset inherits from a base **Dataset** class, and implements three methods `__init__`, `__len__`, and `__getitem__`. By definition, the dataset doesn't store every example in the memory; instead, it only saves the meta-information, like image path, about how to extract a data sample. Then, the `__getitem__` method extracts the data sample (image in our case) by id. In this lab, we will use `torchvision.ImageFolder` dataset that implements image loading from a folder, and pass our `transforms` as a parameter. In future labs, we will implement our own datasets, so stay tuned! <br><br>\n",
    "To load images in batches, we use **DataLoader** class that performs batching operation on the given dataset. In our case, we will use `shuffle=True` to shuffle the examples and indicate `num_workers=Config.num_workers` to set the number of CPU cores that would work in parallel on extracting images from the dataset (standard Google Colab has only 2 CPU cores). "
   ]
  },
  {
   "cell_type": "code",
   "execution_count": null,
   "metadata": {
    "executionInfo": {
     "elapsed": 240,
     "status": "ok",
     "timestamp": 1627471812476,
     "user": {
      "displayName": "Andrii Torchylo",
      "photoUrl": "https://lh3.googleusercontent.com/a-/AOh14GhFTWqrU3m-Wp-bUa2OXsooRztUv4cznKjeaEV8YFFpjQygmUGowgZHBW_vtX1MkHaFbXTu_X-7ofPcehpOxdMB6ioGBAESNXPxl7QQUA8tcWsv5CQWVjgOO7zGpy1OYlyhSVCow7xySYmBEb8o-mMBuzgfyBX2d8ZtdTGkIx7YyCCajdzbk0kgCAGFGPxaVtx--pJO4X5PnsLoWquOZ_VlruRtEZ7p7gsSzzwBlhPII6o5J-MOL1TWKl-0kDtS8_kPG1fGuwKmVjY2nXN2oewFaAKc9ajLNHKBCfwQu_nJ0KT4sHWfBIGjebKBa0fk_Xb0DdXgz8eh33PNWk8unTN3862OyaqzPbE4jXgYGRW1WELosWHw59Vkvm9Hdr89I_XP6eHd1-L46_kdP84LAXF9q5nxnFFNCJmLRYSm0Wti3Dn8uc6Ixa9kyx5KqBn4ThycCUKxWN6o2fM0kQ6rxt1KBQeRKuGtSbuM7RM-8cfh2zB4CrHJ_Xsunj8k3O27212Nerlf4UtA5OKCpAz2XjSPcG6OxGhxe6NArua8Sobb4Un7FrRvgxLsQhwt4CGV3GFSkGSorJ_S3SRlPWFD2VgW8VMvAyqPenJAVXh6AQWA45opLwFqsVB49_XVUv-9cRS9d1oTbIG06hJ2-b3Adew2vX6HOckNoaF-hagdtAmE-aTslmgG38GF4hwbofHCbUALdsDJz728mXsJiTKqHL-DOEIdO1m2gn7W9MXx57wVy-Wu5xJSFhd7kNfMlR2MlpdV6Q=s64",
      "userId": "18357331370165036741"
     },
     "user_tz": -180
    },
    "id": "Xz1kpmgOf1by"
   },
   "outputs": [],
   "source": [
    "dataloaders = {}\n",
    "for name in ['train', 'valid', 'test']:\n",
    "    dataset = ImageFolder(name, transform=get_transforms(name))\n",
    "    dataloaders[name] = DataLoader(dataset, shuffle=True, \n",
    "                                   batch_size=Config.batch_size,\n",
    "                                   num_workers=Config.num_workers)"
   ]
  },
  {
   "cell_type": "markdown",
   "metadata": {
    "id": "aFyUTuCy725q"
   },
   "source": [
    "## Show batches of data\n",
    "Let's visualize images that we feed into our neural network!<br>\n",
    "For data visualization, we will use the `matplotlib` library.\n",
    "But if we try to pass the tensor image to `plt.imshow()`,  we will get an error because `matplotlib` is using a different image format. For torch.Tensor — $[C, H, W]$ is used, but for `plt.imshow()` $[H, W, C]$ is required, where: $C$ is the number of channels, $H$ is the height,  and $W$ is the width of an image.\n",
    "\n",
    "Also, our images are normalized, so we have to renormalize them back using the initial mean and standard deviation to get the original images.\n",
    "Here is our normalization formula:\n",
    "$$X_{new}= \\frac{X - \\mu}{\\sigma}$$\n",
    "So, to get the original image, we have to perform the following:\n",
    "$$X= X _{new} * \\sigma + \\mu$$\n",
    "\n",
    "**Excercise:** Convert image to a displayable format. \n",
    "To do so, you will have to implement the following:\n",
    "1. Convert `torch.Tensor` to `np.array`\n",
    "2. Change $[C, H, W]$ to $[H, W, C]$ format\n",
    "3. Renormalize the image using `Config.mean` and `Config.std`\n",
    "4. Clip image to $[0, 1]$ range"
   ]
  },
  {
   "cell_type": "code",
   "execution_count": null,
   "metadata": {
    "executionInfo": {
     "elapsed": 234,
     "status": "ok",
     "timestamp": 1627471817234,
     "user": {
      "displayName": "Andrii Torchylo",
      "photoUrl": "https://lh3.googleusercontent.com/a-/AOh14GhFTWqrU3m-Wp-bUa2OXsooRztUv4cznKjeaEV8YFFpjQygmUGowgZHBW_vtX1MkHaFbXTu_X-7ofPcehpOxdMB6ioGBAESNXPxl7QQUA8tcWsv5CQWVjgOO7zGpy1OYlyhSVCow7xySYmBEb8o-mMBuzgfyBX2d8ZtdTGkIx7YyCCajdzbk0kgCAGFGPxaVtx--pJO4X5PnsLoWquOZ_VlruRtEZ7p7gsSzzwBlhPII6o5J-MOL1TWKl-0kDtS8_kPG1fGuwKmVjY2nXN2oewFaAKc9ajLNHKBCfwQu_nJ0KT4sHWfBIGjebKBa0fk_Xb0DdXgz8eh33PNWk8unTN3862OyaqzPbE4jXgYGRW1WELosWHw59Vkvm9Hdr89I_XP6eHd1-L46_kdP84LAXF9q5nxnFFNCJmLRYSm0Wti3Dn8uc6Ixa9kyx5KqBn4ThycCUKxWN6o2fM0kQ6rxt1KBQeRKuGtSbuM7RM-8cfh2zB4CrHJ_Xsunj8k3O27212Nerlf4UtA5OKCpAz2XjSPcG6OxGhxe6NArua8Sobb4Un7FrRvgxLsQhwt4CGV3GFSkGSorJ_S3SRlPWFD2VgW8VMvAyqPenJAVXh6AQWA45opLwFqsVB49_XVUv-9cRS9d1oTbIG06hJ2-b3Adew2vX6HOckNoaF-hagdtAmE-aTslmgG38GF4hwbofHCbUALdsDJz728mXsJiTKqHL-DOEIdO1m2gn7W9MXx57wVy-Wu5xJSFhd7kNfMlR2MlpdV6Q=s64",
      "userId": "18357331370165036741"
     },
     "user_tz": -180
    },
    "id": "7kr-W57b7gfX"
   },
   "outputs": [],
   "source": [
    "# VALIDATION_FIELD[func] tensor_to_array\n",
    "\n",
    "def tensor_to_array(img, mean = Config.mean, std = Config.std):\n",
    "    ### START CODE HERE ### (≈4 lines of code)\n",
    "    np_img = img.cpu().numpy().transpose(1, 2, 0)\n",
    "    np_img = np_img * std + mean\n",
    "    np_img = np.clip(np_img, 0, 1)\n",
    "    ### END CODE HERE ### \n",
    "    return np_img"
   ]
  },
  {
   "cell_type": "code",
   "execution_count": null,
   "metadata": {
    "colab": {
     "base_uri": "https://localhost:8080/"
    },
    "executionInfo": {
     "elapsed": 260,
     "status": "ok",
     "timestamp": 1627471819316,
     "user": {
      "displayName": "Andrii Torchylo",
      "photoUrl": "https://lh3.googleusercontent.com/a-/AOh14GhFTWqrU3m-Wp-bUa2OXsooRztUv4cznKjeaEV8YFFpjQygmUGowgZHBW_vtX1MkHaFbXTu_X-7ofPcehpOxdMB6ioGBAESNXPxl7QQUA8tcWsv5CQWVjgOO7zGpy1OYlyhSVCow7xySYmBEb8o-mMBuzgfyBX2d8ZtdTGkIx7YyCCajdzbk0kgCAGFGPxaVtx--pJO4X5PnsLoWquOZ_VlruRtEZ7p7gsSzzwBlhPII6o5J-MOL1TWKl-0kDtS8_kPG1fGuwKmVjY2nXN2oewFaAKc9ajLNHKBCfwQu_nJ0KT4sHWfBIGjebKBa0fk_Xb0DdXgz8eh33PNWk8unTN3862OyaqzPbE4jXgYGRW1WELosWHw59Vkvm9Hdr89I_XP6eHd1-L46_kdP84LAXF9q5nxnFFNCJmLRYSm0Wti3Dn8uc6Ixa9kyx5KqBn4ThycCUKxWN6o2fM0kQ6rxt1KBQeRKuGtSbuM7RM-8cfh2zB4CrHJ_Xsunj8k3O27212Nerlf4UtA5OKCpAz2XjSPcG6OxGhxe6NArua8Sobb4Un7FrRvgxLsQhwt4CGV3GFSkGSorJ_S3SRlPWFD2VgW8VMvAyqPenJAVXh6AQWA45opLwFqsVB49_XVUv-9cRS9d1oTbIG06hJ2-b3Adew2vX6HOckNoaF-hagdtAmE-aTslmgG38GF4hwbofHCbUALdsDJz728mXsJiTKqHL-DOEIdO1m2gn7W9MXx57wVy-Wu5xJSFhd7kNfMlR2MlpdV6Q=s64",
      "userId": "18357331370165036741"
     },
     "user_tz": -180
    },
    "id": "yM8moE6_7gfX",
    "outputId": "eb9e0fb3-a0de-4410-f8fb-95dece848945"
   },
   "outputs": [],
   "source": [
    "img = torch.tensor([[[-0.6254, -1.4061],\n",
    "                     [-0.0780,  0.3829]],\n",
    "                    \n",
    "                    [[ 0.9516,  0.0839],\n",
    "                     [-0.6721,  0.5566]],\n",
    "                    \n",
    "                    [[ 0.8674, -0.5620],\n",
    "                     [ 0.4436, -1.0338]]])\n",
    "print('np_img:', tensor_to_array(img))"
   ]
  },
  {
   "cell_type": "markdown",
   "metadata": {
    "id": "DphNkFdm7gfX"
   },
   "source": [
    "**Expected output:**\n",
    "    \n",
    "<table>\n",
    "    <tr>\n",
    "        <td><b>np_img</b></td>\n",
    "        <td>[[[0.3417834  0.6691584  0.601165  ]<br>\n",
    "              [0.16300309 0.4747936  0.27955001]]<br><br>\n",
    "             [[0.467138   0.3054496  0.50581   ]<br>\n",
    "              [0.5726841  0.58067839 0.173395  ]]]\n",
    "        </td>\n",
    "    </tr>\n",
    "\n",
    "</table>"
   ]
  },
  {
   "cell_type": "code",
   "execution_count": null,
   "metadata": {
    "executionInfo": {
     "elapsed": 285,
     "status": "ok",
     "timestamp": 1627471825345,
     "user": {
      "displayName": "Andrii Torchylo",
      "photoUrl": "https://lh3.googleusercontent.com/a-/AOh14GhFTWqrU3m-Wp-bUa2OXsooRztUv4cznKjeaEV8YFFpjQygmUGowgZHBW_vtX1MkHaFbXTu_X-7ofPcehpOxdMB6ioGBAESNXPxl7QQUA8tcWsv5CQWVjgOO7zGpy1OYlyhSVCow7xySYmBEb8o-mMBuzgfyBX2d8ZtdTGkIx7YyCCajdzbk0kgCAGFGPxaVtx--pJO4X5PnsLoWquOZ_VlruRtEZ7p7gsSzzwBlhPII6o5J-MOL1TWKl-0kDtS8_kPG1fGuwKmVjY2nXN2oewFaAKc9ajLNHKBCfwQu_nJ0KT4sHWfBIGjebKBa0fk_Xb0DdXgz8eh33PNWk8unTN3862OyaqzPbE4jXgYGRW1WELosWHw59Vkvm9Hdr89I_XP6eHd1-L46_kdP84LAXF9q5nxnFFNCJmLRYSm0Wti3Dn8uc6Ixa9kyx5KqBn4ThycCUKxWN6o2fM0kQ6rxt1KBQeRKuGtSbuM7RM-8cfh2zB4CrHJ_Xsunj8k3O27212Nerlf4UtA5OKCpAz2XjSPcG6OxGhxe6NArua8Sobb4Un7FrRvgxLsQhwt4CGV3GFSkGSorJ_S3SRlPWFD2VgW8VMvAyqPenJAVXh6AQWA45opLwFqsVB49_XVUv-9cRS9d1oTbIG06hJ2-b3Adew2vX6HOckNoaF-hagdtAmE-aTslmgG38GF4hwbofHCbUALdsDJz728mXsJiTKqHL-DOEIdO1m2gn7W9MXx57wVy-Wu5xJSFhd7kNfMlR2MlpdV6Q=s64",
      "userId": "18357331370165036741"
     },
     "user_tz": -180
    },
    "id": "EJrjLcrwp9eg"
   },
   "outputs": [],
   "source": [
    "def show_grid(grid, title=None):\n",
    "    \"\"\"\n",
    "    displays a grid of images\n",
    "    \"\"\"\n",
    "    np_grid = tensor_to_array(grid)\n",
    "    \n",
    "    # display\n",
    "    plt.figure(figsize=(10, 5))\n",
    "    plt.axis('off')\n",
    "    plt.imshow(np_grid)\n",
    "    if title is not None:\n",
    "        plt.title(title) "
   ]
  },
  {
   "cell_type": "markdown",
   "metadata": {
    "id": "7zUbKaeQ7gfY"
   },
   "source": [
    "Now let's use torchvision's utility `make_grid` function to visualize a batch of data from each dataloader."
   ]
  },
  {
   "cell_type": "code",
   "execution_count": null,
   "metadata": {
    "colab": {
     "base_uri": "https://localhost:8080/",
     "height": 527
    },
    "executionInfo": {
     "elapsed": 4995,
     "status": "ok",
     "timestamp": 1627471833081,
     "user": {
      "displayName": "Andrii Torchylo",
      "photoUrl": "https://lh3.googleusercontent.com/a-/AOh14GhFTWqrU3m-Wp-bUa2OXsooRztUv4cznKjeaEV8YFFpjQygmUGowgZHBW_vtX1MkHaFbXTu_X-7ofPcehpOxdMB6ioGBAESNXPxl7QQUA8tcWsv5CQWVjgOO7zGpy1OYlyhSVCow7xySYmBEb8o-mMBuzgfyBX2d8ZtdTGkIx7YyCCajdzbk0kgCAGFGPxaVtx--pJO4X5PnsLoWquOZ_VlruRtEZ7p7gsSzzwBlhPII6o5J-MOL1TWKl-0kDtS8_kPG1fGuwKmVjY2nXN2oewFaAKc9ajLNHKBCfwQu_nJ0KT4sHWfBIGjebKBa0fk_Xb0DdXgz8eh33PNWk8unTN3862OyaqzPbE4jXgYGRW1WELosWHw59Vkvm9Hdr89I_XP6eHd1-L46_kdP84LAXF9q5nxnFFNCJmLRYSm0Wti3Dn8uc6Ixa9kyx5KqBn4ThycCUKxWN6o2fM0kQ6rxt1KBQeRKuGtSbuM7RM-8cfh2zB4CrHJ_Xsunj8k3O27212Nerlf4UtA5OKCpAz2XjSPcG6OxGhxe6NArua8Sobb4Un7FrRvgxLsQhwt4CGV3GFSkGSorJ_S3SRlPWFD2VgW8VMvAyqPenJAVXh6AQWA45opLwFqsVB49_XVUv-9cRS9d1oTbIG06hJ2-b3Adew2vX6HOckNoaF-hagdtAmE-aTslmgG38GF4hwbofHCbUALdsDJz728mXsJiTKqHL-DOEIdO1m2gn7W9MXx57wVy-Wu5xJSFhd7kNfMlR2MlpdV6Q=s64",
      "userId": "18357331370165036741"
     },
     "user_tz": -180
    },
    "id": "2vt6RPGggRbX",
    "outputId": "46c7f6b3-3fe5-4206-cbd9-14f452f2bb84"
   },
   "outputs": [],
   "source": [
    "for name in dataloaders.keys():\n",
    "    imgs, labels = next(dataloaders[name].__iter__()) \n",
    "    out = make_grid(imgs)\n",
    "    show_grid(out, f'{name} samples')"
   ]
  },
  {
   "cell_type": "markdown",
   "metadata": {},
   "source": [
    "# 3 - ResNet\n",
    "\n",
    "ResNet was first proposed in the paper [Deep Residual Learning for Image Recognition](https://arxiv.org/pdf/1512.03385.pdf). Its revolutionary idea to use residual **skip connections** allowed researchers to build even deeper networks without vanishing gradient problems during training. This advancement allowed to improve the state-of-the-art on image classification. At the same time, residual connections became a new standard in building a deep neural network in domains outside of computer vision.\n",
    "\n",
    "The original paper proposed several variations of the ResNet with 18, 34, 50, 101, 152 layers, respectively. In ResNet18 model, there were 18 convolutional layers (denoted **3x3** or **7x7**  on the diagram) followed by pooling layers, **pool**, and **ReLU** activation functions. Starting from the second layer, after every two layers, there is a residual skip connection to improve the flow of gradients through the model. The solid residual is a simple addition, while the dotted residuals increase dimensions before adding the inputs. The output layer is a fully connected layer with 1000 output neurons (ImageNet has 1000 classes), which we will replace with our own linear layer with six output neurons (one for each chess piece).\n",
    "\n",
    "\n",
    "<img src=\"https://dru.fra1.digitaloceanspaces.com/DL_pytorch/static/ntbk_images/resnet_network.png\">"
   ]
  },
  {
   "cell_type": "markdown",
   "metadata": {
    "id": "JS1DESblSqsd"
   },
   "source": [
    "## Creating the model class\n",
    "\n",
    "Here we define the model class itself. First, we import the model from `torchvision` (using `pretrained=True` to download the weights. Then, we replace the last fully connected layer with our own layer that has `num_classes` outputs. For training a ResNet model, we have two options: we can \"freeze\" (set `requires_grad` to False) all parameters of a neural network and train only our fully connected layer, or we can train all parameters, which is computationally more expensive but usually gives better results."
   ]
  },
  {
   "cell_type": "code",
   "execution_count": null,
   "metadata": {
    "executionInfo": {
     "elapsed": 340,
     "status": "ok",
     "timestamp": 1627471840593,
     "user": {
      "displayName": "Andrii Torchylo",
      "photoUrl": "https://lh3.googleusercontent.com/a-/AOh14GhFTWqrU3m-Wp-bUa2OXsooRztUv4cznKjeaEV8YFFpjQygmUGowgZHBW_vtX1MkHaFbXTu_X-7ofPcehpOxdMB6ioGBAESNXPxl7QQUA8tcWsv5CQWVjgOO7zGpy1OYlyhSVCow7xySYmBEb8o-mMBuzgfyBX2d8ZtdTGkIx7YyCCajdzbk0kgCAGFGPxaVtx--pJO4X5PnsLoWquOZ_VlruRtEZ7p7gsSzzwBlhPII6o5J-MOL1TWKl-0kDtS8_kPG1fGuwKmVjY2nXN2oewFaAKc9ajLNHKBCfwQu_nJ0KT4sHWfBIGjebKBa0fk_Xb0DdXgz8eh33PNWk8unTN3862OyaqzPbE4jXgYGRW1WELosWHw59Vkvm9Hdr89I_XP6eHd1-L46_kdP84LAXF9q5nxnFFNCJmLRYSm0Wti3Dn8uc6Ixa9kyx5KqBn4ThycCUKxWN6o2fM0kQ6rxt1KBQeRKuGtSbuM7RM-8cfh2zB4CrHJ_Xsunj8k3O27212Nerlf4UtA5OKCpAz2XjSPcG6OxGhxe6NArua8Sobb4Un7FrRvgxLsQhwt4CGV3GFSkGSorJ_S3SRlPWFD2VgW8VMvAyqPenJAVXh6AQWA45opLwFqsVB49_XVUv-9cRS9d1oTbIG06hJ2-b3Adew2vX6HOckNoaF-hagdtAmE-aTslmgG38GF4hwbofHCbUALdsDJz728mXsJiTKqHL-DOEIdO1m2gn7W9MXx57wVy-Wu5xJSFhd7kNfMlR2MlpdV6Q=s64",
      "userId": "18357331370165036741"
     },
     "user_tz": -180
    },
    "id": "HgaqP6gEHeYi"
   },
   "outputs": [],
   "source": [
    "# VALIDATION_FIELD[cls] ResNet\n",
    "\n",
    "class ResNet(nn.Module):\n",
    "    def __init__(self, freeze=True):\n",
    "        super(ResNet, self).__init__()\n",
    "        self.resnet = torchvision.models.resnet18(pretrained=True)\n",
    "        if freeze:\n",
    "            self.freeze_resnet()\n",
    "        output_features = self.resnet.fc.in_features\n",
    "        self.resnet.fc = nn.Linear(output_features, Config.num_classes)\n",
    "\n",
    "    def freeze_resnet(self):\n",
    "        for param in self.resnet.parameters():\n",
    "            param.requires_grad = False\n",
    "\n",
    "    def forward(self, x):\n",
    "        x = self.resnet(x)\n",
    "        return x"
   ]
  },
  {
   "cell_type": "markdown",
   "metadata": {
    "id": "XPthQGFk8Mmw"
   },
   "source": [
    "# 4 - Training the model\n",
    "\n",
    "We will make few important modifications to our regular training loop:\n",
    "1. Callbacker dictionary that saves metrics and losses \n",
    "2. Dataloaders instead of passing all input data directly to the function. \n",
    "3. Evaluation loop every epoch to check our model performance on the validation set.\n",
    "4. Save our model every time validation loss decreases.\n",
    "5. To count the average loss, we will multiply loss at each iteration by the size of the batch, add it to `train_loss`, and then divide it by a number of examples in a dataset, `len(dataloader.sampler)`\n",
    "\n",
    "**Excercise:** Implement parts of the train and evaluation loop."
   ]
  },
  {
   "cell_type": "code",
   "execution_count": null,
   "metadata": {
    "executionInfo": {
     "elapsed": 243,
     "status": "ok",
     "timestamp": 1627472742419,
     "user": {
      "displayName": "Andrii Torchylo",
      "photoUrl": "https://lh3.googleusercontent.com/a-/AOh14GhFTWqrU3m-Wp-bUa2OXsooRztUv4cznKjeaEV8YFFpjQygmUGowgZHBW_vtX1MkHaFbXTu_X-7ofPcehpOxdMB6ioGBAESNXPxl7QQUA8tcWsv5CQWVjgOO7zGpy1OYlyhSVCow7xySYmBEb8o-mMBuzgfyBX2d8ZtdTGkIx7YyCCajdzbk0kgCAGFGPxaVtx--pJO4X5PnsLoWquOZ_VlruRtEZ7p7gsSzzwBlhPII6o5J-MOL1TWKl-0kDtS8_kPG1fGuwKmVjY2nXN2oewFaAKc9ajLNHKBCfwQu_nJ0KT4sHWfBIGjebKBa0fk_Xb0DdXgz8eh33PNWk8unTN3862OyaqzPbE4jXgYGRW1WELosWHw59Vkvm9Hdr89I_XP6eHd1-L46_kdP84LAXF9q5nxnFFNCJmLRYSm0Wti3Dn8uc6Ixa9kyx5KqBn4ThycCUKxWN6o2fM0kQ6rxt1KBQeRKuGtSbuM7RM-8cfh2zB4CrHJ_Xsunj8k3O27212Nerlf4UtA5OKCpAz2XjSPcG6OxGhxe6NArua8Sobb4Un7FrRvgxLsQhwt4CGV3GFSkGSorJ_S3SRlPWFD2VgW8VMvAyqPenJAVXh6AQWA45opLwFqsVB49_XVUv-9cRS9d1oTbIG06hJ2-b3Adew2vX6HOckNoaF-hagdtAmE-aTslmgG38GF4hwbofHCbUALdsDJz728mXsJiTKqHL-DOEIdO1m2gn7W9MXx57wVy-Wu5xJSFhd7kNfMlR2MlpdV6Q=s64",
      "userId": "18357331370165036741"
     },
     "user_tz": -180
    },
    "id": "ozO3vOp30gET"
   },
   "outputs": [],
   "source": [
    "# VALIDATION_FIELD[func] train\n",
    "\n",
    "def train(model, optimizer, criterion, train_loader, valid_loader,\n",
    "          num_epochs=Config.epochs, valid_loss_min=np.inf, device=Config.device):\n",
    "    callbackers = {}\n",
    "    callbackers['train_loss'] = []\n",
    "    callbackers['valid_loss'] = []\n",
    "    callbackers['accuracy'] = []\n",
    "    callbackers['f1_macro'] = []\n",
    "\n",
    "    for e in range(num_epochs):\n",
    "        train_loss = 0.0\n",
    "        valid_loss = 0.0\n",
    "        ###################\n",
    "        # train the model #\n",
    "        ###################\n",
    "        model.train()\n",
    "        for imgs, labels in train_loader:\n",
    "            ### START CODE HERE ### \n",
    "            # pass the data to the device (≈2 lines of code)\n",
    "            imgs = imgs.clone().detach().to(device)\n",
    "            labels = labels.clone().detach().to(device)\n",
    "            # forward (≈2 lines of code)\n",
    "            out = model.forward(imgs)\n",
    "            loss = criterion(out, labels)\n",
    "            # optimize (≈3 lines of code)\n",
    "            optimizer.zero_grad()\n",
    "            loss.backward()\n",
    "            optimizer.step()\n",
    "            ### END CODE HERE ### \n",
    "            train_loss += loss.item()*imgs.shape[0]\n",
    "        ######################\n",
    "        # evaluate the model #\n",
    "        ######################\n",
    "        model.eval()\n",
    "        with torch.no_grad():\n",
    "            targets, predictions = [], []\n",
    "            for imgs, labels in valid_loader:\n",
    "                ### START CODE HERE ### (≈ 6 lines of code)\n",
    "                imgs = imgs.clone().detach().to(device)\n",
    "                labels = labels.clone().detach().to(device)\n",
    "                out = model.forward(imgs)\n",
    "                loss = criterion(out, labels)\n",
    "                # convert prediction and targets to numpy\n",
    "                prediction = out.argmax(dim=1)\n",
    "                target = labels.clone().detach()\n",
    "                ### END CODE HERE ### \n",
    "                predictions.extend(prediction)\n",
    "                targets.extend(target)\n",
    "                valid_loss += loss.item()*imgs.shape[0]\n",
    "\n",
    "        # calculate metrics\n",
    "        train_loss /= len(train_loader.sampler)\n",
    "        valid_loss /= len(valid_loader.sampler)\n",
    "        acc = accuracy_score(predictions, targets)\n",
    "        f1_macro = f1_score(predictions, targets, average='macro')\n",
    "\n",
    "        # print values\n",
    "        print(f'Epoch: {e+1} TrainLoss: {train_loss:.3f} ValidLoss: {valid_loss:.3f} ACC: {acc:.3f} F1_MACRO: {f1_macro}')\n",
    "        \n",
    "        # save metrics\n",
    "        callbackers['train_loss'].append(train_loss)\n",
    "        callbackers['valid_loss'].append(valid_loss)\n",
    "        callbackers['accuracy'].append(acc)\n",
    "        callbackers['f1_macro'].append(f1_macro)\n",
    "\n",
    "        ######################\n",
    "        #   save the model   #\n",
    "        ######################\n",
    "        if valid_loss <= valid_loss_min:\n",
    "            torch.save(model.state_dict(), 'ResNet.pt')\n",
    "            valid_loss_min = valid_loss\n",
    "        \n",
    "    return callbackers"
   ]
  },
  {
   "cell_type": "code",
   "execution_count": null,
   "metadata": {
    "executionInfo": {
     "elapsed": 3,
     "status": "ok",
     "timestamp": 1627472744233,
     "user": {
      "displayName": "Andrii Torchylo",
      "photoUrl": "https://lh3.googleusercontent.com/a-/AOh14GhFTWqrU3m-Wp-bUa2OXsooRztUv4cznKjeaEV8YFFpjQygmUGowgZHBW_vtX1MkHaFbXTu_X-7ofPcehpOxdMB6ioGBAESNXPxl7QQUA8tcWsv5CQWVjgOO7zGpy1OYlyhSVCow7xySYmBEb8o-mMBuzgfyBX2d8ZtdTGkIx7YyCCajdzbk0kgCAGFGPxaVtx--pJO4X5PnsLoWquOZ_VlruRtEZ7p7gsSzzwBlhPII6o5J-MOL1TWKl-0kDtS8_kPG1fGuwKmVjY2nXN2oewFaAKc9ajLNHKBCfwQu_nJ0KT4sHWfBIGjebKBa0fk_Xb0DdXgz8eh33PNWk8unTN3862OyaqzPbE4jXgYGRW1WELosWHw59Vkvm9Hdr89I_XP6eHd1-L46_kdP84LAXF9q5nxnFFNCJmLRYSm0Wti3Dn8uc6Ixa9kyx5KqBn4ThycCUKxWN6o2fM0kQ6rxt1KBQeRKuGtSbuM7RM-8cfh2zB4CrHJ_Xsunj8k3O27212Nerlf4UtA5OKCpAz2XjSPcG6OxGhxe6NArua8Sobb4Un7FrRvgxLsQhwt4CGV3GFSkGSorJ_S3SRlPWFD2VgW8VMvAyqPenJAVXh6AQWA45opLwFqsVB49_XVUv-9cRS9d1oTbIG06hJ2-b3Adew2vX6HOckNoaF-hagdtAmE-aTslmgG38GF4hwbofHCbUALdsDJz728mXsJiTKqHL-DOEIdO1m2gn7W9MXx57wVy-Wu5xJSFhd7kNfMlR2MlpdV6Q=s64",
      "userId": "18357331370165036741"
     },
     "user_tz": -180
    },
    "id": "JD2r85IPQiwz"
   },
   "outputs": [],
   "source": [
    "def visualize_callbackers(callbackers):\n",
    "    fig, ax =  plt.subplots(2, 1, figsize=(10, 6))\n",
    "    ax[0].plot(callbackers['train_loss'], label='Train Loss')\n",
    "    ax[0].plot(callbackers['valid_loss'], label='Valid Loss')\n",
    "    ax[0].set_title('Losses')\n",
    "    ax[0].legend()\n",
    "    ax[1].plot(callbackers['accuracy'], label='Accuracy')\n",
    "    ax[1].plot(callbackers['f1_macro'], label='F1-macro')\n",
    "    ax[1].set_title('Classification metrics')\n",
    "    ax[1].legend()\n",
    "    plt.tight_layout()\n",
    "    plt.show()"
   ]
  },
  {
   "cell_type": "markdown",
   "metadata": {
    "id": "htpy9nuEg0Lo"
   },
   "source": [
    "# 5 - Evaluating the model\n",
    "\n",
    "Let's also implement our regular evaluation loop that will run the model evaluation on the test set <br>\n",
    "**Excercise:** implement function `evaluate`\n",
    "\n",
    "**Hints:**\n",
    "* To effectively compute predictions consider using `torch.argmax`\n",
    "* Don't forget to call `cpu()` and `numpy()` when appropriate.\n",
    "* Make sure that targets and predictions in the output of the function is a list of integers"
   ]
  },
  {
   "cell_type": "code",
   "execution_count": null,
   "metadata": {
    "executionInfo": {
     "elapsed": 312,
     "status": "ok",
     "timestamp": 1627472746787,
     "user": {
      "displayName": "Andrii Torchylo",
      "photoUrl": "https://lh3.googleusercontent.com/a-/AOh14GhFTWqrU3m-Wp-bUa2OXsooRztUv4cznKjeaEV8YFFpjQygmUGowgZHBW_vtX1MkHaFbXTu_X-7ofPcehpOxdMB6ioGBAESNXPxl7QQUA8tcWsv5CQWVjgOO7zGpy1OYlyhSVCow7xySYmBEb8o-mMBuzgfyBX2d8ZtdTGkIx7YyCCajdzbk0kgCAGFGPxaVtx--pJO4X5PnsLoWquOZ_VlruRtEZ7p7gsSzzwBlhPII6o5J-MOL1TWKl-0kDtS8_kPG1fGuwKmVjY2nXN2oewFaAKc9ajLNHKBCfwQu_nJ0KT4sHWfBIGjebKBa0fk_Xb0DdXgz8eh33PNWk8unTN3862OyaqzPbE4jXgYGRW1WELosWHw59Vkvm9Hdr89I_XP6eHd1-L46_kdP84LAXF9q5nxnFFNCJmLRYSm0Wti3Dn8uc6Ixa9kyx5KqBn4ThycCUKxWN6o2fM0kQ6rxt1KBQeRKuGtSbuM7RM-8cfh2zB4CrHJ_Xsunj8k3O27212Nerlf4UtA5OKCpAz2XjSPcG6OxGhxe6NArua8Sobb4Un7FrRvgxLsQhwt4CGV3GFSkGSorJ_S3SRlPWFD2VgW8VMvAyqPenJAVXh6AQWA45opLwFqsVB49_XVUv-9cRS9d1oTbIG06hJ2-b3Adew2vX6HOckNoaF-hagdtAmE-aTslmgG38GF4hwbofHCbUALdsDJz728mXsJiTKqHL-DOEIdO1m2gn7W9MXx57wVy-Wu5xJSFhd7kNfMlR2MlpdV6Q=s64",
      "userId": "18357331370165036741"
     },
     "user_tz": -180
    },
    "id": "rktCxbwhgujD"
   },
   "outputs": [],
   "source": [
    "# VALIDATION_FIELD[func] evaluate\n",
    "\n",
    "def evaluate(model, criterion, test_loader, device=Config.device): \n",
    "    model.eval()\n",
    "    with torch.no_grad():\n",
    "        targets, predictions = [], []\n",
    "        overall_loss = 0\n",
    "        for imgs, labels in test_loader:\n",
    "            ### START CODE HERE ### (≈6 lines of code)\n",
    "            imgs = imgs.clone().detach().to(device)\n",
    "            labels = labels.clone().detach().to(device)\n",
    "            out = model.forward(imgs)\n",
    "            loss = criterion(out, labels)\n",
    "            prediction = out.argmax(dim=1)\n",
    "            target = labels.clone().detach()\n",
    "            ### END CODE HERE ### \n",
    "            targets.extend(target)\n",
    "            predictions.extend(prediction)\n",
    "            overall_loss += loss.item()*imgs.shape[0]\n",
    "        overall_loss /= len(test_loader.sampler)\n",
    "        accuracy = accuracy_score(targets, predictions)\n",
    "        f1_macro = f1_score(targets, predictions, average='macro')\n",
    "        return {'targets': targets,\n",
    "                'predictions': predictions,\n",
    "                'accuracy': accuracy,\n",
    "                'f1_macro': f1_macro,\n",
    "                'loss': overall_loss\n",
    "                }"
   ]
  },
  {
   "cell_type": "code",
   "execution_count": null,
   "metadata": {
    "executionInfo": {
     "elapsed": 3,
     "status": "ok",
     "timestamp": 1627472748021,
     "user": {
      "displayName": "Andrii Torchylo",
      "photoUrl": "https://lh3.googleusercontent.com/a-/AOh14GhFTWqrU3m-Wp-bUa2OXsooRztUv4cznKjeaEV8YFFpjQygmUGowgZHBW_vtX1MkHaFbXTu_X-7ofPcehpOxdMB6ioGBAESNXPxl7QQUA8tcWsv5CQWVjgOO7zGpy1OYlyhSVCow7xySYmBEb8o-mMBuzgfyBX2d8ZtdTGkIx7YyCCajdzbk0kgCAGFGPxaVtx--pJO4X5PnsLoWquOZ_VlruRtEZ7p7gsSzzwBlhPII6o5J-MOL1TWKl-0kDtS8_kPG1fGuwKmVjY2nXN2oewFaAKc9ajLNHKBCfwQu_nJ0KT4sHWfBIGjebKBa0fk_Xb0DdXgz8eh33PNWk8unTN3862OyaqzPbE4jXgYGRW1WELosWHw59Vkvm9Hdr89I_XP6eHd1-L46_kdP84LAXF9q5nxnFFNCJmLRYSm0Wti3Dn8uc6Ixa9kyx5KqBn4ThycCUKxWN6o2fM0kQ6rxt1KBQeRKuGtSbuM7RM-8cfh2zB4CrHJ_Xsunj8k3O27212Nerlf4UtA5OKCpAz2XjSPcG6OxGhxe6NArua8Sobb4Un7FrRvgxLsQhwt4CGV3GFSkGSorJ_S3SRlPWFD2VgW8VMvAyqPenJAVXh6AQWA45opLwFqsVB49_XVUv-9cRS9d1oTbIG06hJ2-b3Adew2vX6HOckNoaF-hagdtAmE-aTslmgG38GF4hwbofHCbUALdsDJz728mXsJiTKqHL-DOEIdO1m2gn7W9MXx57wVy-Wu5xJSFhd7kNfMlR2MlpdV6Q=s64",
      "userId": "18357331370165036741"
     },
     "user_tz": -180
    },
    "id": "qndkd0XfhjkO"
   },
   "outputs": [],
   "source": [
    "def draw_confusion(targets, predictions):\n",
    "    confusion = confusion_matrix(targets, predictions)\n",
    "    plt.figure(figsize=(8, 6))\n",
    "    sns.heatmap(confusion, annot=True, cbar=False,\n",
    "                xticklabels=Config.classes,\n",
    "                yticklabels=Config.classes)\n",
    "    plt.ylabel('Predicted class')\n",
    "    plt.xlabel('Actual class')\n",
    "    plt.show()"
   ]
  },
  {
   "cell_type": "markdown",
   "metadata": {
    "id": "ev1ERKivofMA"
   },
   "source": [
    "# 6 - \"frozen\" vs. full\n",
    "\n",
    "**Note:** you don't have to wait for the model to finish training to submit the lab. We evaluate your code only in cells where we ask you to implement a funciton or a class."
   ]
  },
  {
   "cell_type": "markdown",
   "metadata": {
    "id": "E3LwHk2upi4S"
   },
   "source": [
    "## Training \"frozen\" model\n",
    "\n",
    "Train loss after 30 epochs should be around 0.854."
   ]
  },
  {
   "cell_type": "code",
   "execution_count": null,
   "metadata": {
    "colab": {
     "base_uri": "https://localhost:8080/",
     "height": 1000
    },
    "executionInfo": {
     "elapsed": 266983,
     "status": "ok",
     "timestamp": 1627473026285,
     "user": {
      "displayName": "Andrii Torchylo",
      "photoUrl": "https://lh3.googleusercontent.com/a-/AOh14GhFTWqrU3m-Wp-bUa2OXsooRztUv4cznKjeaEV8YFFpjQygmUGowgZHBW_vtX1MkHaFbXTu_X-7ofPcehpOxdMB6ioGBAESNXPxl7QQUA8tcWsv5CQWVjgOO7zGpy1OYlyhSVCow7xySYmBEb8o-mMBuzgfyBX2d8ZtdTGkIx7YyCCajdzbk0kgCAGFGPxaVtx--pJO4X5PnsLoWquOZ_VlruRtEZ7p7gsSzzwBlhPII6o5J-MOL1TWKl-0kDtS8_kPG1fGuwKmVjY2nXN2oewFaAKc9ajLNHKBCfwQu_nJ0KT4sHWfBIGjebKBa0fk_Xb0DdXgz8eh33PNWk8unTN3862OyaqzPbE4jXgYGRW1WELosWHw59Vkvm9Hdr89I_XP6eHd1-L46_kdP84LAXF9q5nxnFFNCJmLRYSm0Wti3Dn8uc6Ixa9kyx5KqBn4ThycCUKxWN6o2fM0kQ6rxt1KBQeRKuGtSbuM7RM-8cfh2zB4CrHJ_Xsunj8k3O27212Nerlf4UtA5OKCpAz2XjSPcG6OxGhxe6NArua8Sobb4Un7FrRvgxLsQhwt4CGV3GFSkGSorJ_S3SRlPWFD2VgW8VMvAyqPenJAVXh6AQWA45opLwFqsVB49_XVUv-9cRS9d1oTbIG06hJ2-b3Adew2vX6HOckNoaF-hagdtAmE-aTslmgG38GF4hwbofHCbUALdsDJz728mXsJiTKqHL-DOEIdO1m2gn7W9MXx57wVy-Wu5xJSFhd7kNfMlR2MlpdV6Q=s64",
      "userId": "18357331370165036741"
     },
     "user_tz": -180
    },
    "id": "nq_dZ_o-2-0f",
    "outputId": "b2521c11-c3d3-4165-9ae5-2ce1f3f00a48"
   },
   "outputs": [],
   "source": [
    "set_seed(Config.seed)\n",
    "model = ResNet(freeze=True).to(Config.device)\n",
    "optimizer = optim.Adam(model.parameters(), lr=Config.learning_rate)\n",
    "criterion = nn.CrossEntropyLoss()\n",
    "callbackers = train(model, optimizer, criterion, dataloaders['train'], dataloaders['valid'])\n",
    "visualize_callbackers(callbackers)"
   ]
  },
  {
   "cell_type": "code",
   "execution_count": null,
   "metadata": {
    "colab": {
     "base_uri": "https://localhost:8080/",
     "height": 439
    },
    "executionInfo": {
     "elapsed": 2843,
     "status": "ok",
     "timestamp": 1627473148421,
     "user": {
      "displayName": "Andrii Torchylo",
      "photoUrl": "https://lh3.googleusercontent.com/a-/AOh14GhFTWqrU3m-Wp-bUa2OXsooRztUv4cznKjeaEV8YFFpjQygmUGowgZHBW_vtX1MkHaFbXTu_X-7ofPcehpOxdMB6ioGBAESNXPxl7QQUA8tcWsv5CQWVjgOO7zGpy1OYlyhSVCow7xySYmBEb8o-mMBuzgfyBX2d8ZtdTGkIx7YyCCajdzbk0kgCAGFGPxaVtx--pJO4X5PnsLoWquOZ_VlruRtEZ7p7gsSzzwBlhPII6o5J-MOL1TWKl-0kDtS8_kPG1fGuwKmVjY2nXN2oewFaAKc9ajLNHKBCfwQu_nJ0KT4sHWfBIGjebKBa0fk_Xb0DdXgz8eh33PNWk8unTN3862OyaqzPbE4jXgYGRW1WELosWHw59Vkvm9Hdr89I_XP6eHd1-L46_kdP84LAXF9q5nxnFFNCJmLRYSm0Wti3Dn8uc6Ixa9kyx5KqBn4ThycCUKxWN6o2fM0kQ6rxt1KBQeRKuGtSbuM7RM-8cfh2zB4CrHJ_Xsunj8k3O27212Nerlf4UtA5OKCpAz2XjSPcG6OxGhxe6NArua8Sobb4Un7FrRvgxLsQhwt4CGV3GFSkGSorJ_S3SRlPWFD2VgW8VMvAyqPenJAVXh6AQWA45opLwFqsVB49_XVUv-9cRS9d1oTbIG06hJ2-b3Adew2vX6HOckNoaF-hagdtAmE-aTslmgG38GF4hwbofHCbUALdsDJz728mXsJiTKqHL-DOEIdO1m2gn7W9MXx57wVy-Wu5xJSFhd7kNfMlR2MlpdV6Q=s64",
      "userId": "18357331370165036741"
     },
     "user_tz": -180
    },
    "id": "mRsZ-FpniZAn",
    "outputId": "76a4f733-c689-4687-a52c-77f5a6de2f3e"
   },
   "outputs": [],
   "source": [
    "# Load the best model\n",
    "model.load_state_dict(torch.load('ResNet.pt'))\n",
    "results = evaluate(model, criterion, dataloaders['test'])\n",
    "print('Test Loss:', results['loss'])\n",
    "print('Test Accuracy:', results['accuracy'])\n",
    "print('Test F1 Macro:', results['f1_macro'])\n",
    "draw_confusion(results['targets'], results['predictions'])"
   ]
  },
  {
   "cell_type": "markdown",
   "metadata": {
    "id": "9s6eKlQX9fcz"
   },
   "source": [
    "**Expected output:**\n",
    "    \n",
    "<table>\n",
    "    <tr>\n",
    "        <td><b>Test Loss</b></td>\n",
    "        <td>1.066782832145691\n",
    "        </td>\n",
    "    </tr>\n",
    "    <tr>\n",
    "        <td><b>Test Accuracy</b></td>\n",
    "        <td>0.5833333333333334\n",
    "        </td>\n",
    "    </tr>\n",
    "    <tr>\n",
    "        <td><b>Test F1 Macro</b></td>\n",
    "        <td>0.5721092524836143\n",
    "        </td>\n",
    "    </tr>\n",
    "\n",
    "</table>"
   ]
  },
  {
   "cell_type": "markdown",
   "metadata": {
    "id": "cooe13kappxZ"
   },
   "source": [
    "## Training the full model\n",
    "\n",
    "Training loss after 30 epochs should be around 0.628."
   ]
  },
  {
   "cell_type": "code",
   "execution_count": null,
   "metadata": {
    "colab": {
     "base_uri": "https://localhost:8080/"
    },
    "executionInfo": {
     "elapsed": 255691,
     "status": "ok",
     "timestamp": 1627473875454,
     "user": {
      "displayName": "Andrii Torchylo",
      "photoUrl": "https://lh3.googleusercontent.com/a-/AOh14GhFTWqrU3m-Wp-bUa2OXsooRztUv4cznKjeaEV8YFFpjQygmUGowgZHBW_vtX1MkHaFbXTu_X-7ofPcehpOxdMB6ioGBAESNXPxl7QQUA8tcWsv5CQWVjgOO7zGpy1OYlyhSVCow7xySYmBEb8o-mMBuzgfyBX2d8ZtdTGkIx7YyCCajdzbk0kgCAGFGPxaVtx--pJO4X5PnsLoWquOZ_VlruRtEZ7p7gsSzzwBlhPII6o5J-MOL1TWKl-0kDtS8_kPG1fGuwKmVjY2nXN2oewFaAKc9ajLNHKBCfwQu_nJ0KT4sHWfBIGjebKBa0fk_Xb0DdXgz8eh33PNWk8unTN3862OyaqzPbE4jXgYGRW1WELosWHw59Vkvm9Hdr89I_XP6eHd1-L46_kdP84LAXF9q5nxnFFNCJmLRYSm0Wti3Dn8uc6Ixa9kyx5KqBn4ThycCUKxWN6o2fM0kQ6rxt1KBQeRKuGtSbuM7RM-8cfh2zB4CrHJ_Xsunj8k3O27212Nerlf4UtA5OKCpAz2XjSPcG6OxGhxe6NArua8Sobb4Un7FrRvgxLsQhwt4CGV3GFSkGSorJ_S3SRlPWFD2VgW8VMvAyqPenJAVXh6AQWA45opLwFqsVB49_XVUv-9cRS9d1oTbIG06hJ2-b3Adew2vX6HOckNoaF-hagdtAmE-aTslmgG38GF4hwbofHCbUALdsDJz728mXsJiTKqHL-DOEIdO1m2gn7W9MXx57wVy-Wu5xJSFhd7kNfMlR2MlpdV6Q=s64",
      "userId": "18357331370165036741"
     },
     "user_tz": -180
    },
    "id": "xVD-gLMHdL8X",
    "outputId": "02f32e7a-03e4-4579-fdf7-8e9ca68acec7"
   },
   "outputs": [],
   "source": [
    "set_seed(Config.seed)\n",
    "model = ResNet(freeze=False).to(Config.device)\n",
    "optimizer = optim.Adam(model.parameters(), lr=Config.learning_rate)\n",
    "callbackers = train(model, optimizer, criterion, dataloaders['train'], dataloaders['valid'], num_epochs=Config.epochs)"
   ]
  },
  {
   "cell_type": "code",
   "execution_count": null,
   "metadata": {
    "colab": {
     "base_uri": "https://localhost:8080/",
     "height": 439
    },
    "executionInfo": {
     "elapsed": 2374,
     "status": "ok",
     "timestamp": 1627473936306,
     "user": {
      "displayName": "Andrii Torchylo",
      "photoUrl": "https://lh3.googleusercontent.com/a-/AOh14GhFTWqrU3m-Wp-bUa2OXsooRztUv4cznKjeaEV8YFFpjQygmUGowgZHBW_vtX1MkHaFbXTu_X-7ofPcehpOxdMB6ioGBAESNXPxl7QQUA8tcWsv5CQWVjgOO7zGpy1OYlyhSVCow7xySYmBEb8o-mMBuzgfyBX2d8ZtdTGkIx7YyCCajdzbk0kgCAGFGPxaVtx--pJO4X5PnsLoWquOZ_VlruRtEZ7p7gsSzzwBlhPII6o5J-MOL1TWKl-0kDtS8_kPG1fGuwKmVjY2nXN2oewFaAKc9ajLNHKBCfwQu_nJ0KT4sHWfBIGjebKBa0fk_Xb0DdXgz8eh33PNWk8unTN3862OyaqzPbE4jXgYGRW1WELosWHw59Vkvm9Hdr89I_XP6eHd1-L46_kdP84LAXF9q5nxnFFNCJmLRYSm0Wti3Dn8uc6Ixa9kyx5KqBn4ThycCUKxWN6o2fM0kQ6rxt1KBQeRKuGtSbuM7RM-8cfh2zB4CrHJ_Xsunj8k3O27212Nerlf4UtA5OKCpAz2XjSPcG6OxGhxe6NArua8Sobb4Un7FrRvgxLsQhwt4CGV3GFSkGSorJ_S3SRlPWFD2VgW8VMvAyqPenJAVXh6AQWA45opLwFqsVB49_XVUv-9cRS9d1oTbIG06hJ2-b3Adew2vX6HOckNoaF-hagdtAmE-aTslmgG38GF4hwbofHCbUALdsDJz728mXsJiTKqHL-DOEIdO1m2gn7W9MXx57wVy-Wu5xJSFhd7kNfMlR2MlpdV6Q=s64",
      "userId": "18357331370165036741"
     },
     "user_tz": -180
    },
    "id": "MOaGhdn4kEBG",
    "outputId": "9ea8cdb4-bf3e-4f70-993a-131c417ebc6d"
   },
   "outputs": [],
   "source": [
    "# Load the best model\n",
    "model.load_state_dict(torch.load('ResNet.pt'))\n",
    "results = evaluate(model, criterion, dataloaders['test'])\n",
    "print('Test Loss:', results['loss'])\n",
    "print('Test Accuracy:', results['accuracy'])\n",
    "print('Test F1 Macro:', results['f1_macro'])\n",
    "draw_confusion(results['targets'], results['predictions'])"
   ]
  },
  {
   "cell_type": "markdown",
   "metadata": {
    "id": "z51HJX9xAdCs"
   },
   "source": [
    "**Expected output:**\n",
    "    \n",
    "<table>\n",
    "    <tr>\n",
    "        <td><b>Test Loss</b></td>\n",
    "        <td>0.5063939381528784\n",
    "        </td>\n",
    "    </tr>\n",
    "    <tr>\n",
    "        <td><b>Test Accuracy</b></td>\n",
    "        <td>0.8703703703703703\n",
    "        </td>\n",
    "    </tr>\n",
    "    <tr>\n",
    "        <td><b>Test F1 Macro</b></td>\n",
    "        <td>0.8524070691111768\n",
    "        </td>\n",
    "    </tr>\n",
    "\n",
    "</table>"
   ]
  },
  {
   "cell_type": "markdown",
   "metadata": {
    "id": "12lOm9O9k7nl"
   },
   "source": [
    "**Interpretation:** not surprisingly, training a full model gave us a better accuracy than freezing a part of it. This is because training all parameters allows the model to learn task-specific features, including some specific edges of chess pieces in our case. Whereas training a \"frozen\" network, we only create a linear mapping from some features that ResNet learned on ImageNet to classes of our chess pieces, which might be not as effective but computationally faster."
   ]
  },
  {
   "cell_type": "markdown",
   "metadata": {
    "id": "qjF999lcmL45"
   },
   "source": [
    "# 6 - What to do next\n",
    "\n",
    "1. Submit your lab to `@DRU bot`. Don't worry if your accuracy is not that high; you don't have to wait for the model to finish training to submit the lab.  <br>\n",
    "2. After you submit your lab, try playing with model architecture and hyperparameters. Add metrics to callbackers and see how they change during the training process. Experiment with the loss scaling method, just like we did in the Multi-Class Classification problem in the previous module."
   ]
  }
 ],
 "metadata": {
  "accelerator": "GPU",
  "colab": {
   "collapsed_sections": [],
   "name": "ResNet_Transfer_Learning_solution.ipynb",
   "provenance": []
  },
  "kernelspec": {
   "name": "python3",
   "language": "python",
   "display_name": "Python 3 (ipykernel)"
  },
  "language_info": {
   "codemirror_mode": {
    "name": "ipython",
    "version": 3
   },
   "file_extension": ".py",
   "mimetype": "text/x-python",
   "name": "python",
   "nbconvert_exporter": "python",
   "pygments_lexer": "ipython3",
   "version": "3.9.7"
  }
 },
 "nbformat": 4,
 "nbformat_minor": 4
}
